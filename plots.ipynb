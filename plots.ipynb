{
 "cells": [
  {
   "cell_type": "code",
   "execution_count": null,
   "metadata": {},
   "outputs": [],
   "source": [
    "import pandas as pd"
   ]
  },
  {
   "cell_type": "code",
   "execution_count": null,
   "metadata": {},
   "outputs": [],
   "source": [
    "df=pd.DataFrame(columns=('team','agent_id','values'))\n",
    "team_names=('red','blue')\n",
    "num_players_per_team=3\n",
    "for team in team_names:\n",
    "    for agent_id in range(num_players_per_team):\n",
    "        datatmp=np.load('checkpoint-1050_values_'+team+'_'+str(agent_id)+'.npy',allow_pickle=True).flatten()\n",
    "        df=df.append({'team':team,'agent_id':agent_id,'val':datatmp},ignore_index=True)\n",
    "corr_matrix=pd.DataFrame.from_dict(dict(zip(df.val.index, df.val.values))).corr(method='spearman')"
   ]
  }
 ],
 "metadata": {
  "interpreter": {
   "hash": "519c3646e46e87a9b4521f30b0c71a5bab07601a45b52f63f01adb46cf5a2090"
  },
  "kernelspec": {
   "display_name": "Python 3.8.12 64-bit ('marl': conda)",
   "language": "python",
   "name": "python3"
  },
  "language_info": {
   "codemirror_mode": {
    "name": "ipython",
    "version": 3
   },
   "file_extension": ".py",
   "mimetype": "text/x-python",
   "name": "python",
   "nbconvert_exporter": "python",
   "pygments_lexer": "ipython3",
   "version": "3.8.12"
  },
  "orig_nbformat": 4
 },
 "nbformat": 4,
 "nbformat_minor": 2
}
