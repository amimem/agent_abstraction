{
 "cells": [
  {
   "cell_type": "markdown",
   "metadata": {},
   "source": [
    "# Emergence of teams\n",
    "Version: 2022-04-19 - Authors: Guillaume Dumas, Maximilian Puelma Touzel"
   ]
  },
  {
   "cell_type": "markdown",
   "metadata": {},
   "source": [
    "## Random policy generation"
   ]
  },
  {
   "cell_type": "code",
   "execution_count": 1,
   "metadata": {
    "scrolled": true
   },
   "outputs": [
    {
     "data": {
      "text/plain": [
       "33554432"
      ]
     },
     "execution_count": 1,
     "metadata": {},
     "output_type": "execute_result"
    }
   ],
   "source": [
    "import numpy as np\n",
    "from tqdm import tqdm, trange\n",
    "import pylab as pl\n",
    "# For each timepoint, each agent can choose to do action 0, action 1, ..., or action (n_actions)\n",
    "# The next action is function of the last (n_memory) actions of all agents i.e. (n_actions ** (n_agents * n_memory)) possibilities\n",
    "# The policy of the (n_agents) agent can be set to fully random, with beta=0, to identical to all the other agents of the same team, with beta=1\n",
    "# For each team, the subselection of (beta * n_states) actions are taken as a similar random choice for each team.\n",
    "\n",
    "# WARNING: the numbers of states can become very large quickly!\n",
    "\n",
    "n_actions = 2\n",
    "n_agents = 25\n",
    "n_teams = 5\n",
    "n_memory = 1\n",
    "n_steps = 10000\n",
    "\n",
    "n_states = n_actions ** (n_agents * n_memory)\n",
    "n_states"
   ]
  },
  {
   "cell_type": "code",
   "execution_count": 2,
   "metadata": {},
   "outputs": [],
   "source": [
    "avg_pairwise_correlation = 0.5"
   ]
  },
  {
   "cell_type": "markdown",
   "metadata": {},
   "source": [
    "### Homogeneous case"
   ]
  },
  {
   "cell_type": "markdown",
   "metadata": {},
   "source": [
    "Old method: (fixed fraction of actions)"
   ]
  },
  {
   "cell_type": "code",
   "execution_count": 3,
   "metadata": {
    "scrolled": true
   },
   "outputs": [],
   "source": [
    "# # initialize agents with random policies\n",
    "# policies = np.zeros((n_agents, n_states))\n",
    "# for agent in trange(n_agents):\n",
    "#    policies[agent, :] = np.random.randint(0, n_actions, n_states)\n",
    "# policies[0, :]\n",
    "# # copy fraction of policies for each team\n",
    "# team_size = int(n_agents/n_teams)\n",
    "# n_similar_actions = int(n_states * beta)\n",
    "\n",
    "# for team in trange(n_teams):\n",
    "#     team_index = range(team * team_size, (team+1) * team_size)\n",
    "#     similar_action_index = np.random.permutation(n_states)[:n_similar_actions]\n",
    "#     for agent in team_index:\n",
    "#         policies[agent, similar_action_index] = policies[team_index[0], :][similar_action_index]\n",
    "\n",
    "# policies[team_index, :][:, similar_action_index].shape"
   ]
  },
  {
   "cell_type": "markdown",
   "metadata": {},
   "source": [
    "New method: (variable fraction of actions, fixed mean)"
   ]
  },
  {
   "cell_type": "code",
   "execution_count": 4,
   "metadata": {
    "scrolled": true
   },
   "outputs": [
    {
     "name": "stderr",
     "output_type": "stream",
     "text": [
      "100%|████████████████████████████████████████████| 5/5 [00:21<00:00,  4.20s/it]\n"
     ]
    }
   ],
   "source": [
    "policies = np.zeros((n_agents, n_states),dtype=bool)\n",
    "team_size = int(n_agents/n_teams)\n",
    "rng = np.random.default_rng(12345)\n",
    "agent_indices_bool = np.zeros(n_agents,dtype=bool)\n",
    "for team in trange(n_teams):\n",
    "    agent_indices = range(team * team_size, (team+1) * team_size)\n",
    "    agent_indices_bool[agent_indices]=True\n",
    "    #joint actions for a group are assigned as same over the group, else random\n",
    "    is_same=(avg_pairwise_correlation>rng.random(n_states)) #TODO: add more than binary ations \n",
    "#     is_same=(avg_pairwise_correlation>np.random.rand(0, n_actions, n_states)) #joint actions for a group are assigned as same over the group, else random\n",
    "    n_same=np.sum(is_same)\n",
    "    n_diff=n_states-n_same\n",
    "    policies[np.ix_(agent_indices_bool, is_same)]= np.random.randint(0, n_actions, n_same)[np.newaxis,:]\n",
    "    policies[np.ix_(agent_indices_bool, ~is_same)]= np.random.randint(0, n_actions, [team_size,n_diff])\n",
    "    agent_indices_bool[agent_indices]=False #reset"
   ]
  },
  {
   "cell_type": "markdown",
   "metadata": {},
   "source": [
    "### Heterogeneous case"
   ]
  },
  {
   "cell_type": "code",
   "execution_count": 5,
   "metadata": {},
   "outputs": [
    {
     "name": "stderr",
     "output_type": "stream",
     "text": [
      "100%|████████████████████████████████████████████| 5/5 [01:05<00:00, 13.17s/it]\n"
     ]
    }
   ],
   "source": [
    "policies = np.zeros((n_agents, n_states),dtype=bool)\n",
    "team_size = int(n_agents/n_teams)\n",
    "rng = np.random.default_rng(12345)\n",
    "agent_indices_bool = np.zeros(n_agents, dtype=bool)\n",
    "rho=np.sin(np.pi/2*avg_pairwise_correlation)\n",
    "for team in trange(n_teams):\n",
    "    agent_indices = range(team * team_size, (team+1) * team_size)\n",
    "    agent_indices_bool[agent_indices]=True\n",
    "    policies[agent_indices_bool, :] = ((np.sqrt(1 - rho)*rng.normal(size = (team_size, n_states)) + np.sqrt(rho)*rng.normal(size = n_states)[np.newaxis,:]) > 0)\n",
    "    agent_indices_bool[agent_indices] = False"
   ]
  },
  {
   "cell_type": "markdown",
   "metadata": {},
   "source": [
    "## Simulation"
   ]
  },
  {
   "cell_type": "code",
   "execution_count": 7,
   "metadata": {
    "scrolled": true
   },
   "outputs": [
    {
     "name": "stderr",
     "output_type": "stream",
     "text": [
      "100%|█████████████████████████████████| 10000/10000 [00:00<00:00, 14821.85it/s]\n"
     ]
    }
   ],
   "source": [
    "def binary2index(var):\n",
    "    return np.sum([2**n for n in range(n_agents*n_memory)] * var.flatten()).astype(int)\n",
    "# initialize past with random actions\n",
    "past_array = np.zeros((n_agents, n_memory))\n",
    "for p in range(n_memory):\n",
    "    past_array[:, p] = np.random.randint(0, n_actions, n_agents)\n",
    "past_index = binary2index(past_array)\n",
    "# generate the simulation\n",
    "sims = np.zeros((n_steps, n_agents)) * np.nan\n",
    "for t in trange(n_steps):\n",
    "    sims[t, :] = policies[:, past_index]\n",
    "    past_array[:, :-1] = past_array[:, 1:]\n",
    "    past_array[:, -1] = sims[t, :]\n",
    "    past_index = binary2index(past_array)"
   ]
  },
  {
   "cell_type": "markdown",
   "metadata": {},
   "source": [
    "## dataset analysis"
   ]
  },
  {
   "cell_type": "code",
   "execution_count": 8,
   "metadata": {},
   "outputs": [
    {
     "data": {
      "image/png": "[encoded data removed]",
      "text/plain": [
       "<Figure size 3600x216 with 1 Axes>"
      ]
     },
     "metadata": {
      "needs_background": "light"
     },
     "output_type": "display_data"
    }
   ],
   "source": [
    "import matplotlib.pyplot as plt\n",
    "\n",
    "# visualize the simulation\n",
    "plt.figure(figsize=(50, 3))\n",
    "plt.pcolor(sims.T)\n",
    "plt.grid('on', color='k')\n",
    "plt.tight_layout()\n",
    "plt.savefig(f\"{rho}.png\")\n"
   ]
  },
  {
   "cell_type": "code",
   "execution_count": 9,
   "metadata": {
    "scrolled": true
   },
   "outputs": [
    {
     "data": {
      "text/plain": [
       "<matplotlib.image.AxesImage at 0x2f3c7b709e8>"
      ]
     },
     "execution_count": 9,
     "metadata": {},
     "output_type": "execute_result"
    },
    {
     "data": {
      "image/png": "[encoded data removed]",
      "text/plain": [
       "<Figure size 432x288 with 1 Axes>"
      ]
     },
     "metadata": {
      "needs_background": "light"
     },
     "output_type": "display_data"
    }
   ],
   "source": [
    "corr_matrix = np.zeros([n_agents]*2)\n",
    "for i in range(n_agents):\n",
    "    for j in range(n_agents):\n",
    "        if i < j:\n",
    "            corr_matrix[i,j] = 2*np.sum(sims[:, i] == sims[:, j])/n_steps - 1\n",
    "corr_matrix = corr_matrix + corr_matrix.T + np.identity(n_agents)\n",
    "fig,ax=pl.subplots()\n",
    "ax.imshow(corr_matrix)"
   ]
  },
  {
   "cell_type": "markdown",
   "metadata": {},
   "source": [
    "## Wrapped version"
   ]
  },
  {
   "cell_type": "code",
   "execution_count": 10,
   "metadata": {},
   "outputs": [],
   "source": [
    "def get_hom_policies(avg_pairwise_correlation):\n",
    "    policies = np.zeros((n_agents, n_states),dtype=bool)\n",
    "    team_size = int(n_agents/n_teams)\n",
    "    rng = np.random.default_rng(12345)\n",
    "    agent_indices_bool = np.zeros(n_agents,dtype=bool)\n",
    "    for team in range(n_teams):\n",
    "        agent_indices = range(team * team_size, (team+1) * team_size)\n",
    "        agent_indices_bool[agent_indices]=True\n",
    "        #joint actions for a group are assigned Bernoulli: {as same over the group, else random}\n",
    "        is_same = (avg_pairwise_correlation > rng.random(n_states)) #TODO: add more than binary ations is_same=(avg_pairwise_correlation>np.random.rand(0, n_actions, n_states)) #joint actions for a group are assigned as same over the group, else random\n",
    "        n_same = np.sum(is_same)\n",
    "        n_diff = n_states-n_same\n",
    "        policies[np.ix_(agent_indices_bool, is_same)] = np.random.randint(0, n_actions, n_same)[np.newaxis,:]\n",
    "        policies[np.ix_(agent_indices_bool, ~is_same)] = np.random.randint(0, n_actions, [team_size,n_diff])\n",
    "        agent_indices_bool[agent_indices] = False #reset\n",
    "    return policies\n",
    "\n",
    "def get_het_policies(avg_pairwise_correlation):\n",
    "    policies = np.zeros((n_agents, n_states),dtype=bool)\n",
    "    team_size = int(n_agents/n_teams)\n",
    "    rng = np.random.default_rng(12345)\n",
    "    agent_indices_bool = np.zeros(n_agents, dtype=bool)\n",
    "    rho=np.sin(np.pi/2*avg_pairwise_correlation)\n",
    "    for team in range(n_teams):\n",
    "        agent_indices = range(team * team_size, (team+1) * team_size)\n",
    "        agent_indices_bool[agent_indices]=True\n",
    "        policies[agent_indices_bool, :] = ((np.sqrt(1 - rho)*rng.normal(size = (team_size, n_states)) + np.sqrt(rho)*rng.normal(size = n_states)[np.newaxis,:]) > 0)\n",
    "        agent_indices_bool[agent_indices] = False\n",
    "    return policies\n",
    "\n",
    "def binary2index(var):\n",
    "    return np.sum([2**n for n in range(n_agents*n_memory)] * var.flatten()).astype(int)\n",
    "\n",
    "def simulate(policies):\n",
    "    past_array = np.zeros((n_agents, n_memory)) # initialize past with random actions\n",
    "    for p in range(n_memory):\n",
    "        past_array[:, p] = np.random.randint(0, n_actions, n_agents)\n",
    "    past_index = binary2index(past_array)\n",
    "    sims = np.zeros((n_steps, n_agents)) * np.nan     # generate the simulation\n",
    "    for t in range(n_steps):\n",
    "        sims[t, :] = policies[:, past_index]\n",
    "        past_array[:, :-1] = past_array[:, 1:]\n",
    "        past_array[:, -1] = sims[t, :]\n",
    "        past_index = binary2index(past_array)\n",
    "    return sims\n",
    "\n",
    "def get_corr_matrix(sims):\n",
    "    corr_matrix = np.zeros([n_agents]*2)\n",
    "    for i in range(n_agents):\n",
    "        for j in range(n_agents):\n",
    "            if i < j:\n",
    "                corr_matrix[i,j] = 2*np.sum(sims[:, i] == sims[:, j])/n_steps - 1\n",
    "    return corr_matrix + corr_matrix.T + np.identity(n_agents)"
   ]
  },
  {
   "cell_type": "code",
   "execution_count": 11,
   "metadata": {
    "scrolled": true
   },
   "outputs": [
    {
     "name": "stderr",
     "output_type": "stream",
     "text": [
      "100%|████████████████████████████████████████████| 6/6 [07:01<00:00, 70.22s/it]\n"
     ]
    }
   ],
   "source": [
    "n_corr_values = 5\n",
    "corr_matrices={}\n",
    "joint_action_seqs={}\n",
    "for rit in trange(n_corr_values+1):\n",
    "    rho = rit/n_corr_values\n",
    "    data=[]\n",
    "    sim_data=[]\n",
    "    for get_policies in (get_hom_policies,get_het_policies):\n",
    "        policies=get_policies(rho)\n",
    "        sims=simulate(policies)\n",
    "        sim_data.append(sims)\n",
    "        data.append(get_corr_matrix(sims))\n",
    "    corr_matrices[rho]=data\n",
    "    joint_action_seqs[rho]=sim_data"
   ]
  },
  {
   "cell_type": "code",
   "execution_count": 25,
   "metadata": {
    "scrolled": true
   },
   "outputs": [
    {
     "data": {
      "image/png": "[encoded data removed]",
      "text/plain": [
       "<Figure size 1296x432 with 12 Axes>"
      ]
     },
     "metadata": {
      "needs_background": "light"
     },
     "output_type": "display_data"
    }
   ],
   "source": [
    "fig,ax=pl.subplots(2,6,figsize=(18,6))\n",
    "for rit, rho in enumerate(corr_matrices.keys()):\n",
    "    ax[0,rit].set_title(f'rho={rho}')\n",
    "    for cit, corr_matrix in enumerate(corr_matrices[rho]):\n",
    "        ax[cit,rit].imshow(corr_matrix)\n",
    "ax[0,0].set_ylabel('Homogeneous')\n",
    "ax[1,0].set_ylabel('Heterogeneous')\n",
    "fig.savefig('corr_matrices.pdf', transparent=True,bbox_inches=\"tight\",dpi=300)"
   ]
  },
  {
   "cell_type": "code",
   "execution_count": 13,
   "metadata": {},
   "outputs": [
    {
     "data": {
      "image/png": "[encoded data removed]",
      "text/plain": [
       "<Figure size 3600x216 with 1 Axes>"
      ]
     },
     "metadata": {
      "needs_background": "light"
     },
     "output_type": "display_data"
    }
   ],
   "source": [
    "# visualize the simulation\n",
    "plt.figure(figsize=(50, 3))\n",
    "plt.pcolor(sims.T)\n",
    "plt.grid('on', color='k')\n",
    "plt.tight_layout()\n",
    "plt.savefig(f\"{rho}.png\")"
   ]
  },
  {
   "cell_type": "markdown",
   "metadata": {},
   "source": [
    "# Junk"
   ]
  },
  {
   "cell_type": "markdown",
   "metadata": {},
   "source": [
    "Homogeneous approach alternative:"
   ]
  },
  {
   "cell_type": "code",
   "execution_count": 14,
   "metadata": {
    "scrolled": true
   },
   "outputs": [
    {
     "name": "stdout",
     "output_type": "stream",
     "text": [
      "h [1.      0.81577 0.74309 0.70437 0.67853 0.66139 0.64927 0.63884 0.63239\n",
      " 0.6242  0.62141 0.61609]\n"
     ]
    }
   ],
   "source": [
    "\n",
    "import numpy as np\n",
    "import math\n",
    "\n",
    "def hb(p):\n",
    "    return -p * math.log2(p) - (1 - p) * math.log2(1 - p) if p > 0 and p < 1 else 0\n",
    "\n",
    "def calca(nn, r):\n",
    "    return (math.sqrt((1 - nn) * r**2 + (nn - 2) * r + 1) - r + 1) / r\n",
    "\n",
    "def calcrho(nn, aa):\n",
    "    return (nn + 2 * aa) / ((aa + 1) ** 2 + nn - 1)\n",
    "\n",
    "def gen1(nn, aa):\n",
    "    y = np.random.normal(0, 1, nn)\n",
    "    return (np.sum(y) * np.ones(nn) + aa * y) / math.sqrt((aa + 1) ** 2 + (nn - 1))\n",
    "\n",
    "def tryn(nn, rho, t):\n",
    "    aa = calca(nn, rho)\n",
    "    Pk = np.zeros((nn + 1, nn + 1))\n",
    "    PJk = np.zeros((nn + 1, nn + 1))  # joint prob\n",
    "    PCk = np.zeros((nn + 1, nn + 1))  # cond prob\n",
    "    for _ in range(t):\n",
    "        y = gen1(nn, aa)\n",
    "        z = np.array([1 if t > 0 else 0 for t in y])\n",
    "        c = 0\n",
    "        for k in range(nn):\n",
    "            c += z[k - 1] if k > 0 else 0\n",
    "            Pk[k][c] += 1\n",
    "            if z[k] == 1:\n",
    "                PJk[k][c] += 1\n",
    "    # normalize probabilities\n",
    "    for k in range(nn):\n",
    "        Pk[k] /= t\n",
    "        PJk[k] /= t\n",
    "    for k in range(nn):\n",
    "        for c in range(k + 1):\n",
    "            PCk[k][c] = PJk[k][c] / Pk[k][c] if Pk[k][c] > 0 else 0\n",
    "    r = calcrho(nn, aa)\n",
    "#     print(f\"{nn=} {r=} {aa=} {t=}\")\n",
    "    # print(np.round(Pk[:5,:5],5))\n",
    "    # print(np.round(PJk[:5,:5],5))\n",
    "    # print(np.round(PCk,5))\n",
    "    H = np.zeros(nn)\n",
    "    for k in range(nn):\n",
    "        H[k] = 0\n",
    "        for c in range(k + 1):\n",
    "             H[k] += hb(PCk[k][c]) * Pk[k][c]\n",
    "    print('h', np.round(H, 5))\n",
    "\n",
    "rho = 0.7\n",
    "nn = 12\n",
    "tryn(nn, rho, 800000)"
   ]
  },
  {
   "cell_type": "code",
   "execution_count": 15,
   "metadata": {},
   "outputs": [],
   "source": [
    "#old attempt at Homogeneous case"
   ]
  },
  {
   "cell_type": "code",
   "execution_count": 16,
   "metadata": {},
   "outputs": [],
   "source": [
    "from scipy.special import comb"
   ]
  },
  {
   "cell_type": "code",
   "execution_count": 17,
   "metadata": {
    "scrolled": true
   },
   "outputs": [
    {
     "data": {
      "text/plain": [
       "numpy.float64"
      ]
     },
     "execution_count": 17,
     "metadata": {},
     "output_type": "execute_result"
    }
   ],
   "source": [
    "def tcomb(n,k):\n",
    "    return comb(n,k,exact=False)\n",
    "type(tcomb(1,1))"
   ]
  },
  {
   "cell_type": "code",
   "execution_count": 18,
   "metadata": {},
   "outputs": [
    {
     "data": {
      "text/plain": [
       "0j"
      ]
     },
     "execution_count": 18,
     "metadata": {},
     "output_type": "execute_result"
    }
   ],
   "source": [
    "k=0\n",
    "r=0\n",
    "tcomb(k-1,r) - ((-1)**((k+2*r-1)/2))*tcomb(k-1,(k-1)/2)"
   ]
  },
  {
   "cell_type": "code",
   "execution_count": 19,
   "metadata": {},
   "outputs": [],
   "source": [
    "def get_crk_arr(N):\n",
    "    crk=np.zeros((N+1,N+1))\n",
    "    for k in range(1,N+1,2): #skip k=0 since gives 0 imaginary and is zero anyway\n",
    "        for r in range(k+1):\n",
    "            crk[r,k]=tcomb(k-1,r) - ((-1)**((k-1)/2+r))*tcomb(k-1,(k-1)/2)\n",
    "    return crk\n",
    "def pkk_even(m,rho):\n",
    "    return np.power(2*np.pi,-m)/(1+2*m*rho/(1-rho)) #*np.sqrt(np.pi/2)\n",
    "def pkk_odd(k,prk_arr,crk_arr):\n",
    "    k=int(k)\n",
    "    assert k%2, \"k not odd!\"\n",
    "    tmpsum=0\n",
    "    for r in range(int((k+1)/2),k):\n",
    "        tmpsum+=crk_arr[r,k]*prk_arr[r,k-1]\n",
    "    return ((-1)**((k-1)/2))*(0.5-tmpsum)/tcomb(k-1,(k-1)/2)"
   ]
  },
  {
   "cell_type": "code",
   "execution_count": 20,
   "metadata": {
    "scrolled": false
   },
   "outputs": [
    {
     "name": "stdout",
     "output_type": "stream",
     "text": [
      "1.0\n",
      "1.0\n",
      "1.0\n",
      "0.9999999999999999\n",
      "1.0\n",
      "0.9999999999999999\n"
     ]
    }
   ],
   "source": [
    "N=5\n",
    "rho=0.01\n",
    "crk_arr=get_crk_arr(N)\n",
    "prk_arr=np.zeros((N+1,N+1))    \n",
    "for k in range(N+1):\n",
    "    prk_arr[k,k]=pkk_odd(k,prk_arr,crk_arr) if k%2 else pkk_even(k/2,rho)  \n",
    "    for r in np.arange(k)[::-1]:\n",
    "        prk_arr[r,k]=1/2 if k==1 else prk_arr[r,k-1]-prk_arr[r+1,k]\n",
    "# test\n",
    "for k in range(N+1):\n",
    "    print(np.sum(np.array([tcomb(k,r) for r in range(k+1)])*prk_arr[:k+1,k]))"
   ]
  },
  {
   "cell_type": "code",
   "execution_count": 21,
   "metadata": {},
   "outputs": [],
   "source": [
    "np.set_printoptions(linewidth=np.Inf)"
   ]
  },
  {
   "cell_type": "code",
   "execution_count": 22,
   "metadata": {},
   "outputs": [
    {
     "data": {
      "text/plain": [
       "1"
      ]
     },
     "execution_count": 22,
     "metadata": {},
     "output_type": "execute_result"
    }
   ],
   "source": [
    "1%2"
   ]
  },
  {
   "cell_type": "code",
   "execution_count": 23,
   "metadata": {
    "scrolled": true
   },
   "outputs": [
    {
     "data": {
      "text/plain": [
       "array([[ 1.        ,  0.5       ,  0.15600336, -0.01599496,  0.0243466 ,  0.17085809],\n",
       "       [ 0.        ,  0.5       ,  0.34399664,  0.17199832, -0.04034156, -0.14651149],\n",
       "       [ 0.        ,  0.        ,  0.15600336,  0.17199832,  0.21233987,  0.10616994],\n",
       "       [ 0.        ,  0.        ,  0.        , -0.01599496, -0.04034156,  0.10616994],\n",
       "       [ 0.        ,  0.        ,  0.        ,  0.        ,  0.0243466 , -0.14651149],\n",
       "       [ 0.        ,  0.        ,  0.        ,  0.        ,  0.        ,  0.17085809]])"
      ]
     },
     "execution_count": 23,
     "metadata": {},
     "output_type": "execute_result"
    }
   ],
   "source": [
    "prk_arr"
   ]
  },
  {
   "cell_type": "code",
   "execution_count": 24,
   "metadata": {},
   "outputs": [
    {
     "ename": "SyntaxError",
     "evalue": "invalid syntax (<ipython-input-24-d74236eea915>, line 1)",
     "output_type": "error",
     "traceback": [
      "\u001b[1;36m  File \u001b[1;32m\"<ipython-input-24-d74236eea915>\"\u001b[1;36m, line \u001b[1;32m1\u001b[0m\n\u001b[1;33m    entropy=np.sum(np.asarray[tcomb(k,r) for r in range(r)])*prk_arr[])\u001b[0m\n\u001b[1;37m                                           ^\u001b[0m\n\u001b[1;31mSyntaxError\u001b[0m\u001b[1;31m:\u001b[0m invalid syntax\n"
     ]
    }
   ],
   "source": [
    "entropy=np.sum(np.asarray[tcomb(k,r) for r in range(r)])*prk_arr[])"
   ]
  },
  {
   "cell_type": "code",
   "execution_count": null,
   "metadata": {},
   "outputs": [],
   "source": [
    "k=3\n",
    "tcomb(k,np.arange(1,k))"
   ]
  },
  {
   "cell_type": "code",
   "execution_count": null,
   "metadata": {},
   "outputs": [],
   "source": []
  }
 ],
 "metadata": {
  "interpreter": {
   "hash": "c11202d2846b22eec7deaf37ea813ba92a5f75b5344a4d16688175855af7948e"
  },
  "kernelspec": {
   "display_name": "Python 3",
   "language": "python",
   "name": "python3"
  },
  "language_info": {
   "codemirror_mode": {
    "name": "ipython",
    "version": 3
   },
   "file_extension": ".py",
   "mimetype": "text/x-python",
   "name": "python",
   "nbconvert_exporter": "python",
   "pygments_lexer": "ipython3",
   "version": "3.7.3"
  }
 },
 "nbformat": 4,
 "nbformat_minor": 2
}
