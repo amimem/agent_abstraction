{
 "cells": [
  {
   "cell_type": "markdown",
   "metadata": {},
   "source": [
    "# Loading human plays' data"
   ]
  },
  {
   "cell_type": "code",
   "execution_count": 21,
   "metadata": {},
   "outputs": [],
   "source": [
    "import json\n",
    "import pandas as pd\n",
    "import numpy as np\n",
    "import mmap"
   ]
  },
  {
   "cell_type": "code",
   "execution_count": 22,
   "metadata": {},
   "outputs": [],
   "source": [
    "# games_jsons = []\n",
    "# ix = 0\n",
    "# with open(\"../data/diplomacy-v1-27k-msgs/standard_no_press.jsonl\", \"r\") as json_file:\n",
    "#     for line in json_file:\n",
    "#         games_jsons.append(json.loads(line))"
   ]
  },
  {
   "cell_type": "code",
   "execution_count": 23,
   "metadata": {},
   "outputs": [],
   "source": [
    "# Load the json data\n",
    "games_jsons = []\n",
    "with open(\"../data/diplomacy-v1-27k-msgs/standard_no_press.jsonl\", \"r+b\") as json_file:\n",
    "    with mmap.mmap(json_file.fileno(), length=0, access=mmap.ACCESS_READ) as mmap_object:\n",
    "        for i, line in enumerate(iter(mmap_object.readline, b\"\")):\n",
    "            games_jsons.append(json.loads(line.decode(\"utf-8\")))\n",
    "            if i == 50:\n",
    "                break"
   ]
  },
  {
   "cell_type": "markdown",
   "metadata": {},
   "source": [
    "## Uncomment to load RL single game data"
   ]
  },
  {
   "cell_type": "code",
   "execution_count": 24,
   "metadata": {},
   "outputs": [],
   "source": [
    "\n",
    "# games_jsons = []\n",
    "# json_file_path = \"../data/game_rl_0.json\"\n",
    "\n",
    "# with open(json_file_path, 'r') as j:\n",
    "#       games_jsons.append(json.loads(j.read()))"
   ]
  },
  {
   "cell_type": "code",
   "execution_count": 25,
   "metadata": {},
   "outputs": [],
   "source": [
    "# Convert to a pandas dataframe\n",
    "df = pd.DataFrame(games_jsons)"
   ]
  },
  {
   "cell_type": "code",
   "execution_count": 26,
   "metadata": {},
   "outputs": [],
   "source": [
    "df = df[df[\"map\"] == \"standard\"].reset_index(drop=True)"
   ]
  },
  {
   "cell_type": "code",
   "execution_count": 27,
   "metadata": {},
   "outputs": [
    {
     "data": {
      "text/html": "<div>\n<style scoped>\n    .dataframe tbody tr th:only-of-type {\n        vertical-align: middle;\n    }\n\n    .dataframe tbody tr th {\n        vertical-align: top;\n    }\n\n    .dataframe thead th {\n        text-align: right;\n    }\n</style>\n<table border=\"1\" class=\"dataframe\">\n  <thead>\n    <tr style=\"text-align: right;\">\n      <th></th>\n      <th>id</th>\n      <th>map</th>\n      <th>rules</th>\n      <th>phases</th>\n    </tr>\n  </thead>\n  <tbody>\n    <tr>\n      <th>0</th>\n      <td>uXFQ2zgI-DUrgwlS</td>\n      <td>standard</td>\n      <td>[NO_PRESS, POWER_CHOICE]</td>\n      <td>[{'name': 'S1901M', 'state': {'timestamp': 154...</td>\n    </tr>\n    <tr>\n      <th>1</th>\n      <td>X9hvE_k6LbQrauYc</td>\n      <td>standard</td>\n      <td>[NO_PRESS, POWER_CHOICE]</td>\n      <td>[{'name': 'S1901M', 'state': {'timestamp': 154...</td>\n    </tr>\n    <tr>\n      <th>2</th>\n      <td>lVp6PZxk3Jpufc9Z</td>\n      <td>standard</td>\n      <td>[NO_PRESS, POWER_CHOICE]</td>\n      <td>[{'name': 'S1901M', 'state': {'timestamp': 154...</td>\n    </tr>\n    <tr>\n      <th>3</th>\n      <td>rW_Q9TpidGLGD2EL</td>\n      <td>standard</td>\n      <td>[NO_PRESS, POWER_CHOICE]</td>\n      <td>[{'name': 'S1901M', 'state': {'timestamp': 154...</td>\n    </tr>\n    <tr>\n      <th>4</th>\n      <td>HYc16KDWi8zHNlmn</td>\n      <td>standard</td>\n      <td>[NO_PRESS, POWER_CHOICE]</td>\n      <td>[{'name': 'S1901M', 'state': {'timestamp': 154...</td>\n    </tr>\n    <tr>\n      <th>5</th>\n      <td>_xZyPB0yRDQjRB4x</td>\n      <td>standard</td>\n      <td>[NO_PRESS, POWER_CHOICE]</td>\n      <td>[{'name': 'S1901M', 'state': {'timestamp': 154...</td>\n    </tr>\n    <tr>\n      <th>6</th>\n      <td>CRbbNicSK5Jc-qmb</td>\n      <td>standard</td>\n      <td>[NO_PRESS, POWER_CHOICE]</td>\n      <td>[{'name': 'S1901M', 'state': {'timestamp': 154...</td>\n    </tr>\n    <tr>\n      <th>7</th>\n      <td>ZSFmLzi-Th6lbpxy</td>\n      <td>standard</td>\n      <td>[NO_PRESS, POWER_CHOICE]</td>\n      <td>[{'name': 'S1901M', 'state': {'timestamp': 154...</td>\n    </tr>\n    <tr>\n      <th>8</th>\n      <td>57xpw6Z-8IKo2hDK</td>\n      <td>standard</td>\n      <td>[NO_PRESS, POWER_CHOICE]</td>\n      <td>[{'name': 'S1901M', 'state': {'timestamp': 154...</td>\n    </tr>\n    <tr>\n      <th>9</th>\n      <td>sdKZrT-i_BvEZsFU</td>\n      <td>standard</td>\n      <td>[NO_PRESS, POWER_CHOICE]</td>\n      <td>[{'name': 'S1901M', 'state': {'timestamp': 154...</td>\n    </tr>\n    <tr>\n      <th>10</th>\n      <td>p6m8jMuDPsM0dtUh</td>\n      <td>standard</td>\n      <td>[NO_PRESS, POWER_CHOICE]</td>\n      <td>[{'name': 'S1901M', 'state': {'timestamp': 154...</td>\n    </tr>\n    <tr>\n      <th>11</th>\n      <td>oIIaa9M0NHem5XE_</td>\n      <td>standard</td>\n      <td>[NO_PRESS, POWER_CHOICE]</td>\n      <td>[{'name': 'S1901M', 'state': {'timestamp': 154...</td>\n    </tr>\n    <tr>\n      <th>12</th>\n      <td>5F6upbHF5NZlWuY_</td>\n      <td>standard</td>\n      <td>[NO_PRESS, POWER_CHOICE]</td>\n      <td>[{'name': 'S1901M', 'state': {'timestamp': 154...</td>\n    </tr>\n    <tr>\n      <th>13</th>\n      <td>7uKSGh-EG86tfpyh</td>\n      <td>standard</td>\n      <td>[NO_PRESS, POWER_CHOICE]</td>\n      <td>[{'name': 'S1901M', 'state': {'timestamp': 154...</td>\n    </tr>\n    <tr>\n      <th>14</th>\n      <td>0yv59hl6e5Ensb4M</td>\n      <td>standard</td>\n      <td>[NO_PRESS, POWER_CHOICE]</td>\n      <td>[{'name': 'S1901M', 'state': {'timestamp': 154...</td>\n    </tr>\n    <tr>\n      <th>15</th>\n      <td>NxMelzPAbZMYgrHY</td>\n      <td>standard</td>\n      <td>[NO_PRESS, POWER_CHOICE]</td>\n      <td>[{'name': 'S1901M', 'state': {'timestamp': 154...</td>\n    </tr>\n    <tr>\n      <th>16</th>\n      <td>omNMEctxL53gLSC0</td>\n      <td>standard</td>\n      <td>[NO_PRESS, POWER_CHOICE]</td>\n      <td>[{'name': 'S1901M', 'state': {'timestamp': 154...</td>\n    </tr>\n    <tr>\n      <th>17</th>\n      <td>LVR_gAlKmfjGb8V2</td>\n      <td>standard</td>\n      <td>[NO_PRESS, POWER_CHOICE]</td>\n      <td>[{'name': 'S1901M', 'state': {'timestamp': 154...</td>\n    </tr>\n    <tr>\n      <th>18</th>\n      <td>h9QEPT6s5-Fi1WrV</td>\n      <td>standard</td>\n      <td>[NO_PRESS, POWER_CHOICE]</td>\n      <td>[{'name': 'S1901M', 'state': {'timestamp': 154...</td>\n    </tr>\n    <tr>\n      <th>19</th>\n      <td>cSaeUT4h0rewXGWH</td>\n      <td>standard</td>\n      <td>[NO_PRESS, POWER_CHOICE]</td>\n      <td>[{'name': 'S1901M', 'state': {'timestamp': 154...</td>\n    </tr>\n    <tr>\n      <th>20</th>\n      <td>5JrcwYeklprQyQ9E</td>\n      <td>standard</td>\n      <td>[NO_PRESS, POWER_CHOICE]</td>\n      <td>[{'name': 'S1901M', 'state': {'timestamp': 154...</td>\n    </tr>\n    <tr>\n      <th>21</th>\n      <td>D619QzLd0FKfXi4m</td>\n      <td>standard</td>\n      <td>[NO_PRESS, POWER_CHOICE]</td>\n      <td>[{'name': 'S1901M', 'state': {'timestamp': 154...</td>\n    </tr>\n    <tr>\n      <th>22</th>\n      <td>kLq1Qi6MqjKKDd4G</td>\n      <td>standard</td>\n      <td>[NO_PRESS, POWER_CHOICE]</td>\n      <td>[{'name': 'S1901M', 'state': {'timestamp': 154...</td>\n    </tr>\n    <tr>\n      <th>23</th>\n      <td>HaJIleHsrwGvcRwO</td>\n      <td>standard</td>\n      <td>[NO_PRESS, POWER_CHOICE]</td>\n      <td>[{'name': 'S1901M', 'state': {'timestamp': 154...</td>\n    </tr>\n    <tr>\n      <th>24</th>\n      <td>BKJDUpmRsGnikiLG</td>\n      <td>standard</td>\n      <td>[NO_PRESS, POWER_CHOICE]</td>\n      <td>[{'name': 'S1901M', 'state': {'timestamp': 154...</td>\n    </tr>\n    <tr>\n      <th>25</th>\n      <td>8Vv4RupS6oaY3W9-</td>\n      <td>standard</td>\n      <td>[NO_PRESS, POWER_CHOICE]</td>\n      <td>[{'name': 'S1901M', 'state': {'timestamp': 154...</td>\n    </tr>\n    <tr>\n      <th>26</th>\n      <td>UUaNd1k82YhdM3Rh</td>\n      <td>standard</td>\n      <td>[NO_PRESS, POWER_CHOICE]</td>\n      <td>[{'name': 'S1901M', 'state': {'timestamp': 154...</td>\n    </tr>\n    <tr>\n      <th>27</th>\n      <td>EWfQsnYLG5-OZLGU</td>\n      <td>standard</td>\n      <td>[NO_PRESS, POWER_CHOICE]</td>\n      <td>[{'name': 'S1901M', 'state': {'timestamp': 154...</td>\n    </tr>\n    <tr>\n      <th>28</th>\n      <td>qispC8HwumqyWTWM</td>\n      <td>standard</td>\n      <td>[NO_PRESS, POWER_CHOICE]</td>\n      <td>[{'name': 'S1901M', 'state': {'timestamp': 154...</td>\n    </tr>\n    <tr>\n      <th>29</th>\n      <td>1IbGdARWCes1lsqm</td>\n      <td>standard</td>\n      <td>[NO_PRESS, POWER_CHOICE]</td>\n      <td>[{'name': 'S1901M', 'state': {'timestamp': 154...</td>\n    </tr>\n  </tbody>\n</table>\n</div>",
      "text/plain": "                  id       map                     rules  \\\n0   uXFQ2zgI-DUrgwlS  standard  [NO_PRESS, POWER_CHOICE]   \n1   X9hvE_k6LbQrauYc  standard  [NO_PRESS, POWER_CHOICE]   \n2   lVp6PZxk3Jpufc9Z  standard  [NO_PRESS, POWER_CHOICE]   \n3   rW_Q9TpidGLGD2EL  standard  [NO_PRESS, POWER_CHOICE]   \n4   HYc16KDWi8zHNlmn  standard  [NO_PRESS, POWER_CHOICE]   \n5   _xZyPB0yRDQjRB4x  standard  [NO_PRESS, POWER_CHOICE]   \n6   CRbbNicSK5Jc-qmb  standard  [NO_PRESS, POWER_CHOICE]   \n7   ZSFmLzi-Th6lbpxy  standard  [NO_PRESS, POWER_CHOICE]   \n8   57xpw6Z-8IKo2hDK  standard  [NO_PRESS, POWER_CHOICE]   \n9   sdKZrT-i_BvEZsFU  standard  [NO_PRESS, POWER_CHOICE]   \n10  p6m8jMuDPsM0dtUh  standard  [NO_PRESS, POWER_CHOICE]   \n11  oIIaa9M0NHem5XE_  standard  [NO_PRESS, POWER_CHOICE]   \n12  5F6upbHF5NZlWuY_  standard  [NO_PRESS, POWER_CHOICE]   \n13  7uKSGh-EG86tfpyh  standard  [NO_PRESS, POWER_CHOICE]   \n14  0yv59hl6e5Ensb4M  standard  [NO_PRESS, POWER_CHOICE]   \n15  NxMelzPAbZMYgrHY  standard  [NO_PRESS, POWER_CHOICE]   \n16  omNMEctxL53gLSC0  standard  [NO_PRESS, POWER_CHOICE]   \n17  LVR_gAlKmfjGb8V2  standard  [NO_PRESS, POWER_CHOICE]   \n18  h9QEPT6s5-Fi1WrV  standard  [NO_PRESS, POWER_CHOICE]   \n19  cSaeUT4h0rewXGWH  standard  [NO_PRESS, POWER_CHOICE]   \n20  5JrcwYeklprQyQ9E  standard  [NO_PRESS, POWER_CHOICE]   \n21  D619QzLd0FKfXi4m  standard  [NO_PRESS, POWER_CHOICE]   \n22  kLq1Qi6MqjKKDd4G  standard  [NO_PRESS, POWER_CHOICE]   \n23  HaJIleHsrwGvcRwO  standard  [NO_PRESS, POWER_CHOICE]   \n24  BKJDUpmRsGnikiLG  standard  [NO_PRESS, POWER_CHOICE]   \n25  8Vv4RupS6oaY3W9-  standard  [NO_PRESS, POWER_CHOICE]   \n26  UUaNd1k82YhdM3Rh  standard  [NO_PRESS, POWER_CHOICE]   \n27  EWfQsnYLG5-OZLGU  standard  [NO_PRESS, POWER_CHOICE]   \n28  qispC8HwumqyWTWM  standard  [NO_PRESS, POWER_CHOICE]   \n29  1IbGdARWCes1lsqm  standard  [NO_PRESS, POWER_CHOICE]   \n\n                                               phases  \n0   [{'name': 'S1901M', 'state': {'timestamp': 154...  \n1   [{'name': 'S1901M', 'state': {'timestamp': 154...  \n2   [{'name': 'S1901M', 'state': {'timestamp': 154...  \n3   [{'name': 'S1901M', 'state': {'timestamp': 154...  \n4   [{'name': 'S1901M', 'state': {'timestamp': 154...  \n5   [{'name': 'S1901M', 'state': {'timestamp': 154...  \n6   [{'name': 'S1901M', 'state': {'timestamp': 154...  \n7   [{'name': 'S1901M', 'state': {'timestamp': 154...  \n8   [{'name': 'S1901M', 'state': {'timestamp': 154...  \n9   [{'name': 'S1901M', 'state': {'timestamp': 154...  \n10  [{'name': 'S1901M', 'state': {'timestamp': 154...  \n11  [{'name': 'S1901M', 'state': {'timestamp': 154...  \n12  [{'name': 'S1901M', 'state': {'timestamp': 154...  \n13  [{'name': 'S1901M', 'state': {'timestamp': 154...  \n14  [{'name': 'S1901M', 'state': {'timestamp': 154...  \n15  [{'name': 'S1901M', 'state': {'timestamp': 154...  \n16  [{'name': 'S1901M', 'state': {'timestamp': 154...  \n17  [{'name': 'S1901M', 'state': {'timestamp': 154...  \n18  [{'name': 'S1901M', 'state': {'timestamp': 154...  \n19  [{'name': 'S1901M', 'state': {'timestamp': 154...  \n20  [{'name': 'S1901M', 'state': {'timestamp': 154...  \n21  [{'name': 'S1901M', 'state': {'timestamp': 154...  \n22  [{'name': 'S1901M', 'state': {'timestamp': 154...  \n23  [{'name': 'S1901M', 'state': {'timestamp': 154...  \n24  [{'name': 'S1901M', 'state': {'timestamp': 154...  \n25  [{'name': 'S1901M', 'state': {'timestamp': 154...  \n26  [{'name': 'S1901M', 'state': {'timestamp': 154...  \n27  [{'name': 'S1901M', 'state': {'timestamp': 154...  \n28  [{'name': 'S1901M', 'state': {'timestamp': 154...  \n29  [{'name': 'S1901M', 'state': {'timestamp': 154...  "
     },
     "execution_count": 27,
     "metadata": {},
     "output_type": "execute_result"
    }
   ],
   "source": [
    "df"
   ]
  },
  {
   "cell_type": "code",
   "execution_count": 28,
   "metadata": {},
   "outputs": [],
   "source": [
    "games = df['phases']"
   ]
  },
  {
   "cell_type": "code",
   "execution_count": 29,
   "metadata": {},
   "outputs": [
    {
     "data": {
      "text/plain": "0     {'name': 'S1901M', 'state': {'timestamp': 1542...\n1     {'name': 'S1901M', 'state': {'timestamp': 1542...\n2     {'name': 'S1901M', 'state': {'timestamp': 1542...\n3     {'name': 'S1901M', 'state': {'timestamp': 1542...\n4     {'name': 'S1901M', 'state': {'timestamp': 1542...\n5     {'name': 'S1901M', 'state': {'timestamp': 1542...\n6     {'name': 'S1901M', 'state': {'timestamp': 1542...\n7     {'name': 'S1901M', 'state': {'timestamp': 1542...\n8     {'name': 'S1901M', 'state': {'timestamp': 1542...\n9     {'name': 'S1901M', 'state': {'timestamp': 1542...\n10    {'name': 'S1901M', 'state': {'timestamp': 1542...\n11    {'name': 'S1901M', 'state': {'timestamp': 1542...\n12    {'name': 'S1901M', 'state': {'timestamp': 1542...\n13    {'name': 'S1901M', 'state': {'timestamp': 1542...\n14    {'name': 'S1901M', 'state': {'timestamp': 1542...\n15    {'name': 'S1901M', 'state': {'timestamp': 1542...\n16    {'name': 'S1901M', 'state': {'timestamp': 1542...\n17    {'name': 'S1901M', 'state': {'timestamp': 1542...\n18    {'name': 'S1901M', 'state': {'timestamp': 1542...\n19    {'name': 'S1901M', 'state': {'timestamp': 1542...\n20    {'name': 'S1901M', 'state': {'timestamp': 1542...\n21    {'name': 'S1901M', 'state': {'timestamp': 1542...\n22    {'name': 'S1901M', 'state': {'timestamp': 1542...\n23    {'name': 'S1901M', 'state': {'timestamp': 1542...\n24    {'name': 'S1901M', 'state': {'timestamp': 1542...\n25    {'name': 'S1901M', 'state': {'timestamp': 1542...\n26    {'name': 'S1901M', 'state': {'timestamp': 1542...\n27    {'name': 'S1901M', 'state': {'timestamp': 1542...\n28    {'name': 'S1901M', 'state': {'timestamp': 1542...\n29    {'name': 'S1901M', 'state': {'timestamp': 1542...\nName: phases, dtype: object"
     },
     "execution_count": 29,
     "metadata": {},
     "output_type": "execute_result"
    }
   ],
   "source": [
    "games.apply(lambda x: x[0])"
   ]
  },
  {
   "cell_type": "code",
   "execution_count": 30,
   "metadata": {},
   "outputs": [],
   "source": [
    "for game in games:\n",
    "    for ix, iy in enumerate(game):\n",
    "        game[ix]['phase_id'] = ix"
   ]
  },
  {
   "cell_type": "code",
   "execution_count": 31,
   "metadata": {},
   "outputs": [],
   "source": [
    "def get_adjacent_pairs(input):\n",
    "    out = {}\n",
    "    #out['game_id'] = input['state']['game_id']\n",
    "    #out['phase_id'] = input['phase_id']\n",
    "    #out['phase_name'] = input['name']\n",
    "    results_units_keys = [x for x in input['results']]\n",
    "\n",
    "    assert input['orders'].items() \n",
    "    for player, orders in input['orders'].items():\n",
    "        if orders is not None:\n",
    "            if orders:\n",
    "                for order in orders:\n",
    "                    #out['coordinator'] = player\n",
    "                    #out['type'] = order.split()[0]\n",
    "                    out['current_location'] = order.split()[1]\n",
    "                    out['action'] = order.split()[2]\n",
    "                    unit = order.split()[0]+ ' ' + order.split()[1]\n",
    "                    # print(\"unit result is: \", unit , unit in results_units, results_units)\n",
    "                    if input['results']:\n",
    "                        out['results'] = input['results'][unit]\n",
    "                    #else:\n",
    "                    #    print(\"empty results\")\n",
    "                    #    print(order)\n",
    "                    if unit in results_units_keys:\n",
    "                        results_units_keys.remove(unit)\n",
    "                    out['impact_location'] = []\n",
    "                    if out['action'] == '-' or out['action'] == 'R':\n",
    "                        assert len(order.split()) == 4 or len(order.split()) == 5, order\n",
    "                        out['impact_location'] = order.split()[3]\n",
    "                    yield(out)\n",
    "                \n",
    "    if len(results_units_keys)>0:\n",
    "        for unit in results_units_keys:\n",
    "            if unit == 'WAIVE': ## FIXME: double check this later\n",
    "                continue\n",
    "            assert len(unit.split()) == 2, unit\n",
    "            #out['coordinator'] = 'RA'\n",
    "            #for player in input[\"state\"][\"units\"]:\n",
    "            #    if unit in input[\"state\"][\"units\"][player]:\n",
    "            #        out['coordinator'] = player\n",
    "\n",
    "            if len(unit.split()[0]) != 1: # if we have sth like HOL D: \"void\"\n",
    "                assert input['results'][unit][0] == 'void', input['results'][unit]\n",
    "                location = unit.split()[0]\n",
    "                assert unit.split()[1] == 'D', unit.split()[1]\n",
    "                # find the corresponding key in the results\n",
    "                for key in input['results']:\n",
    "                    if key.split()[1] == location:\n",
    "                        assert input['results'][key][0] == \"disband\", input['results'][key]\n",
    "                        input['results'][key].append(input['results'][unit][0])\n",
    "                        break\n",
    "            else:\n",
    "                #out['type'] = unit.split()[0]\n",
    "                out['current_location'] = unit.split()[1]\n",
    "                out['results'] = input['results'][unit]\n",
    "                out['action'] = -2\n",
    "                out['impact_location'] = -2\n",
    "                yield(out)"
   ]
  },
  {
   "cell_type": "code",
   "execution_count": 32,
   "metadata": {},
   "outputs": [],
   "source": [
    "all_records = []\n",
    "for idx, game in enumerate(games):\n",
    "  for idx, phase in enumerate(game):\n",
    "    row_generator = get_adjacent_pairs(phase)\n",
    "    assert row_generator is not None, row_generator\n",
    "    for row in row_generator:\n",
    "      all_records.append(row.copy())"
   ]
  },
  {
   "cell_type": "code",
   "execution_count": 33,
   "metadata": {},
   "outputs": [],
   "source": [
    "complete_df = pd.DataFrame.from_records(all_records)"
   ]
  },
  {
   "cell_type": "code",
   "execution_count": 34,
   "metadata": {},
   "outputs": [
    {
     "data": {
      "text/plain": "(21217, 4)"
     },
     "execution_count": 34,
     "metadata": {},
     "output_type": "execute_result"
    }
   ],
   "source": [
    "np.shape(complete_df)"
   ]
  },
  {
   "cell_type": "code",
   "execution_count": 35,
   "metadata": {},
   "outputs": [
    {
     "data": {
      "text/plain": "array(['H', '-', 'C', 'B', 'S', 'D', 'R', -2], dtype=object)"
     },
     "execution_count": 35,
     "metadata": {},
     "output_type": "execute_result"
    }
   ],
   "source": [
    "complete_df['action'].unique()"
   ]
  },
  {
   "cell_type": "code",
   "execution_count": 36,
   "metadata": {},
   "outputs": [
    {
     "data": {
      "text/plain": "array([nan, '', 'bounce', 'dislodged', 'cut', 'void', 'disband',\n       'no convoy'], dtype=object)"
     },
     "execution_count": 36,
     "metadata": {},
     "output_type": "execute_result"
    }
   ],
   "source": [
    "complete_df[\"results\"].explode().unique() "
   ]
  },
  {
   "cell_type": "code",
   "execution_count": 37,
   "metadata": {},
   "outputs": [
    {
     "data": {
      "text/html": "<div>\n<style scoped>\n    .dataframe tbody tr th:only-of-type {\n        vertical-align: middle;\n    }\n\n    .dataframe tbody tr th {\n        vertical-align: top;\n    }\n\n    .dataframe thead th {\n        text-align: right;\n    }\n</style>\n<table border=\"1\" class=\"dataframe\">\n  <thead>\n    <tr style=\"text-align: right;\">\n      <th></th>\n      <th>current_location</th>\n      <th>action</th>\n      <th>results</th>\n      <th>impact_location</th>\n    </tr>\n  </thead>\n  <tbody>\n    <tr>\n      <th>2</th>\n      <td>BUD</td>\n      <td>-</td>\n      <td>[]</td>\n      <td>SER</td>\n    </tr>\n    <tr>\n      <th>3</th>\n      <td>LVP</td>\n      <td>-</td>\n      <td>[]</td>\n      <td>EDI</td>\n    </tr>\n    <tr>\n      <th>4</th>\n      <td>EDI</td>\n      <td>-</td>\n      <td>[]</td>\n      <td>NWG</td>\n    </tr>\n    <tr>\n      <th>5</th>\n      <td>LON</td>\n      <td>-</td>\n      <td>[]</td>\n      <td>NTH</td>\n    </tr>\n    <tr>\n      <th>6</th>\n      <td>BRE</td>\n      <td>-</td>\n      <td>[]</td>\n      <td>MAO</td>\n    </tr>\n    <tr>\n      <th>...</th>\n      <td>...</td>\n      <td>...</td>\n      <td>...</td>\n      <td>...</td>\n    </tr>\n    <tr>\n      <th>21204</th>\n      <td>NWY</td>\n      <td>-</td>\n      <td>[]</td>\n      <td>SWE</td>\n    </tr>\n    <tr>\n      <th>21205</th>\n      <td>GAL</td>\n      <td>-</td>\n      <td>[]</td>\n      <td>VIE</td>\n    </tr>\n    <tr>\n      <th>21206</th>\n      <td>SER</td>\n      <td>-</td>\n      <td>[bounce]</td>\n      <td>TRI</td>\n    </tr>\n    <tr>\n      <th>21207</th>\n      <td>NAO</td>\n      <td>-</td>\n      <td>[bounce]</td>\n      <td>MAO</td>\n    </tr>\n    <tr>\n      <th>21208</th>\n      <td>ANK</td>\n      <td>-</td>\n      <td>[bounce]</td>\n      <td>CON</td>\n    </tr>\n  </tbody>\n</table>\n<p>9678 rows × 4 columns</p>\n</div>",
      "text/plain": "      current_location action   results impact_location\n2                  BUD      -        []             SER\n3                  LVP      -        []             EDI\n4                  EDI      -        []             NWG\n5                  LON      -        []             NTH\n6                  BRE      -        []             MAO\n...                ...    ...       ...             ...\n21204              NWY      -        []             SWE\n21205              GAL      -        []             VIE\n21206              SER      -  [bounce]             TRI\n21207              NAO      -  [bounce]             MAO\n21208              ANK      -  [bounce]             CON\n\n[9678 rows x 4 columns]"
     },
     "execution_count": 37,
     "metadata": {},
     "output_type": "execute_result"
    }
   ],
   "source": [
    "complete_df[complete_df['action']=='-']"
   ]
  },
  {
   "cell_type": "code",
   "execution_count": 38,
   "metadata": {},
   "outputs": [
    {
     "data": {
      "text/html": "<div>\n<style scoped>\n    .dataframe tbody tr th:only-of-type {\n        vertical-align: middle;\n    }\n\n    .dataframe tbody tr th {\n        vertical-align: top;\n    }\n\n    .dataframe thead th {\n        text-align: right;\n    }\n</style>\n<table border=\"1\" class=\"dataframe\">\n  <thead>\n    <tr style=\"text-align: right;\">\n      <th></th>\n      <th>current_location</th>\n      <th>action</th>\n      <th>results</th>\n      <th>impact_location</th>\n    </tr>\n  </thead>\n  <tbody>\n    <tr>\n      <th>0</th>\n      <td>TRI</td>\n      <td>H</td>\n      <td>[]</td>\n      <td>[]</td>\n    </tr>\n    <tr>\n      <th>1</th>\n      <td>VIE</td>\n      <td>H</td>\n      <td>[]</td>\n      <td>[]</td>\n    </tr>\n    <tr>\n      <th>2</th>\n      <td>BUD</td>\n      <td>-</td>\n      <td>[]</td>\n      <td>SER</td>\n    </tr>\n    <tr>\n      <th>3</th>\n      <td>LVP</td>\n      <td>-</td>\n      <td>[]</td>\n      <td>EDI</td>\n    </tr>\n    <tr>\n      <th>4</th>\n      <td>EDI</td>\n      <td>-</td>\n      <td>[]</td>\n      <td>NWG</td>\n    </tr>\n    <tr>\n      <th>...</th>\n      <td>...</td>\n      <td>...</td>\n      <td>...</td>\n      <td>...</td>\n    </tr>\n    <tr>\n      <th>21212</th>\n      <td>MUN</td>\n      <td>S</td>\n      <td>[]</td>\n      <td>[]</td>\n    </tr>\n    <tr>\n      <th>21213</th>\n      <td>BLA</td>\n      <td>S</td>\n      <td>[]</td>\n      <td>[]</td>\n    </tr>\n    <tr>\n      <th>21214</th>\n      <td>BUD</td>\n      <td>S</td>\n      <td>[]</td>\n      <td>[]</td>\n    </tr>\n    <tr>\n      <th>21215</th>\n      <td>BOH</td>\n      <td>S</td>\n      <td>[]</td>\n      <td>[]</td>\n    </tr>\n    <tr>\n      <th>21216</th>\n      <td>CON</td>\n      <td>H</td>\n      <td>[]</td>\n      <td>[]</td>\n    </tr>\n  </tbody>\n</table>\n<p>21217 rows × 4 columns</p>\n</div>",
      "text/plain": "      current_location action results impact_location\n0                  TRI      H      []              []\n1                  VIE      H      []              []\n2                  BUD      -      []             SER\n3                  LVP      -      []             EDI\n4                  EDI      -      []             NWG\n...                ...    ...     ...             ...\n21212              MUN      S      []              []\n21213              BLA      S      []              []\n21214              BUD      S      []              []\n21215              BOH      S      []              []\n21216              CON      H      []              []\n\n[21217 rows x 4 columns]"
     },
     "execution_count": 38,
     "metadata": {},
     "output_type": "execute_result"
    }
   ],
   "source": [
    "complete_df"
   ]
  },
  {
   "cell_type": "code",
   "execution_count": 39,
   "metadata": {},
   "outputs": [],
   "source": [
    "complete_df = complete_df[complete_df['action'].isin(['-','C','R'])] \n",
    "complete_df = complete_df.reset_index(drop=True)"
   ]
  },
  {
   "cell_type": "code",
   "execution_count": 40,
   "metadata": {},
   "outputs": [
    {
     "data": {
      "text/html": "<div>\n<style scoped>\n    .dataframe tbody tr th:only-of-type {\n        vertical-align: middle;\n    }\n\n    .dataframe tbody tr th {\n        vertical-align: top;\n    }\n\n    .dataframe thead th {\n        text-align: right;\n    }\n</style>\n<table border=\"1\" class=\"dataframe\">\n  <thead>\n    <tr style=\"text-align: right;\">\n      <th></th>\n      <th>current_location</th>\n      <th>action</th>\n      <th>results</th>\n      <th>impact_location</th>\n    </tr>\n  </thead>\n  <tbody>\n    <tr>\n      <th>0</th>\n      <td>BUD</td>\n      <td>-</td>\n      <td>[]</td>\n      <td>SER</td>\n    </tr>\n    <tr>\n      <th>1</th>\n      <td>LVP</td>\n      <td>-</td>\n      <td>[]</td>\n      <td>EDI</td>\n    </tr>\n    <tr>\n      <th>2</th>\n      <td>EDI</td>\n      <td>-</td>\n      <td>[]</td>\n      <td>NWG</td>\n    </tr>\n    <tr>\n      <th>3</th>\n      <td>LON</td>\n      <td>-</td>\n      <td>[]</td>\n      <td>NTH</td>\n    </tr>\n    <tr>\n      <th>4</th>\n      <td>BRE</td>\n      <td>-</td>\n      <td>[]</td>\n      <td>MAO</td>\n    </tr>\n    <tr>\n      <th>...</th>\n      <td>...</td>\n      <td>...</td>\n      <td>...</td>\n      <td>...</td>\n    </tr>\n    <tr>\n      <th>10410</th>\n      <td>NWY</td>\n      <td>-</td>\n      <td>[]</td>\n      <td>SWE</td>\n    </tr>\n    <tr>\n      <th>10411</th>\n      <td>GAL</td>\n      <td>-</td>\n      <td>[]</td>\n      <td>VIE</td>\n    </tr>\n    <tr>\n      <th>10412</th>\n      <td>SER</td>\n      <td>-</td>\n      <td>[bounce]</td>\n      <td>TRI</td>\n    </tr>\n    <tr>\n      <th>10413</th>\n      <td>NAO</td>\n      <td>-</td>\n      <td>[bounce]</td>\n      <td>MAO</td>\n    </tr>\n    <tr>\n      <th>10414</th>\n      <td>ANK</td>\n      <td>-</td>\n      <td>[bounce]</td>\n      <td>CON</td>\n    </tr>\n  </tbody>\n</table>\n<p>10415 rows × 4 columns</p>\n</div>",
      "text/plain": "      current_location action   results impact_location\n0                  BUD      -        []             SER\n1                  LVP      -        []             EDI\n2                  EDI      -        []             NWG\n3                  LON      -        []             NTH\n4                  BRE      -        []             MAO\n...                ...    ...       ...             ...\n10410              NWY      -        []             SWE\n10411              GAL      -        []             VIE\n10412              SER      -  [bounce]             TRI\n10413              NAO      -  [bounce]             MAO\n10414              ANK      -  [bounce]             CON\n\n[10415 rows x 4 columns]"
     },
     "execution_count": 40,
     "metadata": {},
     "output_type": "execute_result"
    }
   ],
   "source": [
    "complete_df"
   ]
  },
  {
   "cell_type": "code",
   "execution_count": 42,
   "metadata": {},
   "outputs": [
    {
     "name": "stdout",
     "output_type": "stream",
     "text": [
      "['BUD' 'LVP' 'EDI' 'LON' 'BRE' 'PAR' 'MAR' 'VIE' 'TRI' 'NTH' 'NWG' 'PIC'\n",
      " 'MAO' 'WAR' 'SEV' 'STP/SC' 'MOS' 'CON' 'SMY' 'SER' 'ADR' 'NWY' 'SPA'\n",
      " 'POR' 'GAL' 'BOT' 'UKR' 'MUN' 'BER' 'KIE' 'VEN' 'ROM' 'NAP' 'ANK' 'ALB'\n",
      " 'YOR' 'HOL' 'ION' 'TYR' 'BUL' 'BAR' 'DEN' 'TUN' 'FIN' 'SPA/SC' 'GAS'\n",
      " 'BAL' 'PIE' 'RUM' 'SWE' 'BUR' 'STP' 'ARM' 'GRE' 'NAO' 'RUH' 'TYS' 'SIL'\n",
      " 'LYO' 'LVN' 'PRU' 'BLA' 'HEL' 'APU' 'TUS' 'EAS' 'WES' 'BEL' 'BOH' 'NAF'\n",
      " 'AEG' 'ENG' 'BUL/EC' 'WAL' 'BUL/SC' 'IRI' 'STP/NC' 'SKA' 'CLY' 'SYR'\n",
      " 'SPA/NC']\n",
      "81\n"
     ]
    }
   ],
   "source": [
    "origins = complete_df['current_location'].unique()\n",
    "print(origins)\n",
    "print(len(complete_df['current_location'].unique()))"
   ]
  },
  {
   "cell_type": "code",
   "execution_count": 43,
   "metadata": {},
   "outputs": [
    {
     "name": "stdout",
     "output_type": "stream",
     "text": [
      "['SER' 'EDI' 'NWG' 'NTH' 'MAO' 'PIC' 'SPA' 'TYR' 'ADR' 'HOL' 'NWY' nan\n",
      " 'BEL' 'POR' 'GAL' 'BLA' 'BOT' 'UKR' 'BUL' 'CON' 'GRE' 'VIE' 'VEN' 'BAR'\n",
      " 'SWE' 'SPA/SC' 'PIE' 'BUR' 'PAR' 'STP/SC' 'RUM' 'ALB' 'YOR' 'KIE' 'ION'\n",
      " 'DEN' 'TUN' 'FIN' 'STP/NC' 'GAS' 'BAL' 'STP' 'ARM' 'AEG' 'LYO' 'TRI'\n",
      " 'WAR' 'SEV' 'NAO' 'ENG' 'MUN' 'RUH' 'TYS' 'SIL' 'PRU' 'HEL' 'WES' 'BER'\n",
      " 'LVN' 'MOS' 'APU' 'TUS' 'EAS' 'NAP' 'BUD' 'BOH' 'ROM' 'IRI' 'MAR' 'NAF'\n",
      " 'SMY' 'BRE' 'BUL/SC' 'BUL/EC' 'WAL' 'SKA' 'LON' 'ANK' 'LVP' 'CLY'\n",
      " 'SPA/NC' 'SYR']\n",
      "82\n"
     ]
    }
   ],
   "source": [
    "destinations = complete_df['impact_location'].explode().unique()\n",
    "print(destinations)\n",
    "print(len(complete_df['impact_location'].explode().unique()))"
   ]
  },
  {
   "cell_type": "code",
   "execution_count": 44,
   "metadata": {},
   "outputs": [
    {
     "data": {
      "text/plain": "[nan]"
     },
     "execution_count": 44,
     "metadata": {},
     "output_type": "execute_result"
    }
   ],
   "source": [
    "difference_in_locations = list(set(destinations) - set(origins))\n",
    "difference_in_locations"
   ]
  },
  {
   "cell_type": "code",
   "execution_count": 45,
   "metadata": {},
   "outputs": [
    {
     "data": {
      "text/plain": "current_location    BUD\naction                -\nresults              []\nimpact_location     SER\nName: 0, dtype: object"
     },
     "execution_count": 45,
     "metadata": {},
     "output_type": "execute_result"
    }
   ],
   "source": [
    "complete_df.loc[0]"
   ]
  },
  {
   "cell_type": "code",
   "execution_count": 46,
   "metadata": {},
   "outputs": [
    {
     "data": {
      "text/html": "<div>\n<style scoped>\n    .dataframe tbody tr th:only-of-type {\n        vertical-align: middle;\n    }\n\n    .dataframe tbody tr th {\n        vertical-align: top;\n    }\n\n    .dataframe thead th {\n        text-align: right;\n    }\n</style>\n<table border=\"1\" class=\"dataframe\">\n  <thead>\n    <tr style=\"text-align: right;\">\n      <th></th>\n      <th>BUD</th>\n      <th>LVP</th>\n      <th>EDI</th>\n      <th>LON</th>\n      <th>BRE</th>\n      <th>PAR</th>\n      <th>MAR</th>\n      <th>VIE</th>\n      <th>TRI</th>\n      <th>NTH</th>\n      <th>...</th>\n      <th>ENG</th>\n      <th>BUL/EC</th>\n      <th>WAL</th>\n      <th>BUL/SC</th>\n      <th>IRI</th>\n      <th>STP/NC</th>\n      <th>SKA</th>\n      <th>CLY</th>\n      <th>SYR</th>\n      <th>SPA/NC</th>\n    </tr>\n  </thead>\n  <tbody>\n    <tr>\n      <th>BUD</th>\n      <td>0</td>\n      <td>0</td>\n      <td>0</td>\n      <td>0</td>\n      <td>0</td>\n      <td>0</td>\n      <td>0</td>\n      <td>0</td>\n      <td>0</td>\n      <td>0</td>\n      <td>...</td>\n      <td>0</td>\n      <td>0</td>\n      <td>0</td>\n      <td>0</td>\n      <td>0</td>\n      <td>0</td>\n      <td>0</td>\n      <td>0</td>\n      <td>0</td>\n      <td>0</td>\n    </tr>\n    <tr>\n      <th>LVP</th>\n      <td>0</td>\n      <td>0</td>\n      <td>0</td>\n      <td>0</td>\n      <td>0</td>\n      <td>0</td>\n      <td>0</td>\n      <td>0</td>\n      <td>0</td>\n      <td>0</td>\n      <td>...</td>\n      <td>0</td>\n      <td>0</td>\n      <td>0</td>\n      <td>0</td>\n      <td>0</td>\n      <td>0</td>\n      <td>0</td>\n      <td>0</td>\n      <td>0</td>\n      <td>0</td>\n    </tr>\n    <tr>\n      <th>EDI</th>\n      <td>0</td>\n      <td>0</td>\n      <td>0</td>\n      <td>0</td>\n      <td>0</td>\n      <td>0</td>\n      <td>0</td>\n      <td>0</td>\n      <td>0</td>\n      <td>0</td>\n      <td>...</td>\n      <td>0</td>\n      <td>0</td>\n      <td>0</td>\n      <td>0</td>\n      <td>0</td>\n      <td>0</td>\n      <td>0</td>\n      <td>0</td>\n      <td>0</td>\n      <td>0</td>\n    </tr>\n    <tr>\n      <th>LON</th>\n      <td>0</td>\n      <td>0</td>\n      <td>0</td>\n      <td>0</td>\n      <td>0</td>\n      <td>0</td>\n      <td>0</td>\n      <td>0</td>\n      <td>0</td>\n      <td>0</td>\n      <td>...</td>\n      <td>0</td>\n      <td>0</td>\n      <td>0</td>\n      <td>0</td>\n      <td>0</td>\n      <td>0</td>\n      <td>0</td>\n      <td>0</td>\n      <td>0</td>\n      <td>0</td>\n    </tr>\n    <tr>\n      <th>BRE</th>\n      <td>0</td>\n      <td>0</td>\n      <td>0</td>\n      <td>0</td>\n      <td>0</td>\n      <td>0</td>\n      <td>0</td>\n      <td>0</td>\n      <td>0</td>\n      <td>0</td>\n      <td>...</td>\n      <td>0</td>\n      <td>0</td>\n      <td>0</td>\n      <td>0</td>\n      <td>0</td>\n      <td>0</td>\n      <td>0</td>\n      <td>0</td>\n      <td>0</td>\n      <td>0</td>\n    </tr>\n    <tr>\n      <th>...</th>\n      <td>...</td>\n      <td>...</td>\n      <td>...</td>\n      <td>...</td>\n      <td>...</td>\n      <td>...</td>\n      <td>...</td>\n      <td>...</td>\n      <td>...</td>\n      <td>...</td>\n      <td>...</td>\n      <td>...</td>\n      <td>...</td>\n      <td>...</td>\n      <td>...</td>\n      <td>...</td>\n      <td>...</td>\n      <td>...</td>\n      <td>...</td>\n      <td>...</td>\n      <td>...</td>\n    </tr>\n    <tr>\n      <th>STP/NC</th>\n      <td>0</td>\n      <td>0</td>\n      <td>0</td>\n      <td>0</td>\n      <td>0</td>\n      <td>0</td>\n      <td>0</td>\n      <td>0</td>\n      <td>0</td>\n      <td>0</td>\n      <td>...</td>\n      <td>0</td>\n      <td>0</td>\n      <td>0</td>\n      <td>0</td>\n      <td>0</td>\n      <td>0</td>\n      <td>0</td>\n      <td>0</td>\n      <td>0</td>\n      <td>0</td>\n    </tr>\n    <tr>\n      <th>SKA</th>\n      <td>0</td>\n      <td>0</td>\n      <td>0</td>\n      <td>0</td>\n      <td>0</td>\n      <td>0</td>\n      <td>0</td>\n      <td>0</td>\n      <td>0</td>\n      <td>0</td>\n      <td>...</td>\n      <td>0</td>\n      <td>0</td>\n      <td>0</td>\n      <td>0</td>\n      <td>0</td>\n      <td>0</td>\n      <td>0</td>\n      <td>0</td>\n      <td>0</td>\n      <td>0</td>\n    </tr>\n    <tr>\n      <th>CLY</th>\n      <td>0</td>\n      <td>0</td>\n      <td>0</td>\n      <td>0</td>\n      <td>0</td>\n      <td>0</td>\n      <td>0</td>\n      <td>0</td>\n      <td>0</td>\n      <td>0</td>\n      <td>...</td>\n      <td>0</td>\n      <td>0</td>\n      <td>0</td>\n      <td>0</td>\n      <td>0</td>\n      <td>0</td>\n      <td>0</td>\n      <td>0</td>\n      <td>0</td>\n      <td>0</td>\n    </tr>\n    <tr>\n      <th>SYR</th>\n      <td>0</td>\n      <td>0</td>\n      <td>0</td>\n      <td>0</td>\n      <td>0</td>\n      <td>0</td>\n      <td>0</td>\n      <td>0</td>\n      <td>0</td>\n      <td>0</td>\n      <td>...</td>\n      <td>0</td>\n      <td>0</td>\n      <td>0</td>\n      <td>0</td>\n      <td>0</td>\n      <td>0</td>\n      <td>0</td>\n      <td>0</td>\n      <td>0</td>\n      <td>0</td>\n    </tr>\n    <tr>\n      <th>SPA/NC</th>\n      <td>0</td>\n      <td>0</td>\n      <td>0</td>\n      <td>0</td>\n      <td>0</td>\n      <td>0</td>\n      <td>0</td>\n      <td>0</td>\n      <td>0</td>\n      <td>0</td>\n      <td>...</td>\n      <td>0</td>\n      <td>0</td>\n      <td>0</td>\n      <td>0</td>\n      <td>0</td>\n      <td>0</td>\n      <td>0</td>\n      <td>0</td>\n      <td>0</td>\n      <td>0</td>\n    </tr>\n  </tbody>\n</table>\n<p>81 rows × 81 columns</p>\n</div>",
      "text/plain": "        BUD  LVP  EDI  LON  BRE  PAR  MAR  VIE  TRI  NTH  ...  ENG  BUL/EC  \\\nBUD       0    0    0    0    0    0    0    0    0    0  ...    0       0   \nLVP       0    0    0    0    0    0    0    0    0    0  ...    0       0   \nEDI       0    0    0    0    0    0    0    0    0    0  ...    0       0   \nLON       0    0    0    0    0    0    0    0    0    0  ...    0       0   \nBRE       0    0    0    0    0    0    0    0    0    0  ...    0       0   \n...     ...  ...  ...  ...  ...  ...  ...  ...  ...  ...  ...  ...     ...   \nSTP/NC    0    0    0    0    0    0    0    0    0    0  ...    0       0   \nSKA       0    0    0    0    0    0    0    0    0    0  ...    0       0   \nCLY       0    0    0    0    0    0    0    0    0    0  ...    0       0   \nSYR       0    0    0    0    0    0    0    0    0    0  ...    0       0   \nSPA/NC    0    0    0    0    0    0    0    0    0    0  ...    0       0   \n\n        WAL  BUL/SC  IRI  STP/NC  SKA  CLY  SYR  SPA/NC  \nBUD       0       0    0       0    0    0    0       0  \nLVP       0       0    0       0    0    0    0       0  \nEDI       0       0    0       0    0    0    0       0  \nLON       0       0    0       0    0    0    0       0  \nBRE       0       0    0       0    0    0    0       0  \n...     ...     ...  ...     ...  ...  ...  ...     ...  \nSTP/NC    0       0    0       0    0    0    0       0  \nSKA       0       0    0       0    0    0    0       0  \nCLY       0       0    0       0    0    0    0       0  \nSYR       0       0    0       0    0    0    0       0  \nSPA/NC    0       0    0       0    0    0    0       0  \n\n[81 rows x 81 columns]"
     },
     "execution_count": 46,
     "metadata": {},
     "output_type": "execute_result"
    }
   ],
   "source": [
    "adjacency_map = pd.DataFrame(0,columns=origins, index=origins)\n",
    "adjacency_map"
   ]
  },
  {
   "cell_type": "code",
   "execution_count": 49,
   "metadata": {},
   "outputs": [
    {
     "data": {
      "text/html": "<div>\n<style scoped>\n    .dataframe tbody tr th:only-of-type {\n        vertical-align: middle;\n    }\n\n    .dataframe tbody tr th {\n        vertical-align: top;\n    }\n\n    .dataframe thead th {\n        text-align: right;\n    }\n</style>\n<table border=\"1\" class=\"dataframe\">\n  <thead>\n    <tr style=\"text-align: right;\">\n      <th></th>\n      <th>BUD</th>\n      <th>LVP</th>\n      <th>EDI</th>\n      <th>LON</th>\n      <th>BRE</th>\n      <th>PAR</th>\n      <th>MAR</th>\n      <th>VIE</th>\n      <th>TRI</th>\n      <th>NTH</th>\n      <th>...</th>\n      <th>ENG</th>\n      <th>BUL/EC</th>\n      <th>WAL</th>\n      <th>BUL/SC</th>\n      <th>IRI</th>\n      <th>STP/NC</th>\n      <th>SKA</th>\n      <th>CLY</th>\n      <th>SYR</th>\n      <th>SPA/NC</th>\n    </tr>\n  </thead>\n  <tbody>\n    <tr>\n      <th>BUD</th>\n      <td>0</td>\n      <td>0</td>\n      <td>0</td>\n      <td>0</td>\n      <td>0</td>\n      <td>0</td>\n      <td>0</td>\n      <td>43</td>\n      <td>39</td>\n      <td>0</td>\n      <td>...</td>\n      <td>0</td>\n      <td>0</td>\n      <td>0</td>\n      <td>0</td>\n      <td>0</td>\n      <td>0</td>\n      <td>0</td>\n      <td>0</td>\n      <td>0</td>\n      <td>0</td>\n    </tr>\n    <tr>\n      <th>LVP</th>\n      <td>0</td>\n      <td>0</td>\n      <td>12</td>\n      <td>0</td>\n      <td>0</td>\n      <td>0</td>\n      <td>0</td>\n      <td>0</td>\n      <td>0</td>\n      <td>0</td>\n      <td>...</td>\n      <td>0</td>\n      <td>0</td>\n      <td>42</td>\n      <td>0</td>\n      <td>22</td>\n      <td>0</td>\n      <td>0</td>\n      <td>17</td>\n      <td>0</td>\n      <td>0</td>\n    </tr>\n    <tr>\n      <th>EDI</th>\n      <td>0</td>\n      <td>32</td>\n      <td>0</td>\n      <td>0</td>\n      <td>0</td>\n      <td>0</td>\n      <td>0</td>\n      <td>0</td>\n      <td>0</td>\n      <td>27</td>\n      <td>...</td>\n      <td>0</td>\n      <td>0</td>\n      <td>1</td>\n      <td>0</td>\n      <td>0</td>\n      <td>0</td>\n      <td>0</td>\n      <td>18</td>\n      <td>0</td>\n      <td>0</td>\n    </tr>\n    <tr>\n      <th>LON</th>\n      <td>0</td>\n      <td>0</td>\n      <td>2</td>\n      <td>0</td>\n      <td>2</td>\n      <td>0</td>\n      <td>0</td>\n      <td>0</td>\n      <td>0</td>\n      <td>43</td>\n      <td>...</td>\n      <td>51</td>\n      <td>0</td>\n      <td>34</td>\n      <td>0</td>\n      <td>0</td>\n      <td>0</td>\n      <td>0</td>\n      <td>0</td>\n      <td>0</td>\n      <td>0</td>\n    </tr>\n    <tr>\n      <th>BRE</th>\n      <td>0</td>\n      <td>0</td>\n      <td>0</td>\n      <td>8</td>\n      <td>0</td>\n      <td>35</td>\n      <td>0</td>\n      <td>0</td>\n      <td>0</td>\n      <td>0</td>\n      <td>...</td>\n      <td>48</td>\n      <td>0</td>\n      <td>10</td>\n      <td>0</td>\n      <td>0</td>\n      <td>0</td>\n      <td>0</td>\n      <td>0</td>\n      <td>0</td>\n      <td>0</td>\n    </tr>\n    <tr>\n      <th>...</th>\n      <td>...</td>\n      <td>...</td>\n      <td>...</td>\n      <td>...</td>\n      <td>...</td>\n      <td>...</td>\n      <td>...</td>\n      <td>...</td>\n      <td>...</td>\n      <td>...</td>\n      <td>...</td>\n      <td>...</td>\n      <td>...</td>\n      <td>...</td>\n      <td>...</td>\n      <td>...</td>\n      <td>...</td>\n      <td>...</td>\n      <td>...</td>\n      <td>...</td>\n      <td>...</td>\n    </tr>\n    <tr>\n      <th>STP/NC</th>\n      <td>0</td>\n      <td>0</td>\n      <td>0</td>\n      <td>0</td>\n      <td>0</td>\n      <td>0</td>\n      <td>0</td>\n      <td>0</td>\n      <td>0</td>\n      <td>0</td>\n      <td>...</td>\n      <td>0</td>\n      <td>0</td>\n      <td>0</td>\n      <td>0</td>\n      <td>0</td>\n      <td>0</td>\n      <td>0</td>\n      <td>0</td>\n      <td>0</td>\n      <td>0</td>\n    </tr>\n    <tr>\n      <th>SKA</th>\n      <td>0</td>\n      <td>0</td>\n      <td>0</td>\n      <td>0</td>\n      <td>0</td>\n      <td>0</td>\n      <td>0</td>\n      <td>0</td>\n      <td>0</td>\n      <td>34</td>\n      <td>...</td>\n      <td>0</td>\n      <td>0</td>\n      <td>0</td>\n      <td>0</td>\n      <td>0</td>\n      <td>0</td>\n      <td>0</td>\n      <td>0</td>\n      <td>0</td>\n      <td>0</td>\n    </tr>\n    <tr>\n      <th>CLY</th>\n      <td>0</td>\n      <td>18</td>\n      <td>30</td>\n      <td>0</td>\n      <td>0</td>\n      <td>0</td>\n      <td>0</td>\n      <td>0</td>\n      <td>0</td>\n      <td>0</td>\n      <td>...</td>\n      <td>0</td>\n      <td>0</td>\n      <td>0</td>\n      <td>0</td>\n      <td>0</td>\n      <td>0</td>\n      <td>0</td>\n      <td>0</td>\n      <td>0</td>\n      <td>0</td>\n    </tr>\n    <tr>\n      <th>SYR</th>\n      <td>0</td>\n      <td>0</td>\n      <td>0</td>\n      <td>0</td>\n      <td>0</td>\n      <td>0</td>\n      <td>0</td>\n      <td>0</td>\n      <td>0</td>\n      <td>0</td>\n      <td>...</td>\n      <td>0</td>\n      <td>0</td>\n      <td>0</td>\n      <td>0</td>\n      <td>0</td>\n      <td>0</td>\n      <td>0</td>\n      <td>0</td>\n      <td>0</td>\n      <td>0</td>\n    </tr>\n    <tr>\n      <th>SPA/NC</th>\n      <td>0</td>\n      <td>0</td>\n      <td>0</td>\n      <td>0</td>\n      <td>0</td>\n      <td>0</td>\n      <td>0</td>\n      <td>0</td>\n      <td>0</td>\n      <td>0</td>\n      <td>...</td>\n      <td>0</td>\n      <td>0</td>\n      <td>0</td>\n      <td>0</td>\n      <td>0</td>\n      <td>0</td>\n      <td>0</td>\n      <td>0</td>\n      <td>0</td>\n      <td>0</td>\n    </tr>\n  </tbody>\n</table>\n<p>81 rows × 81 columns</p>\n</div>",
      "text/plain": "        BUD  LVP  EDI  LON  BRE  PAR  MAR  VIE  TRI  NTH  ...  ENG  BUL/EC  \\\nBUD       0    0    0    0    0    0    0   43   39    0  ...    0       0   \nLVP       0    0   12    0    0    0    0    0    0    0  ...    0       0   \nEDI       0   32    0    0    0    0    0    0    0   27  ...    0       0   \nLON       0    0    2    0    2    0    0    0    0   43  ...   51       0   \nBRE       0    0    0    8    0   35    0    0    0    0  ...   48       0   \n...     ...  ...  ...  ...  ...  ...  ...  ...  ...  ...  ...  ...     ...   \nSTP/NC    0    0    0    0    0    0    0    0    0    0  ...    0       0   \nSKA       0    0    0    0    0    0    0    0    0   34  ...    0       0   \nCLY       0   18   30    0    0    0    0    0    0    0  ...    0       0   \nSYR       0    0    0    0    0    0    0    0    0    0  ...    0       0   \nSPA/NC    0    0    0    0    0    0    0    0    0    0  ...    0       0   \n\n        WAL  BUL/SC  IRI  STP/NC  SKA  CLY  SYR  SPA/NC  \nBUD       0       0    0       0    0    0    0       0  \nLVP      42       0   22       0    0   17    0       0  \nEDI       1       0    0       0    0   18    0       0  \nLON      34       0    0       0    0    0    0       0  \nBRE      10       0    0       0    0    0    0       0  \n...     ...     ...  ...     ...  ...  ...  ...     ...  \nSTP/NC    0       0    0       0    0    0    0       0  \nSKA       0       0    0       0    0    0    0       0  \nCLY       0       0    0       0    0    0    0       0  \nSYR       0       0    0       0    0    0    0       0  \nSPA/NC    0       0    0       0    0    0    0       0  \n\n[81 rows x 81 columns]"
     },
     "execution_count": 49,
     "metadata": {},
     "output_type": "execute_result"
    }
   ],
   "source": [
    "for row in range(len(complete_df)):\n",
    "    orig = complete_df.loc[row]['current_location']\n",
    "    dest = complete_df.loc[row]['impact_location']\n",
    "    res = complete_df.loc[row]['results']\n",
    "    if res == []:\n",
    "        adjacency_map[orig][dest] += 1\n",
    "\n",
    "    \n",
    "\n",
    "\n",
    "adjacency_map"
   ]
  },
  {
   "cell_type": "code",
   "execution_count": null,
   "metadata": {},
   "outputs": [],
   "source": []
  }
 ],
 "metadata": {
  "kernelspec": {
   "display_name": "Python 3.9.1 64-bit ('venv22062021')",
   "name": "python391jvsc74a57bd0d75ca9afd0b048374df8079dfe9a3df8bb9e13e3aa8f8907291c08f706be615f"
  },
  "language_info": {
   "codemirror_mode": {
    "name": "ipython",
    "version": 3
   },
   "file_extension": ".py",
   "mimetype": "text/x-python",
   "name": "python",
   "nbconvert_exporter": "python",
   "pygments_lexer": "ipython3",
   "version": "3.9.1"
  },
  "metadata": {
   "interpreter": {
    "hash": "d75ca9afd0b048374df8079dfe9a3df8bb9e13e3aa8f8907291c08f706be615f"
   }
  },
  "orig_nbformat": 2
 },
 "nbformat": 4,
 "nbformat_minor": 2
}