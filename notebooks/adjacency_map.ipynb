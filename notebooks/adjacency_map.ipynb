{
 "cells": [
  {
   "cell_type": "markdown",
   "metadata": {},
   "source": [
    "# Loading human plays' data"
   ]
  },
  {
   "cell_type": "code",
   "execution_count": null,
   "metadata": {},
   "outputs": [],
   "source": [
    "import diplomacy\n",
    "import pandas as pd\n",
    "import random\n",
    "from diplomacy import Game"
   ]
  },
  {
   "cell_type": "code",
   "execution_count": null,
   "metadata": {},
   "outputs": [],
   "source": [
    "game = Game()\n",
    "game.map.loc_abut"
   ]
  },
  {
   "cell_type": "code",
   "execution_count": null,
   "metadata": {},
   "outputs": [],
   "source": [
    "len(game.map.loc_abut.keys())"
   ]
  },
  {
   "cell_type": "code",
   "execution_count": null,
   "metadata": {},
   "outputs": [],
   "source": [
    "def get_adjacency_matrix(game, incl_lower_case=True):\n",
    "    new_dict = {}\n",
    "    for key, value in game.map.loc_abut.items():\n",
    "        new_dict[key.upper()] = value\n",
    "    #print(new_dict)\n",
    "\n",
    "    df = pd.DataFrame(0, columns=new_dict.keys(), index=new_dict.keys())\n",
    "    #print(df)\n",
    "    for key, value in game.map.loc_abut.items():\n",
    "        for ix in value:\n",
    "            df[key.upper()][ix.upper()] = 1\n",
    "    df['Total'] = df.sum(axis=0)\n",
    "    print(df)\n",
    "\n",
    "get_adjacency_matrix(game)"
   ]
  }
 ],
 "metadata": {
  "kernelspec": {
   "display_name": "Python 3.9.1 64-bit ('venv22062021')",
   "name": "python391jvsc74a57bd0d75ca9afd0b048374df8079dfe9a3df8bb9e13e3aa8f8907291c08f706be615f"
  },
  "language_info": {
   "codemirror_mode": {
    "name": "ipython",
    "version": 3
   },
   "file_extension": ".py",
   "mimetype": "text/x-python",
   "name": "python",
   "nbconvert_exporter": "python",
   "pygments_lexer": "ipython3",
   "version": "3.9.1"
  },
  "metadata": {
   "interpreter": {
    "hash": "d75ca9afd0b048374df8079dfe9a3df8bb9e13e3aa8f8907291c08f706be615f"
   }
  },
  "orig_nbformat": 2
 },
 "nbformat": 4,
 "nbformat_minor": 2
}