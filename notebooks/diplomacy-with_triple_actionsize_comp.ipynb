{
 "cells": [
  {
   "cell_type": "markdown",
   "metadata": {},
   "source": [
    "# Loading human plays' data"
   ]
  },
  {
   "cell_type": "code",
   "execution_count": 1,
   "metadata": {},
   "outputs": [],
   "source": [
    "import json\n",
    "import pandas as pd\n",
    "import numpy as np\n",
    "import mmap\n",
    "import json\n",
    "import itertools\n",
    "import seaborn as sns\n",
    "import pylab as pl"
   ]
  },
  {
   "cell_type": "code",
   "execution_count": 2,
   "metadata": {},
   "outputs": [],
   "source": [
    "# Load the json data\n",
    "def load_jsonl(path: str, num_games: int = 30, mmap: bool = False, start_index = 0, completed_only: bool = False):\n",
    "    '''\n",
    "    Loads the jsonl data from the given path.\n",
    "    If num_games is not -1, only the first num_games games are loaded.\n",
    "    If mmap is True, the data is memory mapped.\n",
    "    If completed_only is True, only completed games are loaded.\n",
    "    '''\n",
    "    games_jsons = []\n",
    "    counter = 0\n",
    "    with open(path, \"r+b\") as json_file:\n",
    "        if mmap:\n",
    "            with mmap.mmap(json_file.fileno(), length=0, access=mmap.ACCESS_READ) as mmap_object:\n",
    "                for i, line in enumerate(iter(mmap_object.readline, b\"\")):\n",
    "                    tmp = json.loads(line.decode(\"utf-8\"))\n",
    "                    if tmp[\"map\"] == \"standard\":\n",
    "                        if completed_only:\n",
    "                            for phase in tmp[\"phases\"]:\n",
    "                                if phase[\"name\"] == \"COMPLETED\":\n",
    "                                    counter += 1\n",
    "                                    if counter > start_index:\n",
    "                                        games_jsons.append(tmp)\n",
    "                        else:\n",
    "                            counter += 1\n",
    "                            if counter > start_index:\n",
    "                                games_jsons.append(tmp)\n",
    "\n",
    "                    if num_games != -1 and len(games_jsons) == num_games:\n",
    "                        print(\"last game line is\", i, counter)\n",
    "                        break\n",
    "        else:\n",
    "            for i, line in enumerate(json_file):\n",
    "                tmp = json.loads(line.decode(\"utf-8\"))\n",
    "                if tmp[\"map\"] == \"standard\":\n",
    "                    if completed_only:\n",
    "                        for phase in tmp[\"phases\"]:\n",
    "                            if phase[\"name\"] == \"COMPLETED\":\n",
    "                                counter += 1\n",
    "                                if counter > start_index:\n",
    "                                    games_jsons.append(tmp)\n",
    "                    else:\n",
    "                        counter += 1\n",
    "                        if counter > start_index:\n",
    "                                games_jsons.append(tmp)\n",
    "\n",
    "                if num_games != -1 and len(games_jsons) == num_games:\n",
    "                    print(\"last game line is\", i, counter)\n",
    "                    break\n",
    "\n",
    "    return games_jsons"
   ]
  },
  {
   "cell_type": "code",
   "execution_count": 5,
   "metadata": {},
   "outputs": [
    {
     "name": "stdout",
     "output_type": "stream",
     "text": [
      "last game line is 3734 1000\n"
     ]
    }
   ],
   "source": [
    "start_index = 0\n",
    "path = \"../data/diplomacy-v1-27k-msgs/standard_no_press.jsonl\"\n",
    "games_jsons = load_jsonl(path, num_games=1000, mmap=False, start_index=start_index, completed_only=True)"
   ]
  },
  {
   "cell_type": "code",
   "execution_count": 6,
   "metadata": {},
   "outputs": [],
   "source": [
    "# Convert to a pandas dataframe\n",
    "df = pd.DataFrame(games_jsons)"
   ]
  },
  {
   "cell_type": "code",
   "execution_count": 7,
   "metadata": {},
   "outputs": [],
   "source": [
    "games = df['phases']"
   ]
  },
  {
   "cell_type": "code",
   "execution_count": 8,
   "metadata": {},
   "outputs": [
    {
     "data": {
      "text/plain": [
       "0      {'name': 'S1901M', 'state': {'timestamp': 1542...\n",
       "1      {'name': 'S1901M', 'state': {'timestamp': 1542...\n",
       "2      {'name': 'S1901M', 'state': {'timestamp': 1542...\n",
       "3      {'name': 'S1901M', 'state': {'timestamp': 1542...\n",
       "4      {'name': 'S1901M', 'state': {'timestamp': 1542...\n",
       "                             ...                        \n",
       "995    {'name': 'S1901M', 'state': {'timestamp': 1542...\n",
       "996    {'name': 'S1901M', 'state': {'timestamp': 1542...\n",
       "997    {'name': 'S1901M', 'state': {'timestamp': 1542...\n",
       "998    {'name': 'S1901M', 'state': {'timestamp': 1542...\n",
       "999    {'name': 'S1901M', 'state': {'timestamp': 1542...\n",
       "Name: phases, Length: 1000, dtype: object"
      ]
     },
     "execution_count": 8,
     "metadata": {},
     "output_type": "execute_result"
    }
   ],
   "source": [
    "games.apply(lambda x: x[0])"
   ]
  },
  {
   "cell_type": "code",
   "execution_count": 9,
   "metadata": {},
   "outputs": [],
   "source": [
    "for game in games:\n",
    "    for ix, iy in enumerate(game):\n",
    "        game[ix]['phase_id'] = ix"
   ]
  },
  {
   "cell_type": "code",
   "execution_count": 10,
   "metadata": {},
   "outputs": [],
   "source": [
    "def flatten_json(input):\n",
    "    out = {}\n",
    "    out['game_id'] = input['state']['game_id']\n",
    "    out['phase_id'] = input['phase_id']\n",
    "    out['phase_name'] = input['name']\n",
    "    results_units_keys = [x for x in input['results']]\n",
    "\n",
    "    assert input['orders'].items() \n",
    "    for player, orders in input['orders'].items():\n",
    "        if orders is not None:\n",
    "            if orders:\n",
    "                for order in orders:\n",
    "                    out['coordinator'] = player\n",
    "                    out['type'] = order.split()[0]\n",
    "                    out['current_location'] = order.split()[1]\n",
    "                    out['action'] = order.split()[2]\n",
    "                    unit = order.split()[0]+ ' ' + order.split()[1]\n",
    "                    # print(\"unit result is: \", unit , unit in results_units, results_units)\n",
    "                    if input['results']:\n",
    "                        # if the action is retreat, we have to check the units in the state to see if there are only one occurance available for the unit\n",
    "                        # if out['action'] == 'R':\n",
    "                        #     all_units = input['state']['units'].values()\n",
    "                        #     if unit in all_units:\n",
    "                        #         assert len(input['results'][unit]) == 0, \"retreat should not have results\"\n",
    "                        #         out['result'] = [\"void\"]\n",
    "                        out['results'] = input['results'][unit]\n",
    "                    else:\n",
    "                        print(\"empty results\")\n",
    "                        print(order)\n",
    "                    out['impact_location'] = []\n",
    "                    if out['action'] == '-' or out['action'] == 'R':\n",
    "                        assert len(order.split()) == 4 or len(order.split()) == 5, order\n",
    "                        out['impact_location'] = order.split()[3]\n",
    "                    if unit in results_units_keys:\n",
    "                        results_units_keys.remove(unit)\n",
    "                    yield(out)\n",
    "                \n",
    "            else:\n",
    "                # uncmomment these if you need a row for empty orders (in group by you will get 1 instead of 0)\n",
    "                # out['coordinator'] = player\n",
    "                # out['type'] = -1\n",
    "                # out['current_location'] = -1\n",
    "                # out['action'] = -1\n",
    "                # out['results'] = -1\n",
    "                # out['impact_location'] = -1\n",
    "                # if out['action'] == '-' or out['action'] == 'R':\n",
    "                #     assert len(order.split()) == 4 or len(order.split()) == 5, order\n",
    "                #     out['impact_location'] = order.split()[3]\n",
    "                # yield(out)\n",
    "                pass\n",
    "\n",
    "    if len(results_units_keys)>0:\n",
    "        results_units_values = [input['results'][x] for x in results_units_keys]\n",
    "        total_len = 0\n",
    "        is_movement = True if out['phase_name'][-1] == 'M' else False\n",
    "        for l in results_units_values:\n",
    "                total_len += len(l)\n",
    "        # if we are in the last movement phase, the results are not meaningful\n",
    "        for unit in results_units_keys:\n",
    "            if unit == 'WAIVE': ## FIXME: double check this later\n",
    "                continue\n",
    "            assert len(unit.split()) == 2, unit\n",
    "            if not (total_len == 0 and is_movement):\n",
    "                out['coordinator'] = 'RA'\n",
    "            else:\n",
    "                for player in input[\"state\"][\"units\"]:\n",
    "                    if unit in input[\"state\"][\"units\"][player]:\n",
    "                        out['coordinator'] = player\n",
    "\n",
    "            if len(unit.split()[0]) != 1: # if we have sth like HOL D: \"void\"\n",
    "                assert input['results'][unit][0] == 'void', input['results'][unit]\n",
    "                location = unit.split()[0]\n",
    "                assert unit.split()[1] == 'D', unit.split()[1]\n",
    "                # find the corresponding key in the results\n",
    "                for key in input['results']:\n",
    "                    if key.split()[1] == location:\n",
    "                        assert input['results'][key][0] == \"disband\", input['results'][key]\n",
    "                        input['results'][key].append(input['results'][unit][0])\n",
    "                        break\n",
    "            else:\n",
    "                out['type'] = unit.split()[0]\n",
    "                out['current_location'] = unit.split()[1]\n",
    "                out['results'] = input['results'][unit]\n",
    "                if not (total_len == 0 and is_movement):\n",
    "                    out['action'] = -2 # not in orders and only in result // only happens for \n",
    "                else:\n",
    "                    out['action'] = -3\n",
    "                out['impact_location'] = -2\n",
    "                yield(out)"
   ]
  },
  {
   "cell_type": "code",
   "execution_count": 11,
   "metadata": {},
   "outputs": [],
   "source": [
    "all_records = []\n",
    "for idx, game in enumerate(games):\n",
    "  for idx, phase in enumerate(game):\n",
    "    row_generator = flatten_json(phase)\n",
    "    assert row_generator is not None, row_generator\n",
    "    for row in row_generator:\n",
    "      all_records.append(row.copy())"
   ]
  },
  {
   "cell_type": "code",
   "execution_count": 12,
   "metadata": {},
   "outputs": [],
   "source": [
    "complete_df = pd.DataFrame.from_records(all_records)"
   ]
  },
  {
   "cell_type": "code",
   "execution_count": null,
   "metadata": {},
   "outputs": [],
   "source": [
    "complete_df.loc[complete_df['coordinator'] == 'RA']"
   ]
  },
  {
   "cell_type": "code",
   "execution_count": null,
   "metadata": {},
   "outputs": [],
   "source": [
    "complete_df['unique_unit_id'] = -1"
   ]
  },
  {
   "cell_type": "markdown",
   "metadata": {},
   "source": [
    "## Temporal Binding"
   ]
  },
  {
   "cell_type": "code",
   "execution_count": 13,
   "metadata": {
    "id": "glaSz65KoHy4"
   },
   "outputs": [],
   "source": [
    "def assign_unit_id(phase_df, source_unit_id_map, dest_unit_id_map, _id, discard_disband_creation=False):\n",
    "\n",
    "    # fror each row in the phase df\n",
    "    for idx, row in phase_df.iterrows():\n",
    "\n",
    "        # if current location or type of army in invalid skip the row (we only deal with valid orders)\n",
    "        if row['action'] == -1 or row['action'] == -2 or row['type'] == 'N':\n",
    "            continue\n",
    "        \n",
    "        # get the current location of the unit\n",
    "        source_unit = (row['type'] + ' ' + row['current_location'], row['coordinator'])\n",
    "\n",
    "        # if the location is not in the map, add it to the map (in other phases the same unit can be used, hence checking the condition _ dictionaries are global, have data across phases)\n",
    "        if source_unit not in source_unit_id_map:\n",
    "            # if discard_disband_creation:\n",
    "                # if row['action'] == 'D':\n",
    "                #     print(\"disbanding a unit that does not exist\", row)\n",
    "                    # continue\n",
    "            source_unit_id_map[source_unit] = _id\n",
    "            _id += 1\n",
    "\n",
    "        # destination dict is synced with source dict after the loop, so that we can use updated info at the beginning of each assignment\n",
    "        phase_df.loc[idx,'unique_unit_id'] = source_unit_id_map[source_unit]\n",
    "\n",
    "        if row['action'] == '-':\n",
    "            result = row['results']\n",
    "            if isinstance(result, list):\n",
    "                if len(result) == 0:\n",
    "                    try:\n",
    "                        dest_unit = (row['type'] + ' ' + row['impact_location'], row['coordinator'])\n",
    "                    except:\n",
    "                        print(\"dest location error\", row)\n",
    "                        return\n",
    "                    if dest_unit not in dest_unit_id_map:\n",
    "                        dest_unit_id_map[dest_unit] = source_unit_id_map.pop(source_unit)\n",
    "                elif 'disband' in result:\n",
    "                    Exception(\"move with disband result\")\n",
    "                    # source_unit_id_map.pop(source_unit)\n",
    "                    \n",
    "        elif row['action'] == 'R':\n",
    "            result = row['results']\n",
    "            if isinstance(result, list):\n",
    "                if len(result) == 0:\n",
    "                    dest_unit = (row['type'] + ' ' + row['impact_location'], row['coordinator'])\n",
    "                    if dest_unit not in dest_unit_id_map:\n",
    "                        dest_unit_id_map[dest_unit] = source_unit_id_map.pop(source_unit)\n",
    "                elif 'disband' in result:\n",
    "                    if len(result) > 1:\n",
    "                        if 'void' in result:\n",
    "                                print(result)\n",
    "                    source_unit_id_map.pop(source_unit)\n",
    "\n",
    "        elif row['action'] == 'D':\n",
    "            result = row['results']\n",
    "            # if row.phase_id == 23:\n",
    "            # print(result, \"here\")\n",
    "            # print(result, type(result),isinstance(result, list), \"no\")\n",
    "            assert source_unit in source_unit_id_map\n",
    "            if isinstance(result, list):\n",
    "                if len(result) == 0:\n",
    "                    source_unit_id_map.pop(source_unit)\n",
    "                    # del source_unit_id_map[source_unit]\n",
    "                    # if row.phase_id == 23:\n",
    "                    # print(\"popped it out\")\n",
    "                elif 'disband' in result:\n",
    "                    source_unit_id_map.pop(source_unit)\n",
    "                elif 'void' in result:\n",
    "                    print(\"void disband\", row)\n",
    "            else:\n",
    "                 print(result, type(result),isinstance(result, list), \"yes\")\n",
    "        \n",
    "        elif row['action'] == 'B':\n",
    "            assert source_unit in source_unit_id_map\n",
    "\n",
    "        elif row['action'] == 'H':\n",
    "            assert source_unit in source_unit_id_map\n",
    "\n",
    "        elif row['action'] == 'S':\n",
    "            assert source_unit in source_unit_id_map\n",
    "        \n",
    "        elif row['action'] == 'C':\n",
    "            assert source_unit in source_unit_id_map\n",
    "\n",
    "        # for added result rows\n",
    "        elif row['action'] == -2:\n",
    "            pass\n",
    "            # result = row['results']\n",
    "            # assert source_unit in source_unit_id_map\n",
    "            # if isinstance(result, list):\n",
    "            #     if len(result) == 0:\n",
    "            #         source_unit_id_map.pop(source_unit)\n",
    "            #     # elif 'disband' in result and 'void' not in result:\n",
    "            #     #     source_unit_id_map.pop(source_unit)\n",
    "            #     # elif 'disband' in result and 'void' in result:\n",
    "            #     #     source_unit_id_map.pop(source_unit)\n",
    "            #     elif 'disband' in result:\n",
    "            #         source_unit_id_map.pop(source_unit)\n",
    "            #     else:\n",
    "            #         print(\"unknown result\", result)\n",
    "\n",
    "        elif row['action'] == -3:\n",
    "            assert source_unit in source_unit_id_map\n",
    "\n",
    "        else:\n",
    "            print(\"invalid action\", row)\n",
    "\n",
    "    # merge the source and destination dictionaries into one\n",
    "    source_unit_id_map.update(dest_unit_id_map)\n",
    "    # remove the destination dict (values get updated based on old data if we don't do this)\n",
    "    dest_unit_id_map = {}\n",
    "\n",
    "    return source_unit_id_map, dest_unit_id_map, _id"
   ]
  },
  {
   "cell_type": "code",
   "execution_count": 14,
   "metadata": {},
   "outputs": [],
   "source": [
    "unique_games = complete_df[\"game_id\"].unique()"
   ]
  },
  {
   "cell_type": "code",
   "execution_count": null,
   "metadata": {},
   "outputs": [],
   "source": [
    "# unique_games = ['NxMelzPAbZMYgrHY']"
   ]
  },
  {
   "cell_type": "code",
   "execution_count": 15,
   "metadata": {},
   "outputs": [],
   "source": [
    "def replace_dislodged_units(phases_cdf, dislodged_df):\n",
    "    for idx, row in dislodged_df.iterrows():\n",
    "        cond = phases_cdf[\"game_id\"].apply(lambda x: x == row.game_id) & phases_cdf[\"type\"].apply(lambda x: x == row.type) & phases_cdf[\"current_location\"].apply(lambda x: x == row.current_location) & phases_cdf[\"phase_id\"].apply(lambda x: x < row.phase_id) & phases_cdf[\"results\"].apply(lambda x: 'dislodged' in x)\n",
    "        assert phases_cdf.loc[cond].empty == False, (game_id, row)\n",
    "        c = phases_cdf.loc[cond].iloc[-1]['coordinator']\n",
    "        phases_cdf.loc[idx,'coordinator'] = c"
   ]
  },
  {
   "cell_type": "code",
   "execution_count": 16,
   "metadata": {},
   "outputs": [
    {
     "name": "stdout",
     "output_type": "stream",
     "text": [
      "0 rW_Q9TpidGLGD2EL\n"
     ]
    },
    {
     "name": "stderr",
     "output_type": "stream",
     "text": [
      "/home/max/anaconda3/envs/py3fresh/lib/python3.7/site-packages/pandas/core/indexing.py:1596: SettingWithCopyWarning: \n",
      "A value is trying to be set on a copy of a slice from a DataFrame.\n",
      "Try using .loc[row_indexer,col_indexer] = value instead\n",
      "\n",
      "See the caveats in the documentation: https://pandas.pydata.org/pandas-docs/stable/user_guide/indexing.html#returning-a-view-versus-a-copy\n",
      "  self.obj[key] = _infer_fill_value(value)\n",
      "/home/max/anaconda3/envs/py3fresh/lib/python3.7/site-packages/pandas/core/indexing.py:1765: SettingWithCopyWarning: \n",
      "A value is trying to be set on a copy of a slice from a DataFrame.\n",
      "Try using .loc[row_indexer,col_indexer] = value instead\n",
      "\n",
      "See the caveats in the documentation: https://pandas.pydata.org/pandas-docs/stable/user_guide/indexing.html#returning-a-view-versus-a-copy\n",
      "  isetter(loc, value)\n"
     ]
    },
    {
     "name": "stdout",
     "output_type": "stream",
     "text": [
      "1 57xpw6Z-8IKo2hDK\n",
      "2 sdKZrT-i_BvEZsFU\n",
      "3 p6m8jMuDPsM0dtUh\n",
      "4 0yv59hl6e5Ensb4M\n",
      "5 NxMelzPAbZMYgrHY\n",
      "6 omNMEctxL53gLSC0\n",
      "7 h9QEPT6s5-Fi1WrV\n",
      "8 HaJIleHsrwGvcRwO\n",
      "9 BKJDUpmRsGnikiLG\n",
      "10 8Vv4RupS6oaY3W9-\n",
      "11 UUaNd1k82YhdM3Rh\n",
      "12 E6sklWIxfto3V_J3\n",
      "13 v08CT15R64vUdi9I\n",
      "14 8QrJVtFLhrudJBbO\n",
      "15 yCOKdNHDFvK7BDp8\n",
      "16 EZl1DDW5twoaDS_C\n",
      "17 144oP_8-6uqCHwZM\n",
      "18 Szyr6ULvx7YrbDhE\n",
      "19 5C84x0ZHALNdNKWU\n",
      "20 HfXKaYlaJ-ps_Ya2\n",
      "21 b6k2tC-e1mt1iffj\n",
      "22 xj_kXXHeqDURjQEr\n",
      "23 kDIaNZNUUXb_7mVg\n",
      "24 4opSwJ0yKQvG6GUn\n",
      "25 PwZbL4mKBdLnLOXD\n",
      "26 uV-7w9KOVy_o2rdH\n",
      "27 3yF7d9kILVlKwg4K\n",
      "28 d_MnLiv2EBqiDtYS\n",
      "29 MJMHyiWIXju2kUSI\n",
      "30 A-J30ebaQMXpWz4A\n",
      "31 bsDoJ5V3v3v49WN7\n",
      "32 TPFTRCH2a15LeMxF\n",
      "33 k28iYxWtOx1lWU11\n",
      "34 MUzOMuSwyUDAvqTx\n",
      "35 kEmjB7goNydF8Vye\n",
      "36 _ezOXAmDjeWK7y2R\n",
      "37 cnrI7fG4hFRzaejP\n",
      "38 JofrQNQo1UdlEbiW\n",
      "39 yJiy2DiDA2cVkAcW\n",
      "40 8kFZ31Pm0f1Hvas_\n",
      "41 CCMPrLeKxhOWwdZ0\n",
      "42 5hoju_pTKyEgZmTN\n",
      "43 vFV_wxRWxhijtFoZ\n",
      "44 GR8M2f2FTWbhOuiY\n",
      "45 LoiPYFIJZKP7ysev\n",
      "46 VEQUkSbvIL1sTxTz\n",
      "47 FM2prX411IWBjM6C\n",
      "48 cKhQ4bNGlVav7tQK\n",
      "49 HFOLo-v_5XJJZJpk\n",
      "50 sPahEZFrbAYSS2pU\n",
      "51 SrUGDownRRsncAVe\n",
      "52 xXOq9j0NtJC2LYS_\n",
      "53 0ttJkNSnC1NDzzsi\n",
      "54 LJdW8X5cL7jVfBHZ\n",
      "55 74PvWJP6eO5s8_G6\n",
      "56 dei663_ccEIc8_lj\n",
      "57 Pe3y60SDlzPSRHy_\n",
      "58 P7mlY1g3BkglHt-s\n",
      "59 1p-WXKrqrCfvH8mY\n",
      "60 jEvxyTn2CZv-NJQy\n",
      "61 dgMxSeM26BxlnxSQ\n",
      "62 y3ZOvmJTMuSuRHNE\n",
      "63 9yrnQcPLPcNI-zEY\n",
      "64 eA3Stm8T4wm5NMcA\n",
      "65 _WZyEYFCqsde3KkG\n",
      "66 FYYVuB2E7_vqnqVe\n",
      "67 fWHr0A_xzfjryLOB\n",
      "68 jTxZGEj45viIK86U\n",
      "69 _eyBZf3m8vVSl7j1\n",
      "70 O-W_pcGosuZjgHm6\n",
      "71 a1VLYLIyGweAfWVS\n",
      "72 MiGWPJruAPXAL6wY\n",
      "73 crGiYsXfF8RHzrKb\n",
      "74 Eg9Q3yTXBuXvq7DU\n",
      "75 iMWO-WtC1mmX4W9r\n",
      "76 4BZT_H2gwHIhj6YS\n",
      "77 H4Il79WA5T4ckTaT\n",
      "78 Ycj7l51rfdzxAS-T\n",
      "79 GR6jM3i94NHVUvLe\n",
      "80 kL6Ii7IeLqHxtZUc\n",
      "81 8NM2MaXEw9NCtb7D\n",
      "82 dtO6CRXL-XZ8PcGG\n",
      "83 bGMKQVmmOTZp8zEw\n",
      "84 bMvALh19LvNVzV33\n",
      "85 x-h4qfzFRUniSZmn\n",
      "86 8eeN-aIcPIYfWoed\n",
      "87 C75O2TDDQrePH2W5\n",
      "88 uhUucgk0qSW8pAIS\n",
      "89 D5lBQEoVwBZpyqtf\n",
      "90 DF6m8MkzJQrZ-lXj\n",
      "91 MKkZcmc5yit0GPa-\n",
      "92 YaJeeSHn3txrNFgI\n",
      "93 PkCccP4eK5LaIxAg\n",
      "94 dQ5eSGBacelONiNk\n",
      "95 yJ_43EuFETrNoxAx\n",
      "96 SHZbjtO3GfxS8qfT\n",
      "97 F7EocxbPdlSSZBCp\n",
      "98 DQzCrp2wkcFuRa01\n",
      "99 OYTWZZRGXYBE_eoh\n",
      "100 9faRaWoIFbJoJt_L\n",
      "101 O9-en551hefGoVY1\n",
      "102 SmR5-3Uov0vSK59q\n",
      "103 7fvyuDcMOc_5kIKI\n",
      "104 1PoA0EfNNs02SRN9\n",
      "105 I7M-imPTJdAMJ_QY\n",
      "106 -lxGsSbmvj-WV7nl\n",
      "107 yCozxN7QuibVwUhb\n",
      "108 pxUlZdem2o5RaeF8\n",
      "109 xf6mQvIaBe_3um9h\n",
      "110 b8QHjgrRxVw-X_a2\n",
      "111 aRJtY3dCyrkdejE5\n",
      "112 hzl0HG8XUsdMn-Uo\n",
      "113 8MY_vXltAEkwB8MC\n",
      "114 r2YHxJGd1-0pVOzz\n",
      "115 OpK-xaAkzb7hTo8V\n",
      "116 mqSbxT9Ho8IEK6Ux\n",
      "117 aITX1urpAN5_sLQi\n",
      "118 YcNdYYNCvMmR3f6y\n",
      "119 ko9OK4A0oiiQcNT6\n",
      "120 4xAkXL-dLS994imB\n",
      "121 uU_J5rSm-cw_A2AD\n",
      "122 OVm3nX6Z1Vq3lgHo\n",
      "123 VrxdVlTr8IMyyRFs\n",
      "124 2F1H2_VBWpuqGIc9\n",
      "125 Vr8GZNutzjwuSs19\n",
      "126 zEXc-bLOZbWtjMmB\n",
      "127 DrCAqVK7sZPVGCzT\n",
      "128 v83-R3QwvlA6zcPZ\n",
      "129 F_AU62ZirJ4YFtCZ\n",
      "130 EkFs6EO0rUZaqV0s\n",
      "131 XaU8vmqH2KYiUlYP\n",
      "132 CynKlGfI-ppaeQpi\n",
      "133 b1c2KiVwaMRrW2uN\n",
      "134 wosFjsfSXgACIQmU\n",
      "135 8OGadYoppKzOgGIg\n",
      "136 I-jfgUjmnYwryQbv\n",
      "137 MM-vfSmPHY5NbFdv\n",
      "138 74UMFr9qqLwozB9K\n",
      "139 hGpFMzSgyCFtC1m4\n",
      "140 3vjMdxen18PAHEDf\n",
      "141 9t0pYIKS9V6JCyTJ\n",
      "142 pTEENFqwynwKH-OE\n",
      "143 3xquzfxu_hgnu6c-\n",
      "144 RBLOUSiyWx2DP8-H\n",
      "145 KfnB74J3s-45ytac\n",
      "146 TMO_LszrVF34uazc\n",
      "147 AwPlx5fSgxeYoCYu\n",
      "148 fNsHFgo2BaIj4DCU\n",
      "149 kqexjC889ceAemIY\n",
      "150 y6D5nzcB-JkpLTxz\n",
      "151 gzPsX-wWou3JZHQi\n",
      "152 fcx8ri_pKhwReACo\n",
      "153 s99BuFgZ1AnVtNrn\n",
      "154 tRYV_VbQTCx6QEqC\n",
      "155 Uc8FE8DhYa6CMhy6\n",
      "156 5hKGLPfWvOSEo8G1\n",
      "157 SxKOzpsMBFYEsmpu\n",
      "158 6wqJER6oEbiA9spv\n",
      "159 sBBm1RZRlRBZUXhX\n",
      "160 Zbu8UGg0nxlIuxi3\n",
      "161 4FjxLmW3WihR3mJJ\n",
      "162 VlCoX138L0Yy2Ko6\n",
      "163 U80NGN1z7G-s_AbA\n",
      "164 Lde6W3Dbz0bDPTBC\n",
      "165 nYaCoF6BgV2WJ3Pk\n",
      "166 oRZFtMEYpFVdgAb_\n",
      "167 N628UkdBycUQITns\n",
      "168 K5VLn-5f8mP6S-y6\n",
      "169 4qUxp1k7_rKXa4QZ\n",
      "170 Mi_pw6PjLBiitTVB\n",
      "171 gWO8l1cWHA_pYIYu\n",
      "172 bfWxImaSLhWjV4Bh\n",
      "173 _UWIdE8jCjX-8Um5\n",
      "174 d0RX-CGxCiJTZ5cv\n",
      "175 uOKePR0MZtMOg96S\n",
      "176 DZk_GrxaanrWbZO2\n",
      "177 tlvgLPQGfsRp6bq2\n",
      "178 WqzklpNNSTpmRRz2\n",
      "179 3Tx4HdYTlpBhS5SA\n",
      "180 ah0LiQRK2E6AR7F5\n",
      "181 3Z0JuRYOqRWiXHBg\n",
      "182 MwlA4mtHvDbPGRkL\n",
      "183 5Zo0XaFbzwoawXZ_\n",
      "184 0-jO5UWYtxtw-Z2D\n",
      "185 CGCEangjoAD7-Yo3\n",
      "186 ZEoL4N3kDnPq0Blc\n",
      "187 bgZZIQOJfsTcOxGB\n",
      "188 BXVEZqmpGsBqZxhW\n",
      "189 I3O-1Rw64oWP2sni\n",
      "190 Y2Or6qyaWoDPUaBy\n",
      "191 _MA2EzW7utrkdJnz\n",
      "192 V5PEey0Al2_Il0jU\n",
      "193 zLKS8Xm2zOXoTAmj\n",
      "194 HchUcTeDwus01QqJ\n",
      "195 USOpZSAGi0RaNDem\n",
      "196 ub5Rj7kiwJwmEbEZ\n",
      "197 35pkHFyPS841v8yp\n",
      "198 b1642K167rlp0iux\n",
      "199 TT9U57Xbiqcpiubr\n",
      "200 aR3hMv4xf2BCu0TZ\n",
      "201 3nrx13Lu-UJKg8nf\n",
      "202 brMAFrYCOsIgmy6u\n",
      "203 836GhMSHm0T6UbtM\n",
      "204 fWqsBgFabBMNlzwe\n",
      "205 FsucL9UZJrNx2Gbp\n",
      "206 mZCcWeiHOk380em_\n",
      "207 Ns_PFTfwd23yr0TM\n",
      "208 SS5u4tqcvcLDv2VV\n",
      "209 aGxvC6ijs7yEAqT2\n",
      "210 S9TrNEYD3WA4XaaQ\n",
      "211 6QF574RZ93TQ7yD6\n",
      "212 oinpN0cYh0uWToe1\n",
      "213 3XHPfUW1ttWvwe_C\n",
      "214 HyaP-iFYll1Rf74-\n",
      "215 Z0nVFguF3D_n50n8\n",
      "216 6d9S4hgnn9J3X_yY\n",
      "217 n0u7q2DwwjblZLmI\n",
      "218 6c54s4vyN3MI_GuO\n",
      "219 k5PaS5GPwVL1WT2V\n",
      "220 DCe_4P0zfGe1z2A9\n",
      "221 SxFwd7emwhNQEqT-\n",
      "222 rX7ShHhcjh-3a1V-\n",
      "223 hxmsfsnn5FEE349k\n",
      "224 AL1kPiPafD6LhAbS\n",
      "225 9jltG8kG1ziqpHGY\n",
      "226 Z-dr9kydiQLQ3Wd3\n",
      "227 sPvtsbdAPlv289H_\n",
      "228 smFeRBWsD4FHpaMp\n",
      "229 sryW2j8N0JycMJtz\n",
      "230 a8uuB7G2uG_91aR_\n",
      "231 WvwX2lrS4fTE2nED\n",
      "232 toB3EL2X0lVwdsTr\n",
      "233 bhSbGWSHlU85vLfQ\n",
      "234 d09qofDYRYUwGQlH\n",
      "235 i8JguYiBdcsu6dID\n",
      "236 Nh4chC1lShcS8fKj\n",
      "237 D1_22PvQjEMBw71n\n",
      "238 16TQezecxXb1ET2b\n",
      "239 ovrdm0iTVkhgTJ7E\n",
      "240 Foc4URdvsTDPzcxj\n",
      "241 eIqQoxK7cel3vpur\n",
      "242 71-6RN4qpOF_ZM0q\n",
      "243 K9YTIbeOPmG_fh_i\n",
      "244 6jrXkQAIqTK0U6II\n",
      "245 gEN20u8TLtCl3DFe\n",
      "246 ljm4gxw6P4ToFphf\n",
      "247 yO_lxJRiqazK4r26\n",
      "248 F0ns62XsgwFpaHD8\n",
      "249 1H54N6ZVddOPiaFS\n",
      "250 YPUFy_3Y-X2Ccni3\n",
      "251 TiMDOR-G5uxhVytT\n",
      "252 D9-t4f-a43P8Yy6v\n",
      "253 XW10BRIi5qGfhyJM\n",
      "254 3wN4pg0oI3_EkwPK\n",
      "255 7J8wTS8oM4jqcSDV\n",
      "256 fO66A46lzXaAxWq4\n",
      "257 ukEqljrxa6iQ2ovK\n",
      "258 Gr3NgD7hyVsiDsnq\n",
      "259 _n_7l2fm-mM5kn2P\n",
      "260 JjkMJf7vVSe_BlCN\n",
      "261 AoYOSDhV60x2b2kP\n",
      "262 sc0TipaHEPjx9Pqw\n",
      "263 mtjfOMBf5HA5C0Yq\n",
      "264 tPvt_4PFtqGw4B6L\n",
      "265 BSwBbkuS29dcvp9B\n",
      "266 bcK0Asv6LZPN95bb\n",
      "267 HoG7CHqa401KQ-hr\n",
      "268 UY5MTNJi4WO_PLsQ\n",
      "269 yHK-UNhc0hyV7201\n",
      "270 mDWeezO907yuXSy2\n",
      "271 YODanbnQa4Nmexr2\n",
      "272 oRzLiC4RD8jRhMRM\n",
      "273 DvY51t9eaU9AsH3L\n",
      "274 LWpEk_LKyaPSYWd7\n",
      "275 8GEXvOhZxXJNxYBD\n",
      "276 kBm6SRawi5aw152T\n",
      "277 DorZUb1g5YZh_ZKA\n",
      "278 XKaJCrJ2LufGUB4S\n",
      "279 Qo0NORUs0inO0akK\n",
      "280 JYWylSFU56nDOa2M\n",
      "281 JT7Z_g0mTfZDAbVj\n",
      "282 QqgB7L1MaqCnwMNB\n",
      "283 HIVlGD1Sh4XNwG7b\n",
      "284 6_STAGdi6ksMqldA\n",
      "285 tk_7WW4R6Bp64RCv\n",
      "286 _0N3qZuWkbz_gwef\n",
      "287 vW5wKx4NR0EWH0h4\n",
      "288 U6WF0IO2_5UF04F-\n",
      "289 pG8DC2v9wtIPR8x8\n",
      "290 3c8-06nrCk53dA9c\n",
      "291 v78wKiOwicKZlfP2\n",
      "292 8gMsWtmWpGi1NlXl\n",
      "293 RrX4v2hekd9_fdEu\n",
      "294 fxCxLbPLnpCl3DnQ\n",
      "295 3GPht-812b0bO45x\n",
      "296 INCI-l8dt3fQaDGe\n",
      "297 TqP5C2Qfs0zJLDR6\n",
      "298 ubm1yyLLVpxO0_so\n",
      "299 4213yNZAjFh5tZvP\n",
      "300 gK5KP9I2qurevzIJ\n",
      "301 XSsrE7skQuMVuYVJ\n",
      "302 1r1gaxZ3fVNukDOj\n",
      "303 MiPenD9PJ0-Mo_KX\n",
      "304 dVuu8HgY5Mk3qpvx\n",
      "305 x9ng6ypiNhH9URs-\n",
      "306 lemiMOkGIG8Ha7Gt\n",
      "307 D5YyoZc9FSHlQllh\n",
      "308 51ad5ON5HhFgl2RV\n",
      "309 I8dDTUA07kiIUZkJ\n",
      "310 BPr38E4MPAwVui-u\n",
      "311 1z4dOVP9ulKvLCj4\n",
      "312 VQN6KVit61dE2OAm\n",
      "313 MvgUAftjfa2FEicW\n",
      "314 7gh3N2e8i3hTO87X\n",
      "315 oYDHuZPMd1wMDsE4\n",
      "316 GXE7MMmHCiQYec6X\n",
      "317 _CPdx_7bU2XRc9Oa\n",
      "318 ITjIn5QW7su6ad-6\n",
      "319 UcIEYu09WKg3G7Oe\n",
      "320 B7T14o5d9GuNkQWt\n",
      "321 UqIn4dBagoM_rxyO\n",
      "322 LpG-XG6NmvwKkkxU\n",
      "323 LojnDNozjl_Cksfd\n",
      "324 _XY62mt4aH-rbqjA\n",
      "325 0YnUBVquDbK7_0qI\n",
      "326 sxZ4rpWRbOYCfp7L\n",
      "327 A799DJzAqT01qIo8\n",
      "328 u7nzDQkgkxdnEX-G\n",
      "329 TPzF6sUWwVoDFvFH\n",
      "330 RF-7_cp0-iPFVsM6\n",
      "331 lAsgH5caJGyYv5Au\n",
      "332 rjB-WoIlDp1W4gUH\n",
      "333 4ITF0YN-bTHLA7Zj\n",
      "334 ZS1UpuMdSKvsFTWu\n",
      "335 Wsiw-45a7MME38lQ\n",
      "336 UPRJ0CXOc7QFy6uC\n",
      "337 k_Hlm4WkpS-pRMgE\n",
      "338 gg79xv-wIVVpReiQ\n",
      "339 xiZSITdjQqWwTg9b\n",
      "340 KtrT1Ld2idqXCNsh\n",
      "341 4FyIwNzCqWmBZF3H\n",
      "342 2W6W0nJuWJD_RNCv\n",
      "343 A0sukFlgF6Sq435u\n",
      "344 tpUanPpWZ5PTQ68W\n",
      "345 h_m229rP92rN5sv0\n",
      "346 QmoEiwFclNJ9IK9k\n",
      "347 osCS2VIr3PdUX6GI\n",
      "348 zZ_nGbihDDM4TL98\n",
      "349 CIjzDmGXXIdrYpET\n",
      "350 WhE8xJP3tDHfKgv6\n",
      "351 50fWYE1VcB5w-hgd\n",
      "352 WAfEUV1vB-htpMSp\n",
      "353 EOsbMgrYswpLtU0j\n",
      "354 0WUvOAe_kYkUscuB\n",
      "355 bNUxUkHjQWLgEDc5\n",
      "356 hlQSw7OASe62xCpO\n",
      "357 tO-dbCvr6FiVi05j\n",
      "358 vjg-dieho_pILHjj\n",
      "359 uEe9Xydw2XlAEPEf\n",
      "360 mzXUucYGy65yFWPO\n",
      "361 vF4exitwrdutEkZP\n",
      "362 tqMLpj-CIoJ2KTlc\n",
      "363 1djwW85_2VJpQTqw\n",
      "364 JRITnW4tkK0dscUB\n",
      "365 ETeiVJA5zVvx74Lp\n",
      "366 92Pqg8B6P2b0wtFl\n",
      "367 C7RrSgSzdHO3zqV-\n",
      "368 E8-tA-p_megVKDJI\n",
      "369 EwxfPRSPhKIl4OQq\n",
      "370 DPkIruZh5wXmGSIz\n",
      "371 lvtz8raBuAURRkCb\n",
      "372 QJa8YTw0IYfiXUDk\n",
      "373 vnrmKFJ7BOmEfou2\n",
      "374 4vTMKvZWTFVskPQ_\n",
      "375 bhl5JHKZyx30HaUc\n",
      "376 UAudqLrX3am0izxY\n",
      "377 KgiNwxlKCzSBEY0S\n",
      "378 cGGM0gHEltQX_yom\n",
      "379 r7vYKAb57Lsa7lzV\n",
      "380 8j4Fr2mIpeKEckfZ\n",
      "381 mQP1IQL6pIlJftiu\n",
      "382 a2SWOMuh0rADi7DQ\n",
      "383 Mv1JrzdWBWjvFfJ8\n",
      "384 MU3w11rXoIYVTqAM\n",
      "385 WvQOE5Jsm0utI87U\n",
      "386 OAYvj0kPpqNj0khB\n",
      "387 9gcLWrhWHbAwv71B\n",
      "388 D7XQjagEFR0nMuhb\n",
      "389 GJIBh9rQaagBxguu\n",
      "390 KEnvM6YCIT3MwaWh\n",
      "391 BibUfcz-cL5Y7x6X\n",
      "392 DqvF3LcuF2dJiHuj\n",
      "393 uRfmmEAWjC4lSKuD\n",
      "394 Z8AcC7ldAKpFfxzh\n",
      "395 xyHLMPpkU_7LOINs\n",
      "396 Mg0cr-NUkUyUp9iG\n"
     ]
    },
    {
     "name": "stdout",
     "output_type": "stream",
     "text": [
      "397 0UHy04PfjSqSxhyP\n",
      "398 gWhUu9krL72FpXkC\n",
      "399 u5uMvjej4kTIyekR\n",
      "400 86kHXyegoHgAH9Cz\n",
      "401 jDMPHh0OmXjoxiuu\n",
      "402 27OYqfP6UmJN5ZdQ\n",
      "403 e6Y6vlmvwF87ij8c\n",
      "404 1pr1epSMRH4LDEUx\n",
      "405 5q2VwO6_eXlKwr_6\n",
      "406 WXD0XJKV7xVrlas2\n",
      "407 9uDak0Od5pQI_GFY\n",
      "408 4HoxGNwngo0jF4rW\n",
      "409 YfYrasosU6-_bgWU\n",
      "410 Lc6brjERSsIH52Fn\n",
      "411 KL0QTF19nszxevEC\n",
      "412 SP3Hje4l2gxkbnlL\n",
      "413 zuFsuVMeuiDtoNDr\n",
      "414 E-SK8z7BnssptCOa\n",
      "415 lMm2ZR-7dU2gVB-X\n",
      "416 3Yvp4TwbDwENd5uA\n",
      "417 X5bA592so6_1-bj9\n",
      "418 B7gYnpCETIEGOpsI\n",
      "419 1j5hULBywTwptWWR\n",
      "420 4vsZ8m_2bTHAvx6a\n",
      "421 Lk0ijKTvD_GAfW3l\n",
      "422 5XYFBRohYmCo3HA8\n",
      "423 uE3p_LujKUaUSQFU\n",
      "424 akdsuxJW8BorgsGy\n",
      "425 JJTcA4ta0PPEKFZ2\n",
      "426 _Tyxj5fCPHiJ0KFJ\n",
      "427 UDCXzk-3OjlwZrMf\n",
      "428 ohCQZ0EM3k_7iGdm\n",
      "429 uTzJOYi7C46zxBkE\n",
      "430 bbg6dSwrpaGiz5jT\n",
      "431 oSsWjfRO6wL6fMQn\n",
      "432 QP-uXX2HAhIi8a4T\n",
      "433 _K8aUkLVsfSrRfMj\n",
      "434 uAfnMgdvCJdnnaXO\n",
      "435 9CB1e47Xq3pG8u1a\n",
      "436 3InJZ8Vx1G8N3gua\n",
      "437 e5NIRwUNfxDLdjgs\n",
      "438 dyg4SKZoCB-XcMRG\n",
      "439 dt0sUdEc4InqxdU0\n",
      "440 63bAfyH9_Zl129Sz\n",
      "441 mTpvf6FnIaQzXRbU\n",
      "442 z1d3CZSuX6kW7fxm\n",
      "443 VgsCNs8xSJ5clSzt\n",
      "444 x6F4Tr7zGCFIGxO5\n",
      "445 pE4dXVEeGtgSBvxs\n",
      "446 b2WS-w3qeVdqko06\n",
      "447 2Dydyq7dkHSA1e6d\n",
      "448 6GfBmOQXv4GoxYRt\n",
      "449 W7BMjEFqy5qPmH3a\n",
      "450 txozKIoShIrEq2HK\n",
      "451 Jpuzd7h3XSCBoMtV\n",
      "452 tEcmHZv2RI3jI7WC\n",
      "453 prEgY4iehn2xKGxw\n",
      "454 YI4rldeJzGofJdNb\n",
      "455 ZMJSJafMDvR2oV89\n",
      "456 PGqzh7q-Xnsm5uUD\n",
      "457 rvMwAS4eGNZExzJq\n",
      "458 wkuB4EiX6uhZpXx5\n",
      "459 yHHq2ZW8gJ3N2JXq\n",
      "460 PuPtMeDQ1oNxDqFt\n",
      "461 a4coz04LfTf4L15I\n",
      "462 AvjLbTIL0hAaX5eb\n",
      "463 8hLFLGpuraq1WGLV\n",
      "464 FxlxSGU0Hiatk1tt\n",
      "465 S3MxhbcBuRRSbqEl\n",
      "466 M7S6lLDwNqnHHXQd\n",
      "467 P9dDv2d8X8mKG2f3\n",
      "468 bKjl1BBKjg1mfCTq\n",
      "469 3FUt_iRML-xQfn-z\n",
      "470 faygakrunrSB1h5n\n",
      "471 GPJzNhcT44RNvrHf\n",
      "472 SzaBTqk_yHcDiDJ2\n",
      "473 nyIEvl7mIe-97Kcj\n",
      "474 h6x3aVfEGuCeZohM\n",
      "475 S4OCp-TbEeziBcT0\n",
      "476 whB1mC5yr1ttXacO\n",
      "477 0VnlZWGDejCTlAms\n",
      "478 O9_TYwuwFit3rMzv\n",
      "479 C0t-C-QFZAa613q4\n",
      "480 lCAHEcK-P6W7leVW\n",
      "481 UmNd6MpZ7zFMS6BD\n",
      "482 DAvXkEDPbG2rFcTz\n",
      "483 TRSvZMAHJASlA9Ab\n",
      "484 FRNgNAKJS6wIEoX7\n",
      "485 zYgccOmJotyzakYm\n",
      "486 sWgTamUZ_YxsHqGm\n",
      "487 D_iXp-4QmLcaCkpn\n",
      "488 _O2R_x_gb-r27oXt\n",
      "489 g44F8jNE8DyJH1L1\n",
      "490 JJyWbrHRMaJR_E6F\n",
      "491 2BL6JSfIox8jagMQ\n",
      "492 bgM-H_LXkojfmTD9\n",
      "493 GheVPp7mSTAzQPjL\n",
      "494 vByQvB87zz9wwOd-\n",
      "495 Z7mQQOO420LHj9Ji\n",
      "496 fYxogoU27zmGbBBu\n",
      "497 gXCF2UP-cMYHkLlp\n",
      "498 L3yco1UZS3nXXQA3\n",
      "499 zqP9YsHd64gptddr\n",
      "500 g727-mgp4R__zfKl\n",
      "501 UQQy3KBhOxWHD7KC\n",
      "502 APx7X7zQu24MSz6Z\n",
      "503 As97-sSqexaQJlt1\n",
      "504 eZyGgA7QFYNg3Y8V\n",
      "505 KvxjNtOnmYW5X_O_\n",
      "506 BwUk6rFX9I0KAKyA\n",
      "507 aCTNb9wJM-WLeU63\n",
      "508 IBumOnKh-RgQvOLL\n",
      "509 0ExgzcPFg3-iS4k1\n",
      "510 p9iOzxg0VszycRw5\n",
      "511 rX_qBAlO8zIaksRW\n",
      "512 8kqPQvFkqY5of22g\n",
      "513 8ktifHQodRjqySPL\n",
      "514 qTusOupRHE1_gLwG\n",
      "515 RGvChlqdgAZZERgE\n",
      "516 WJBp7mwwYEYvN9xN\n",
      "517 hrW0EaZn4a7Gc2HZ\n",
      "518 gYjsRjXhi9POMgaB\n",
      "519 C5W7jcP9AFdFnYcK\n",
      "520 ixqDIopJ3z0W09Si\n",
      "521 03-OkP_giASjZNQ7\n",
      "522 BvlaXqsevm5qWXVb\n",
      "523 Rz7xfGBOZjPmEQ5_\n",
      "524 PkwxKZ-fDEvcmaiQ\n",
      "525 50CsZzGhez5-v8tI\n",
      "526 2qFvdxPhf-KwS2G_\n",
      "527 V4vGWzfLISGChju3\n",
      "528 ytkif7nMjHdsrdiF\n",
      "529 qVFNWdKWi-NOVZmC\n",
      "530 XgU8VPigrPjbLtr2\n",
      "531 TI_YwiEl31hT-Ksy\n",
      "532 DMzFL6WWjQP15VQu\n",
      "533 pixNwbdO4_wfAVYy\n",
      "534 i44o6DGxLgC52WLH\n",
      "535 oBdOHWagEHFJcezL\n",
      "536 pTPfc5DtkDH_cbXd\n",
      "537 6KGnSmTgLQhriWYV\n",
      "538 66SrJI8OhlXNtiZY\n",
      "539 iVmDXeexLEPvLRgT\n",
      "540 DrTyqv03VNhdubu_\n",
      "541 pA8wh8OEYToOe0hh\n",
      "542 j8hXiRxa3sJ8__F_\n",
      "543 Z2kRh50JI0rr2RDN\n",
      "544 R0HS5hD5KG9jxN9w\n",
      "545 BkCfTHXqrUwGWTiI\n",
      "546 oJdMXsK2sPa_zyHG\n",
      "547 3WNbhMbsORHXaJrM\n",
      "548 v72Vnm8LkzEXaxFl\n",
      "549 hrMQ5QikIWfsKEOi\n",
      "550 z5pMmwUxWFwt0AMZ\n",
      "551 GS1WHWv1Kf4n5HBv\n",
      "552 VR0HqC2XKv-HQws9\n",
      "553 kAvoHUjxA1Y0w74a\n",
      "554 yqyw3nc2h1aP9cCi\n",
      "555 Aef2JlL2A_p_NB3H\n",
      "556 ZBkJSGLb6sPCF_Z-\n",
      "557 1dXW0-cQBMhUMGXL\n",
      "558 oBsVws5l3DE6lWQP\n",
      "559 2SvmZR4OlhfrqUzu\n",
      "560 6D0AOdOsFuW9AzXZ\n",
      "561 sjXxuCJ0ckZhvyvn\n",
      "562 8CaQrFwvNpWl6-kX\n",
      "563 drRxJ3yLFMBGJiQA\n",
      "564 U2ASDNMUj-l5sNtV\n",
      "565 H7LeRbkyFZEYrzkX\n",
      "566 SOQ5Y8_cyO23Q32l\n",
      "567 gr44wWsnE8BDuR6n\n",
      "568 _g3FPliBfU7P17Cr\n",
      "569 MIzT3JvcZyVF4JM8\n",
      "570 YRkOfWenMu85HSa_\n",
      "571 raeelVLH7mszkxSL\n",
      "572 gDEOqPxqqnXXL7PG\n",
      "573 Uv6QY7x0HjBphmlC\n",
      "574 3Zh6oaRaFcFukhvo\n",
      "575 ZLcd_4_5YaCEy6rU\n",
      "576 bMv6fxnhpES3BSMN\n",
      "577 b4Q_nqj46UnHJ0PU\n",
      "578 OD_wkoeXOxmlmLsB\n",
      "579 b1nVLiyJeW2AfNgm\n",
      "580 lqFAwCc5o_b667iD\n",
      "581 36gdQfleNoxFUr6O\n",
      "582 -idWbcv-oC_vTvMh\n",
      "583 j0A-Fz6oT50Zp9Db\n",
      "584 RkFk9oPWzmmb6iJb\n",
      "585 X2olXso3Dn4fPDSJ\n",
      "586 DIToHsZZD6Bhru3k\n",
      "587 rP2xfV4fMGrOGTHq\n",
      "588 PQTTsW7Tp_ib-E5a\n",
      "589 Xf7eiboPmOhppRLy\n",
      "590 j1D9thfKgF_OT8dr\n",
      "591 dm1DzNx3MW2NyKOT\n",
      "592 4Btrk4k5ytnrRj3V\n",
      "593 3cLe9jeCcUhgMbNf\n",
      "594 sLesaG6CG2VDMcRo\n",
      "595 _4iZjB1PUHNrkZwB\n",
      "596 i12cc4O11RXNm1y7\n",
      "597 Q1rdPxlzstGhGdlB\n",
      "598 RSz9zURKCBMkoURl\n",
      "599 iILE7jNqFw6Oe3SR\n",
      "600 hY8AAeVMLTuGvJ1F\n",
      "601 J2yReEunycVKgy5i\n",
      "602 x_zDq5yXMEUxdJBL\n",
      "603 hvQZ-NhE8DKjLFMW\n",
      "604 qUBY36zCMu0iaaoz\n",
      "605 adr8lE1PtvOW3D71\n",
      "606 RZ6WZM77BzQ8Q448\n",
      "607 7LzBVTkebx8ayU4G\n",
      "608 CMyBupudsG4zytoE\n",
      "609 5oaCiLcaSUcYZjko\n",
      "610 ViOmUcBieZclTOIm\n",
      "611 zuZRhaaxGhDo-FZP\n",
      "612 TTRCIn0WtjiP1j6T\n",
      "613 L5vzdM_9q-JebW9Z\n",
      "614 bpUJhXxmwLhgJIWY\n",
      "615 66kgkgxGvbD9H124\n",
      "616 G8Mop_onHc_2b-WM\n",
      "617 O8eSJjNxhFwe5hSd\n",
      "618 _cAmAccvOc8TyJ_P\n",
      "619 2fQ3VCd7PJEN9m4v\n",
      "620 Jd-zVaESIoviWHZ_\n",
      "621 1iNbzkD5l2CK632J\n",
      "622 yTIQ7_pMLfJcPwZX\n",
      "623 q9GGkG2l0ubuIt1l\n",
      "624 YP9VhVB063B-DGdW\n",
      "625 2HR4aeiT1ZoPm9QS\n",
      "626 rj26tO3jrMvXBUyR\n",
      "627 Vzn5Rjq6qQy5AQpP\n",
      "628 IE03mPoAlePhsv55\n",
      "629 LaTji60YooeX6-8O\n",
      "630 xpD_mk2i48kW9xfr\n",
      "631 CU41G6XcRXDvvEvS\n",
      "632 I7YSutWEbAKTU3zx\n",
      "633 9v4Qu8-olv_gnu8h\n",
      "634 IdQn7H_jG_u7FGKj\n",
      "635 La4NuibRxl1v8x1K\n",
      "636 zMNqd3tvwj0eA4Wr\n",
      "637 WwtGGhuyAcy8_DHz\n",
      "638 LtYtxUnL40Xcd4AU\n",
      "639 2Q5SjmsmT01136in\n",
      "640 7yGKi0FgIU6zjQC4\n",
      "641 7gtvV8DH5X6OGOyC\n",
      "642 RrgsALpDq9VIKDP4\n",
      "643 LZLzfQ75ock5VFC9\n",
      "644 yIzQe2PhzbSO4mem\n",
      "645 mWFzrt-aWQLiTEGP\n",
      "646 Xn3b48LAl-A_tSW5\n",
      "647 -WlgFDQ6pJjHPNKE\n",
      "648 KHtNEwiR58SyeIWU\n",
      "649 4I3d06dwyu8SidQ-\n",
      "650 QeEo_Tum05QMvi8H\n",
      "651 mkSMIs7_vsRQvKwr\n",
      "652 QiEVwIvofrQiQPmj\n",
      "653 dmGVZPml971OdaZl\n",
      "654 vcyJJfTBoYBh-a6h\n",
      "655 0H4AGS1U-5Gc0-7Y\n",
      "656 Br0lxBxguU676xN_\n",
      "657 eSJFeCtDV6kuy-_F\n",
      "658 2vorXZuBv-SeDoMr\n",
      "659 GYlILTe-Q8QLgRQb\n",
      "660 XHRwqTVITfSYaHc6\n",
      "661 cMJdQ6nKy3VzM5q9\n",
      "662 EoAq8nBRboXlJEB1\n",
      "663 CVo1bf2Rppgz1sp4\n",
      "664 Fdsaq06_RS0Fa5X_\n",
      "665 RLiSuujk-oLA8DNP\n",
      "666 zmEKi1NJuAahDYx2\n",
      "667 hGD_W_Wlh7cqHm16\n",
      "668 6SnEmrIdZN3ORflA\n",
      "669 LvRbbjoed1RRfONn\n",
      "670 R7j8KovDxSg3X74Z\n",
      "671 Uc6JK7Gr4Gulzukz\n",
      "672 TUyDo5cjIPBHzQpS\n",
      "673 aYdQujfBeShLJ1-u\n",
      "674 ISITOeloGQCMnHEd\n",
      "675 ze4a5WdHE4_Q7iJI\n",
      "676 DP9bSvh1wgHs8D59\n",
      "677 8RRK3o3JTnGDgQ4z\n",
      "678 d5ZHhEStt20UKnHk\n",
      "679 6LG5sFvAHM5WXuRE\n",
      "680 i12zf3NHk_hNHj38\n",
      "681 TUYLJw-9fT3IJT6-\n",
      "682 KIohWEp_qwWn7zFQ\n",
      "683 fzaqZzMHfeSaSfR-\n",
      "684 _bc9v7giqV2NM14M\n",
      "685 jenVQx4b4dev-QV8\n",
      "686 l4Lr1Z48QQLGVGlR\n",
      "687 bNdMeGzqBteLCV0-\n",
      "688 4fx4geMOb8lFYZFa\n",
      "689 pn67sNCszRYPuoW1\n",
      "690 ISX7y9cxWWjBq1Bj\n",
      "691 KzgiZU7gTtiH2X3k\n",
      "692 zMm8IGFKsKGYYdgh\n",
      "693 9YRHyON2gngn8u0V\n",
      "694 MPzIGbAiU1YAKl9x\n",
      "695 gT3Uo_b_-hzxgV2J\n",
      "696 -NJmr06JVlPSI9sr\n",
      "697 8V5Qvn00Q5j6vEQ-\n",
      "698 apZgEGat6v5fgkb3\n",
      "699 warDPQZxW4lcLLjf\n",
      "700 FuxjLWcHewCcv4qO\n",
      "701 jo6w7zXIUFowZ7Y3\n",
      "702 FPcFIqyH-JK3jKrp\n",
      "703 D8Mx7klcOdDeVRQT\n",
      "704 xD2DzoWaKz4aP0H1\n",
      "705 DqcQDc5-SsLJC6zB\n",
      "706 BWAfzilxCvjO_hEq\n",
      "707 fJXgvfSMKvOmdXWn\n",
      "708 ELg5QrJ3SQentLly\n",
      "709 yPh0YglIugopKutJ\n",
      "710 yLaHcHBqhgQz0sP0\n",
      "711 bQRYCbz0TgRYU5eq\n",
      "712 ZVsRPfYmriJyBt_f\n",
      "713 x-brOXBhWaqGysuW\n",
      "714 uTi-D1k17oXKmv-I\n",
      "715 JUm_0M0onpD2aUSG\n",
      "716 QGGWxQYdcOu4Jfba\n",
      "717 POu86Fo6C-GS8FaG\n",
      "718 BMQZdaHP7dLqrpyh\n",
      "719 EmG9L_qqywD6LJ6A\n",
      "720 QDDzfz3FdoZ2Vt0Q\n",
      "721 juUNU6RG7f3bVsvQ\n",
      "722 0AoVPmEi9UKQ6BlE\n",
      "723 XgdMlNkuBiqVwmQi\n",
      "724 QPV_2e43PnhUvWn6\n",
      "725 xgmLUqgb9-wWnEAF\n",
      "726 JnUm9xIe9hDNVLhe\n",
      "727 Z_EVfbk5nNpI1Rhq\n",
      "728 KIUHcmzDiAf3YUUl\n",
      "729 mZUx1aKCcvbIu18u\n",
      "730 w3aX0A1bfxZJOsFM\n",
      "731 z6xZT-2zZAgghHcm\n",
      "732 jWDZNuZx3Z4geSl7\n",
      "733 GJIKYEdjefExDSXR\n",
      "734 g2MB2d7wSOkZaHI6\n",
      "735 AWcfgIw2CpNsYYH6\n",
      "736 9Rbv1GFdWruPB5vu\n",
      "737 s2uRp41scz98a2_C\n",
      "738 1-CYI1CBTfPNrTzh\n",
      "739 kPGrvRWD-u18b5oE\n",
      "740 jxgS7PBDPasiBv1n\n",
      "741 sql_RvbmNBsUVeI1\n",
      "742 OMFJpJEIwHBzaHML\n",
      "743 veuyOCBuFjF7N_M0\n",
      "744 DUgZy9JuDh5_cZAJ\n",
      "745 XKwWbbSWpcMfTUDc\n",
      "746 3HaPQrTSB3i-UJ8D\n",
      "747 9ua_u2pPdXY5y5tG\n",
      "748 k2Ec3dS3aj7H-bFi\n",
      "749 LefJ5bK4jLqhturD\n",
      "750 fBz-P-IYrdjKMBtu\n",
      "751 o-FNcaw-bJBFNg6q\n",
      "752 o6vRTYN1SCmyUrTp\n",
      "753 YY4_U5ZUsniPzTSU\n",
      "754 aD-iiAQQP58Yl26o\n",
      "755 k_Fp_h5Bf_vcEgSu\n",
      "756 kCxQP9k_PdhlOhHh\n",
      "757 GZgtFOcyhM77y86U\n",
      "758 cDwxCHXhOw46pk6M\n",
      "759 cDyexWyhXDc-Op-c\n",
      "760 kJy36n-Kam59ZtRp\n",
      "761 Sa_Zc5dh-s6OdiFI\n",
      "762 KZVkSQNMDBzKj0QO\n",
      "763 UfqOZrBdkYV7RdQl\n",
      "764 B4bQQocvprtp1vVO\n",
      "765 W-hFxiaLbdoRoS53\n",
      "766 apBDokCsxHxELwip\n",
      "767 lZXu8B_OneMiezC1\n",
      "768 nha6u7u6wsmWnUWA\n",
      "769 vVgct_xHErl9nKiN\n",
      "770 EpFcJiot_-kELjq2\n",
      "771 Z6kPVzepxSixATsh\n",
      "772 uDgItbMCuh_IVDJD\n",
      "773 jNGhonM-_VYjp42D\n",
      "774 msrfMFfqmW3lAVQJ\n",
      "775 HkDeGY10MA8MA7YO\n",
      "776 AebWsN3vqZlrtkC5\n",
      "777 u_HYMLKFrMtd6kI1\n",
      "778 kaU-dlOZWgzYPIsR\n",
      "779 qLrouFj2QDYEoLn5\n",
      "780 pDlLRkpO6xm9zgRC\n",
      "781 DSelgjcVmUDtkm7a\n",
      "782 K4mS5zFIYbLgdmdz\n",
      "783 mIxBvxYoDE-nrP33\n",
      "784 PA_F51sRXCtZLxFI\n",
      "785 OLsNQ24SADgrHTLM\n",
      "786 reiF624aNuEurSEG\n",
      "787 yhpbrFjbpoHgHZo-\n"
     ]
    },
    {
     "name": "stdout",
     "output_type": "stream",
     "text": [
      "788 O0i3mrp6AEW_Z_Oe\n",
      "789 ohCp0d8G0SeSCEwP\n",
      "790 gb8_kHu466KjXSFX\n",
      "791 QArlAfK1P5gPdJv3\n",
      "792 TTWndJUbVVPs1wrL\n",
      "793 UR_rHV-0pUQVufoP\n",
      "794 QWwIyC2Gf8ePkXrw\n",
      "795 riROrqm5K4sUTwDQ\n",
      "796 hsq59ypY5zwdSnuT\n",
      "797 xhx-D44x0i_OapVi\n",
      "798 uNJ9kvkISuL0n3AX\n",
      "799 NaZQI9JaCsllh_S1\n",
      "800 oLoJO4JGiMEQQYst\n",
      "801 8Gj4sjY7ZKxLINYB\n",
      "802 M9R8FapDvEZWjnPv\n",
      "803 ftp1r-Pk_ioq-rEn\n",
      "804 xNKn_8Q_uxHNKoC3\n",
      "805 Y7LK6TtcXeAGwgqA\n",
      "806 sdtbyfwYhf8vYxYT\n",
      "807 PRDBfMCuesI6Ef54\n",
      "808 h6yYdEGVERy3QBcm\n",
      "809 AeajdK2qoZcIiBbP\n",
      "810 YvlV2-iexzyZPZnC\n",
      "811 587ueVXAkOCLIxJh\n",
      "812 4xHzQ8fJRTfJfaTM\n",
      "813 svgQ0NH8Z-yyZB_t\n",
      "814 7xuahHV3PswHNQZ5\n",
      "815 ziSsnHYJ_v-Kc-07\n",
      "816 fulv3y-6EAtZfdfF\n",
      "817 Sk-FtFRNw9tenF7c\n",
      "818 8Htxzk0awreoJ3KK\n",
      "819 1oE8L3ATWHAALF_M\n",
      "820 AIatqXhaEPwJy8Va\n",
      "821 3fLJo9f1-3Ursv7D\n",
      "822 V5tL9Z9YgCV3sRo7\n",
      "823 xQNCWWBdTz80sVHY\n",
      "824 avd2PsIG6W1vX9iS\n",
      "825 VELizklTIVfKH00U\n",
      "826 scgbFlcEunek9LmP\n",
      "827 l00cGloYazO60cPt\n",
      "828 o0kybAIPSZYAkH6E\n",
      "829 2JZgyluGaouz-5Tq\n",
      "830 iioZXbulGY5wwS7Z\n",
      "831 cTtW9F7O-grkrPO9\n",
      "832 k4znFt3mCfzdzErt\n",
      "833 vjJZZCMI2kulHrgt\n",
      "834 BJzUFz7tguzcfVz_\n",
      "835 soSPEymWlcByPeud\n",
      "836 p9W459lhXDs9NVPE\n",
      "837 KUDcclgIZOK7K3HT\n",
      "838 P8j5oAlCQR7vuTj7\n",
      "839 zUKCwSdH0f1MCpQI\n",
      "840 RgrCkFrPWotsgh4t\n",
      "841 vNYpYMLEAA4qNIut\n",
      "842 _e0QWibE3MFhYWJQ\n",
      "843 vhD1gw6rxFDOPgFa\n",
      "844 z8lbsl2FPK-wBHt2\n",
      "845 MqSgZ4XrBURGR4rh\n",
      "846 w4IfPXfdZYm5S3hM\n",
      "847 f-mMYFfzxWudi4-_\n",
      "848 CogxJ6TfCPHOQA6d\n",
      "849 lgzkT0-aGh9PoOVo\n",
      "850 qPiXLTNR7-QM8w7Z\n",
      "851 CTQPcM9BDkbTxV1J\n",
      "852 Am78OiwHQUfvl4LR\n",
      "853 4oVFQF5GJKRE8QqZ\n",
      "854 TVNrSDwv3B2cYuQ8\n",
      "855 LGj_0HSx6Co1vdlN\n",
      "856 tQvFCge1qORfaj7D\n",
      "857 NDw0KR722bgk88Qs\n",
      "858 uJb1Ntk9i-U5-6M3\n",
      "859 f2Fg0hW_kJypGK-L\n",
      "860 ESQDHxTYxoJjzq6o\n",
      "861 E-HBYXc4LuU4u9PI\n",
      "862 _fr17HqkZ8MSM3dD\n",
      "863 ZzrH9UZMYgna_-qm\n",
      "864 v_K2TNMSPAJHg7Qe\n",
      "865 eXmHAnLPhw_-HXbO\n",
      "866 O2Hc-uG9O3G67G2d\n",
      "867 trTKKXfLMIA96AYj\n",
      "868 ECQqeIvwj8cgGYJt\n",
      "869 dKb341Ml5wmoKt4q\n",
      "870 YjV_Sw3Et68NZRJm\n",
      "871 mXA06JXtbtGawr17\n",
      "872 X9dWyk5IcJatSduC\n",
      "873 5fFiXxx94uwGpZM5\n",
      "874 g8ZaR0JaOlHk7JSu\n",
      "875 KjIipUdFfnXBdePB\n",
      "876 jeJpBFQs76ST5kQ2\n",
      "877 qM8nALGrjKnm8J9u\n",
      "878 jfvnpnojvTnW86Sq\n",
      "879 F8UYNAxBVky9Tj83\n",
      "880 xKORx0MgWDYoeMYr\n",
      "881 LxwfU0h4DvbVSm-o\n",
      "882 YdS7-TXupakY2Tx_\n",
      "883 VST-SBc7DdA5e1GQ\n",
      "884 ISFjxD88hV92BJub\n",
      "885 KhMckLrSwwRg7BaN\n",
      "886 Ef4dqvrTdou7QK-g\n",
      "887 SMKgyXrHCO88799N\n",
      "888 WrAf5VcsaQrh9cT7\n",
      "889 pGM-fCxb2xHaHMuF\n",
      "890 -mZztGtgLYdxrSj_\n",
      "891 Q8aj6Z1t45I0oQNc\n",
      "892 oJLhf4kTFMIl5zdP\n",
      "893 BPVAZvVk9hlCLpUp\n",
      "894 LUHyq9e6_Sd4ETHv\n",
      "895 pf4N6trX3P493Rqy\n",
      "896 0F3CkEygSYfe_gLu\n",
      "897 qSVBmPEkvQE3GcSC\n",
      "898 _sI1HcL5Xg4rhcH4\n",
      "899 zl9BnTLiR_WIbWJz\n",
      "900 BND3O_nIP6OuMNoN\n",
      "901 T1s8TKho7UjIbEjy\n",
      "902 ulmF6-QFkkLGczO5\n",
      "903 d2yPHbgDjXHOXHZm\n",
      "904 keSbcVMTT9i97MOr\n",
      "905 9xvTEKFDXTcQSaE4\n",
      "906 Ni7P_fx992vNlRlA\n",
      "907 oY7TExlP9YRfO68h\n",
      "908 5prONcLl2-y9XkwZ\n",
      "909 XynLwKw7Y8VDJz38\n",
      "910 OTH6kfOroLTH6Nyz\n",
      "911 JXWv7lZbyfj2awSd\n",
      "912 JT5kAHh1wQmmh6AQ\n",
      "913 94StTy6PMLQTYu-j\n",
      "914 BefTC4C3GxKGSWaW\n",
      "915 TMnGY6gq_qhJRHKP\n",
      "916 ERU3CkN4rmDtEeh4\n",
      "917 prnQuWPkvjJ9Mttq\n",
      "918 l-w4o4Mq-rl7PMYf\n",
      "919 bpakphv-w6eNCB-V\n",
      "920 FzkfcD4ON12JSh6-\n",
      "921 FtdT400dfPcIMZv6\n",
      "922 opXtq3wxFumoMxhx\n",
      "923 te6dHy9Oh8irn5Yp\n",
      "924 zVOATlGt3a3c9BDj\n",
      "925 Ac8GmVJrKDAknZkn\n",
      "926 eQz3R_5XoGoXdG4L\n",
      "927 rk-daflbJwm92mPX\n",
      "928 HGC7I9nG8KFi8EME\n",
      "929 j5y1YlOHeY1usxBJ\n",
      "930 rCMorX_jpRlbZpvw\n",
      "931 GzywbU4AZVO3b8Fa\n",
      "932 47EZKNkkpvz3YOzb\n",
      "933 UF_yseZyZ7HLdh7m\n",
      "934 7gh_NBMRzuUEqJ2V\n",
      "935 A7WUrsrt0kx9Y2Vk\n",
      "936 HDzE6giBYivKaatP\n",
      "937 b6ZfYZBQBP6NmkGv\n",
      "938 CwvBgms0c2PwKbt7\n",
      "939 ByhGSp8xcqXqiXth\n",
      "940 shgNM0xiOFi0guy7\n",
      "941 6fn6SrIZN6f7Ey8-\n",
      "942 IR6YpFI9Rg6dY08b\n",
      "943 TNVdTUSh0BnjS15z\n",
      "944 HpCZ-a0b1Q95g3eN\n",
      "945 r5I-nglLU1X_iRUf\n",
      "946 hqtl-7zG0m6Wr7H-\n",
      "947 3fFDPKaoxhvl1rT0\n",
      "948 Z88VK5Asz0sZ4Qtx\n",
      "949 HafZgQix_js-ARgd\n",
      "950 D0elUW068ul2z8jt\n",
      "951 pgIqlEhhTHxVm8c2\n",
      "952 UZOj3AqGdwdg71gA\n",
      "953 Q-N3BSwlTj8YRqsV\n",
      "954 zqOSTsm3Jp_blOJV\n",
      "955 mB_Z0LrEP3-cn3r_\n",
      "956 cAs093dc7f3A9gBy\n",
      "957 4UzNGxXTu6Wt2Z4X\n",
      "958 Vv8vUuv0578wb8bw\n",
      "959 -_ujlHZdjQa9C0UR\n",
      "960 rBXcaVGgpKmBEXOz\n",
      "961 gWCwuXXTI3hmaB7q\n",
      "962 gsmGW3vV747UVjw5\n",
      "963 wooQKTSQWhxZThMb\n",
      "964 4geamWdODetGXR3-\n",
      "965 XkcS97kDkRMn8_y5\n",
      "966 yHTkJ7hkaNbdtsyg\n",
      "967 50Es5d_GXK8KqWHB\n",
      "968 pwxH1oYQs-tw2bud\n",
      "969 XWpvV5YsU_DndWAW\n",
      "970 V66zIOHKTFrBm7zh\n",
      "971 dys7Bz8vi8DEINdt\n",
      "972 uPjBgJuWn28kxko2\n",
      "973 a-8O8I4kVa5v3lQX\n",
      "974 cdtA2rrurw7_bEcI\n",
      "975 EzpZ5W4DfzJBTqOq\n",
      "976 pb15mPnm5niiXjUg\n",
      "977 OVAgKtb84g0L9qw8\n",
      "978 7THa1YJ8VgdddQmM\n",
      "979 8BV422W7A4SyKh0y\n",
      "980 h2e-qkN1Te5kpMFU\n",
      "981 Fx60lYKTTi9SE0yz\n",
      "982 BFrg4jrphDhdMEHf\n",
      "983 sTUvlQbQZiC7jsN_\n",
      "984 eA9EQdlNeYB2wmm7\n",
      "985 y88XXpST9osB5pel\n",
      "986 2Px9DtfqP5cNP4o7\n",
      "987 zPj_fvp1sJIY4IaM\n",
      "988 9eXEVqeiyjb3EEE0\n",
      "989 OOtIslMrhRStCI2s\n",
      "990 g5G4VuhtYWE8NFSy\n",
      "991 y7ppdueS7TCHiMZj\n",
      "992 AtWNHzvoQmLoLjJU\n",
      "993 rDfSMBSAyHLm6oFO\n",
      "994 wwYLaOB68fWBLZds\n",
      "995 ap6LgcRrbIP8dLU3\n",
      "996 dcM87ZJ_NM7YiyZp\n",
      "997 C2MGqYsi5jRDYGt0\n",
      "998 SBe9QuzHNwEGpyAM\n",
      "999 ZLHaxZDhfAH3ht5R\n"
     ]
    }
   ],
   "source": [
    "game_phase_df_list = []\n",
    "for idx, game_id in enumerate(unique_games):\n",
    "    phases_df_list = []\n",
    "    print(idx, game_id)\n",
    "    s_dict = {}\n",
    "    d_dict = {}\n",
    "    _id = 1\n",
    "    game_df = complete_df.loc[complete_df[\"game_id\"].apply(lambda x: x == game_id)]\n",
    "    unique_phases = game_df['phase_id'].unique()\n",
    "    for phase in unique_phases:\n",
    "        condition = game_df[\"phase_id\"].apply(lambda x: x == phase)\n",
    "        phase_df = game_df.loc[condition]\n",
    "        s_dict, d_dict, _id = assign_unit_id(phase_df, s_dict, d_dict, _id, discard_disband_creation=False)\n",
    "        # print(phase, s_dict)\n",
    "        # print(d_dict)\n",
    "        phases_df_list.append(phase_df)\n",
    "    phases_cdf = pd.concat(phases_df_list)\n",
    "    dislodged_df = phases_cdf.loc[phases_cdf['action'] == -2].copy()\n",
    "    replace_dislodged_units(phases_cdf, dislodged_df)\n",
    "    game_phase_df_list.append(phases_cdf)"
   ]
  },
  {
   "cell_type": "code",
   "execution_count": 17,
   "metadata": {},
   "outputs": [],
   "source": [
    "# cdf = pd.concat(game_phase_df_list, ignore_index=True)\n",
    "cdf = pd.concat(game_phase_df_list)"
   ]
  },
  {
   "cell_type": "code",
   "execution_count": null,
   "metadata": {},
   "outputs": [],
   "source": [
    "cdf"
   ]
  },
  {
   "cell_type": "code",
   "execution_count": null,
   "metadata": {},
   "outputs": [],
   "source": [
    "assert cdf.loc[cdf['coordinator'] == 'RA'].empty"
   ]
  },
  {
   "cell_type": "code",
   "execution_count": null,
   "metadata": {},
   "outputs": [],
   "source": [
    "cdf.loc[cdf['action'] == -3]"
   ]
  },
  {
   "cell_type": "code",
   "execution_count": null,
   "metadata": {},
   "outputs": [],
   "source": [
    "complete_df.loc[complete_df['coordinator'] == 'RA']"
   ]
  },
  {
   "cell_type": "markdown",
   "metadata": {},
   "source": [
    "## Check the concatenated df"
   ]
  },
  {
   "cell_type": "markdown",
   "metadata": {},
   "source": [
    "reduce to only 2 seasons per year"
   ]
  },
  {
   "cell_type": "code",
   "execution_count": 18,
   "metadata": {},
   "outputs": [],
   "source": [
    "spring_fall_phases=(cdf['phase_name'].apply(lambda x:x[0])!='W') & (cdf['phase_name'].apply(lambda x:x[-1])!='R') & (cdf['phase_name'].apply(lambda x:x[-1]) == 'M')\n",
    "cdf_sf = cdf.loc[spring_fall_phases].copy()\n",
    "cdf_sf['phase_num']=cdf_sf.phase_name.apply(lambda x: float(x[1:-1]+('.0' if x[0]=='S' else '.5')))"
   ]
  },
  {
   "cell_type": "markdown",
   "metadata": {},
   "source": [
    "compute a binary winner label"
   ]
  },
  {
   "cell_type": "code",
   "execution_count": 19,
   "metadata": {},
   "outputs": [
    {
     "name": "stderr",
     "output_type": "stream",
     "text": [
      "/home/max/anaconda3/envs/py3fresh/lib/python3.7/site-packages/ipykernel_launcher.py:1: DeprecationWarning: The default dtype for empty Series will be 'object' instead of 'float64' in a future version. Specify a dtype explicitly to silence this warning.\n",
      "  \"\"\"Entry point for launching an IPython kernel.\n"
     ]
    }
   ],
   "source": [
    "winner_series=pd.Series(index=cdf.game_id.unique())\n",
    "for game_id in winner_series.index:\n",
    "    tmax=cdf_sf.loc[cdf_sf.game_id==game_id].phase_num.max()\n",
    "    final_units=cdf_sf.loc[(cdf_sf.game_id==game_id) & (cdf_sf.phase_num==tmax)].groupby('coordinator').unique_unit_id.nunique()\n",
    "    winner_series[game_id]=final_units.idxmax() if len(final_units)>0 else np.nan\n",
    "def dummy(row,winner_series):\n",
    "    return row.coordinator==winner_series[row.game_id]\n",
    "from functools import partial\n",
    "part_dummy=partial(dummy,winner_series=winner_series)\n",
    "cdf_sf['winner']=cdf_sf.apply(part_dummy,axis=1)"
   ]
  },
  {
   "cell_type": "markdown",
   "metadata": {},
   "source": [
    "view winning stats"
   ]
  },
  {
   "cell_type": "code",
   "execution_count": 20,
   "metadata": {},
   "outputs": [
    {
     "data": {
      "text/plain": [
       "TURKEY     235\n",
       "FRANCE     171\n",
       "GERMANY    159\n",
       "ENGLAND    122\n",
       "RUSSIA     117\n",
       "ITALY       99\n",
       "AUSTRIA     97\n",
       "dtype: int64"
      ]
     },
     "execution_count": 20,
     "metadata": {},
     "output_type": "execute_result"
    }
   ],
   "source": [
    "winner_series.value_counts()"
   ]
  },
  {
   "cell_type": "markdown",
   "metadata": {},
   "source": [
    "compute winner loser plot"
   ]
  },
  {
   "cell_type": "code",
   "execution_count": 23,
   "metadata": {},
   "outputs": [
    {
     "data": {
      "image/png": "[encoded data removed]",
      "text/plain": [
       "<Figure size 180x180 with 1 Axes>"
      ]
     },
     "metadata": {
      "needs_background": "light"
     },
     "output_type": "display_data"
    }
   ],
   "source": [
    "unitcounts=cdf_sf.groupby([\"game_id\",\"coordinator\",\"phase_num\",\"winner\"])[\"unique_unit_id\"].nunique()\n",
    "# winlose_data.groupby(['winner','phase_name']).mean().unstack().T.plot(legend=False,xticks=np.arange(1900,1920,5))\n",
    "fig,ax=pl.subplots(1,1,figsize=(2.5,2.5))#ensemble statistics\n",
    "sns.lineplot(ax=ax,\n",
    "             x='phase_num',\n",
    "             y='unique_unit_id',\n",
    "             data=unitcounts.reset_index().drop(labels=['game_id','coordinator'],axis=1),\n",
    "             hue=r'winner',\n",
    "             ci='sd',\n",
    "             palette=sns.color_palette(\"colorblind\", 2))\n",
    "h,l=ax.get_legend_handles_labels()\n",
    "ax.legend(handles=h[1:][::-1],labels=['winners','losers'],frameon=False)\n",
    "ax.grid()\n",
    "ax.set_yticks(np.arange(0,20,2))\n",
    "ax.set_yticklabels([0,'',4,'',8,'',12,'',16,''])\n",
    "ax.set_xticks(np.arange(1901,1919,4))\n",
    "ax.set_ylabel('number of units')\n",
    "ax.set_xlabel('year')\n",
    "ax.set_ylim(0,18)\n",
    "ax.set_xlim(1901,1918)\n",
    "fig.savefig('winners_and_losers_1000.pdf',format='pdf',dpi=300,bbox_inches='tight')"
   ]
  },
  {
   "cell_type": "markdown",
   "metadata": {},
   "source": [
    "### Exploring Data for different games"
   ]
  },
  {
   "cell_type": "code",
   "execution_count": null,
   "metadata": {},
   "outputs": [],
   "source": [
    "complete_df.loc[complete_df[\"game_id\"] == 'uXFQ2zgI-DUrgwlS']['phase_id'].unique()"
   ]
  },
  {
   "cell_type": "code",
   "execution_count": null,
   "metadata": {},
   "outputs": [],
   "source": [
    "cdf.loc[cdf['coordinator'] == 'RA'][:40].sort_values(by=['phase_id', 'unique_unit_id'])"
   ]
  },
  {
   "cell_type": "code",
   "execution_count": null,
   "metadata": {},
   "outputs": [],
   "source": [
    "unique_games"
   ]
  },
  {
   "cell_type": "code",
   "execution_count": null,
   "metadata": {},
   "outputs": [],
   "source": [
    "spring_fall_phases=(cdf['phase_name'].apply(lambda x:x[0])!='W') & (cdf['phase_name'].apply(lambda x:x[-1])!='R') & (cdf['phase_name'].apply(lambda x:x[-1]) == 'M')\n",
    "cdf[spring_fall_phases].groupby([\"game_id\",\"coordinator\",\"phase_name\"])[\"unique_unit_id\"].nunique().unstack().T.plot()"
   ]
  },
  {
   "cell_type": "code",
   "execution_count": null,
   "metadata": {},
   "outputs": [],
   "source": [
    "cdf[spring_fall_phases].groupby([\"game_id\",\"coordinator\",\"phase_name\"])[\"unique_unit_id\"].nunique().unstack().head(14)\n",
    "cdf.groupby([\"game_id\",\"coordinator\",\"phase_id\"])[\"unique_unit_id\"].nunique().unstack().head(8)"
   ]
  },
  {
   "cell_type": "code",
   "execution_count": null,
   "metadata": {},
   "outputs": [],
   "source": [
    "cnd=(cdf['phase_name'].apply(lambda x:x[0])!='W') & (cdf['phase_name'].apply(lambda x:x[-1])!='R') & (cdf['game_id'].apply(lambda x: x == '0yv59hl6e5Ensb4M') )\n",
    "cdf[cnd].groupby([\"game_id\",\"coordinator\",\"phase_id\"])[\"unique_unit_id\"].nunique().unstack().head(7)"
   ]
  },
  {
   "cell_type": "code",
   "execution_count": null,
   "metadata": {},
   "outputs": [],
   "source": [
    "cdf[spring_fall_phases].loc[cdf[\"game_id\"] == \"0yv59hl6e5Ensb4M\"]"
   ]
  },
  {
   "cell_type": "markdown",
   "metadata": {},
   "source": [
    "## Save a single game to JSON "
   ]
  },
  {
   "cell_type": "code",
   "execution_count": null,
   "metadata": {},
   "outputs": [],
   "source": [
    "from pprint import pprint\n",
    "import json"
   ]
  },
  {
   "cell_type": "code",
   "execution_count": null,
   "metadata": {},
   "outputs": [],
   "source": [
    "game_id = \"NxMelzPAbZMYgrHY\"\n",
    "for game in games_jsons:\n",
    "    if game['id'] == game_id:\n",
    "        json.dump(game, open(f'{game_id}.json', 'w'))"
   ]
  },
  {
   "cell_type": "markdown",
   "metadata": {},
   "source": [
    "# Calculate different triples"
   ]
  },
  {
   "cell_type": "markdown",
   "metadata": {},
   "source": [
    "### Manual exploration"
   ]
  },
  {
   "cell_type": "code",
   "execution_count": null,
   "metadata": {},
   "outputs": [],
   "source": [
    "# for a single game:\n",
    "game_id = \"lVp6PZxk3Jpufc9Z\"\n",
    "game_df = cdf.loc[cdf[\"game_id\"] == game_id]"
   ]
  },
  {
   "cell_type": "code",
   "execution_count": null,
   "metadata": {},
   "outputs": [],
   "source": [
    "spring_fall_phases = (game_df['phase_name'].apply(lambda x:x[-1]) == 'M')\n",
    "game_df = game_df.loc[spring_fall_phases]"
   ]
  },
  {
   "cell_type": "code",
   "execution_count": null,
   "metadata": {},
   "outputs": [],
   "source": [
    "game_df[\"phase_num\"] = game_df.phase_name.apply(lambda x: float(x[1:-1]+('.0' if x[0]=='S' else '.5')))"
   ]
  },
  {
   "cell_type": "code",
   "execution_count": null,
   "metadata": {},
   "outputs": [],
   "source": [
    "game_df[\"unique_unit_id\"].nunique()"
   ]
  },
  {
   "cell_type": "code",
   "execution_count": null,
   "metadata": {},
   "outputs": [],
   "source": [
    "game_df[\"unique_unit_id\"].max()"
   ]
  },
  {
   "cell_type": "code",
   "execution_count": null,
   "metadata": {},
   "outputs": [],
   "source": [
    "game_df.loc[game_df[\"unique_unit_id\"].idxmax()]"
   ]
  },
  {
   "cell_type": "code",
   "execution_count": null,
   "metadata": {},
   "outputs": [],
   "source": [
    "players = game_df[\"coordinator\"].unique()\n",
    "assert len(players) == 7"
   ]
  },
  {
   "cell_type": "code",
   "execution_count": null,
   "metadata": {},
   "outputs": [],
   "source": [
    "player_units = {}\n",
    "for player in players:\n",
    "    player_units[player] = game_df.loc[game_df[\"coordinator\"] == player][\"unique_unit_id\"].unique()"
   ]
  },
  {
   "cell_type": "code",
   "execution_count": null,
   "metadata": {},
   "outputs": [],
   "source": [
    "#https://stackoverflow.com/questions/45655936/how-to-test-all-items-of-a-list-are-disjoint\n",
    "# make sure some units are handed over to other players\n",
    "\n",
    "import itertools\n",
    "def all_disjoint(iterables):\n",
    "    merged = itertools.chain(*iterables)\n",
    "    total = list(merged)\n",
    "    total.sort()\n",
    "    print(total)\n",
    "    print(set(total))\n",
    "    return len(total) == len(set(total))"
   ]
  },
  {
   "cell_type": "code",
   "execution_count": null,
   "metadata": {},
   "outputs": [],
   "source": [
    "all_units = list(player_units.values())"
   ]
  },
  {
   "cell_type": "code",
   "execution_count": null,
   "metadata": {},
   "outputs": [],
   "source": [
    "all_disjoint(all_units)"
   ]
  },
  {
   "cell_type": "code",
   "execution_count": null,
   "metadata": {},
   "outputs": [],
   "source": [
    "player_units"
   ]
  },
  {
   "cell_type": "code",
   "execution_count": null,
   "metadata": {},
   "outputs": [],
   "source": [
    "unique_two_players = set(itertools.permutations(player_units.keys(), 2))"
   ]
  },
  {
   "cell_type": "code",
   "execution_count": null,
   "metadata": {},
   "outputs": [],
   "source": [
    "len(unique_two_players)"
   ]
  },
  {
   "cell_type": "code",
   "execution_count": null,
   "metadata": {},
   "outputs": [],
   "source": [
    "from collections import namedtuple\n",
    "Triple = namedtuple('Triple', ['triple', 'player_i', 'player_j'])"
   ]
  },
  {
   "cell_type": "code",
   "execution_count": null,
   "metadata": {},
   "outputs": [],
   "source": [
    "triples = []\n",
    "for player_i, player_j in unique_two_players:\n",
    "    p_units = list(itertools.combinations(player_units[player_i], 2))\n",
    "    o_unit = list(itertools.combinations(player_units[player_j], 1))\n",
    "    # get all 3-tuples unique combinations\n",
    "    p_o_product = list(itertools.product(p_units, o_unit))\n",
    "    p_o_product = [(a, b, c) for (a,b), (c,) in p_o_product]\n",
    "    # triple = [Triple(t, player_i, player_j) for t in p_o_product]\n",
    "    triple = [dict(triple=t, player_i=player_i, player_j=player_j) for t in p_o_product]\n",
    "    triples.extend(triple)\n",
    "    # first tuple in the product belongs to player_i and the other belongs to player_j\n",
    "        # break"
   ]
  },
  {
   "cell_type": "code",
   "execution_count": null,
   "metadata": {},
   "outputs": [],
   "source": [
    "len(triples)"
   ]
  },
  {
   "cell_type": "code",
   "execution_count": null,
   "metadata": {},
   "outputs": [],
   "source": [
    "for triple in triples:\n",
    "    print(triple)\n",
    "    condition_i = (game_df[\"unique_unit_id\"].apply(lambda x: x in triple['triple'][:2])) & (game_df[\"coordinator\"].apply(lambda x: x == triple['player_i']))\n",
    "    condition_j = (game_df[\"unique_unit_id\"].apply(lambda x: x in triple['triple'][2:])) & (game_df[\"coordinator\"].apply(lambda x: x == triple['player_j']))\n",
    "    presence = game_df.loc[condition_i | condition_j]\n",
    "    break"
   ]
  },
  {
   "cell_type": "code",
   "execution_count": null,
   "metadata": {},
   "outputs": [],
   "source": [
    "presence.sort_values(['unique_unit_id'])"
   ]
  },
  {
   "cell_type": "code",
   "execution_count": null,
   "metadata": {},
   "outputs": [],
   "source": [
    "phases = presence[\"phase_name\"].value_counts()"
   ]
  },
  {
   "cell_type": "code",
   "execution_count": null,
   "metadata": {},
   "outputs": [],
   "source": [
    "mask = (phases == 3).to_dict()"
   ]
  },
  {
   "cell_type": "code",
   "execution_count": null,
   "metadata": {},
   "outputs": [],
   "source": [
    "mask"
   ]
  },
  {
   "cell_type": "code",
   "execution_count": null,
   "metadata": {},
   "outputs": [],
   "source": [
    "eligible_phases = presence.loc[presence[\"phase_name\"].apply(lambda x: mask[x])]"
   ]
  },
  {
   "cell_type": "code",
   "execution_count": null,
   "metadata": {},
   "outputs": [],
   "source": [
    "sorted_unqiue__eligible_phases = eligible_phases.phase_num.unique()\n",
    "sorted_unqiue__eligible_phases.sort()"
   ]
  },
  {
   "cell_type": "code",
   "execution_count": null,
   "metadata": {},
   "outputs": [],
   "source": [
    "sorted_unqiue__eligible_phases"
   ]
  },
  {
   "cell_type": "code",
   "execution_count": null,
   "metadata": {},
   "outputs": [],
   "source": [
    "eligible_phases.phase_num.min()"
   ]
  },
  {
   "cell_type": "markdown",
   "metadata": {},
   "source": [
    "### Sanity check that the code works"
   ]
  },
  {
   "cell_type": "code",
   "execution_count": null,
   "metadata": {},
   "outputs": [],
   "source": [
    "def get_triples(game_df):\n",
    "    players = game_df[\"coordinator\"].unique()\n",
    "    assert len(players) == 7, players\n",
    "    player_units = {}\n",
    "    for player in players:\n",
    "        player_units[player] = game_df.loc[game_df[\"coordinator\"] == player][\"unique_unit_id\"].unique()\n",
    "    \n",
    "    triples = []\n",
    "    unique_two_players = set(itertools.permutations(player_units.keys(), 2))\n",
    "    for player_i, player_j in unique_two_players:\n",
    "        p_units = list(itertools.combinations(player_units[player_i], 2))\n",
    "        o_unit = list(itertools.combinations(player_units[player_j], 1))\n",
    "        # get all 3-tuples unique combinations\n",
    "        p_o_product = list(itertools.product(p_units, o_unit))\n",
    "        p_o_product = [(int(a), int(b), int(c)) for (a,b), (c,) in p_o_product]\n",
    "        triple = [dict(triple=t, player_i=player_i, player_j=player_j) for t in p_o_product]\n",
    "        triples.extend(triple)\n",
    "    return triples"
   ]
  },
  {
   "cell_type": "code",
   "execution_count": null,
   "metadata": {},
   "outputs": [],
   "source": [
    "def get_triples_presence(game_df, triples):\n",
    "    empty_eligible_phaes = 0\n",
    "    for triple in triples:\n",
    "        condition_i = (game_df[\"unique_unit_id\"].apply(lambda x: x in triple['triple'][:2])) & (game_df[\"coordinator\"].apply(lambda x: x == triple['player_i']))\n",
    "        condition_j = (game_df[\"unique_unit_id\"].apply(lambda x: x in triple['triple'][2:])) & (game_df[\"coordinator\"].apply(lambda x: x == triple['player_j']))\n",
    "        presence = game_df.loc[condition_i | condition_j]\n",
    "        phases = presence[\"phase_name\"].value_counts()\n",
    "        mask = (phases == 3).to_dict()\n",
    "        eligible_phases = presence.loc[presence[\"phase_name\"].apply(lambda x: mask[x])]\n",
    "        unqiue_eligible_phases = eligible_phases.phase_num.unique()\n",
    "        max_phase_num = eligible_phases.phase_num.max()\n",
    "        min_phase_num = eligible_phases.phase_num.min()\n",
    "        max_min_diff = max_phase_num - min_phase_num\n",
    "        if len(unqiue_eligible_phases):\n",
    "            assert (max_min_diff/0.5 + 1) == len(unqiue_eligible_phases) , (\"values are not contiguous\", len(unqiue_eligible_phases), unqiue_eligible_phases, max_min_diff, game_df[\"game_id\"].unique(), triple)\n",
    "        else:\n",
    "            empty_eligible_phaes += 1\n",
    "        triple['max_phase_num'] = float(max_phase_num)\n",
    "        triple['min_phase_num'] = float(min_phase_num)\n",
    "        triple['max_min_diff'] = float(max_min_diff)\n",
    "    return empty_eligible_phaes"
   ]
  },
  {
   "cell_type": "code",
   "execution_count": null,
   "metadata": {},
   "outputs": [],
   "source": [
    "game_tiple_presence = {}\n",
    "for game_id in unique_games:\n",
    "    assert type(game_id) is str, (game_id, \"is not a string\")\n",
    "    print(game_id)\n",
    "    game_df = cdf_sf.loc[cdf_sf['game_id'] == game_id]\n",
    "    if game_df.unique_unit_id.nunique() == game_df.unique_unit_id.max():\n",
    "        triples = get_triples(game_df)\n",
    "        try:\n",
    "            emp = get_triples_presence(game_df, triples)\n",
    "            print(emp, len(triples))\n",
    "            game_tiple_presence[game_id] = triples\n",
    "        except AssertionError as msg:\n",
    "            print(msg)"
   ]
  },
  {
   "cell_type": "code",
   "execution_count": null,
   "metadata": {},
   "outputs": [],
   "source": [
    "import json\n",
    "with open(f'game_tiple_presence_{start_index}.json', 'w') as file:          \n",
    "    json.dump(game_tiple_presence, file, indent=4, sort_keys=True,)"
   ]
  },
  {
   "cell_type": "code",
   "execution_count": null,
   "metadata": {},
   "outputs": [],
   "source": [
    "game_dfs = []\n",
    "for game_id in unique_games:\n",
    "    game_df = cdf_sf.loc[cdf_sf['game_id'] == game_id]\n",
    "    game_dfs.append(game_df)"
   ]
  },
  {
   "cell_type": "code",
   "execution_count": 30,
   "metadata": {
    "scrolled": false
   },
   "outputs": [
    {
     "name": "stdout",
     "output_type": "stream",
     "text": [
      "dict_keys(['0ttJkNSnC1NDzzsi', '0yv59hl6e5Ensb4M', '144oP_8-6uqCHwZM', '1p-WXKrqrCfvH8mY', '3yF7d9kILVlKwg4K', '4BZT_H2gwHIhj6YS', '57xpw6Z-8IKo2hDK', '5C84x0ZHALNdNKWU', '5hoju_pTKyEgZmTN', '8NM2MaXEw9NCtb7D', '8QrJVtFLhrudJBbO', '8Vv4RupS6oaY3W9-', '8eeN-aIcPIYfWoed', '8kFZ31Pm0f1Hvas_', '9yrnQcPLPcNI-zEY', 'A-J30ebaQMXpWz4A', 'BKJDUpmRsGnikiLG', 'C75O2TDDQrePH2W5', 'D5lBQEoVwBZpyqtf', 'DF6m8MkzJQrZ-lXj', 'DQzCrp2wkcFuRa01', 'E6sklWIxfto3V_J3', 'EZl1DDW5twoaDS_C', 'Eg9Q3yTXBuXvq7DU', 'F7EocxbPdlSSZBCp', 'FM2prX411IWBjM6C', 'FYYVuB2E7_vqnqVe', 'GR6jM3i94NHVUvLe', 'GR8M2f2FTWbhOuiY', 'H4Il79WA5T4ckTaT', 'HFOLo-v_5XJJZJpk', 'HfXKaYlaJ-ps_Ya2', 'JofrQNQo1UdlEbiW', 'LJdW8X5cL7jVfBHZ', 'LoiPYFIJZKP7ysev', 'MJMHyiWIXju2kUSI', 'MKkZcmc5yit0GPa-', 'MUzOMuSwyUDAvqTx', 'MiGWPJruAPXAL6wY', 'O-W_pcGosuZjgHm6', 'OYTWZZRGXYBE_eoh', 'P7mlY1g3BkglHt-s', 'Pe3y60SDlzPSRHy_', 'PkCccP4eK5LaIxAg', 'PwZbL4mKBdLnLOXD', 'SHZbjtO3GfxS8qfT', 'Szyr6ULvx7YrbDhE', 'TPFTRCH2a15LeMxF', 'UUaNd1k82YhdM3Rh', 'VEQUkSbvIL1sTxTz', 'YaJeeSHn3txrNFgI', 'Ycj7l51rfdzxAS-T', '_eyBZf3m8vVSl7j1', 'a1VLYLIyGweAfWVS', 'bGMKQVmmOTZp8zEw', 'bMvALh19LvNVzV33', 'cKhQ4bNGlVav7tQK', 'cnrI7fG4hFRzaejP', 'crGiYsXfF8RHzrKb', 'd_MnLiv2EBqiDtYS', 'dei663_ccEIc8_lj', 'dgMxSeM26BxlnxSQ', 'dtO6CRXL-XZ8PcGG', 'eA3Stm8T4wm5NMcA', 'fWHr0A_xzfjryLOB', 'h9QEPT6s5-Fi1WrV', 'iMWO-WtC1mmX4W9r', 'jEvxyTn2CZv-NJQy', 'jTxZGEj45viIK86U', 'k28iYxWtOx1lWU11', 'kEmjB7goNydF8Vye', 'omNMEctxL53gLSC0', 'p6m8jMuDPsM0dtUh', 'rW_Q9TpidGLGD2EL', 'sPahEZFrbAYSS2pU', 'sdKZrT-i_BvEZsFU', 'uV-7w9KOVy_o2rdH', 'uhUucgk0qSW8pAIS', 'v08CT15R64vUdi9I', 'vFV_wxRWxhijtFoZ', 'xXOq9j0NtJC2LYS_', 'xj_kXXHeqDURjQEr', 'y3ZOvmJTMuSuRHNE', 'yCOKdNHDFvK7BDp8', 'yJiy2DiDA2cVkAcW'])\n"
     ]
    }
   ],
   "source": [
    "import json\n",
    "with open(f'../data/game_tiple_presence_100.json', 'r') as file:          \n",
    "    jj = json.load(file)\n",
    "    print(jj.keys())"
   ]
  },
  {
   "cell_type": "code",
   "execution_count": 47,
   "metadata": {
    "scrolled": true
   },
   "outputs": [
    {
     "data": {
      "text/plain": [
       "{'max_min_diff': 1.0,\n",
       " 'max_phase_num': 1902.0,\n",
       " 'min_phase_num': 1901.0,\n",
       " 'player_i': 'ENGLAND',\n",
       " 'player_j': 'AUSTRIA',\n",
       " 'triple': [4, 5, 1]}"
      ]
     },
     "execution_count": 47,
     "metadata": {},
     "output_type": "execute_result"
    }
   ],
   "source": [
    "triple_id=0\n",
    "game_id=list(jj.keys())[triple_id]\n",
    "jj[game_id][triple_id]"
   ]
  },
  {
   "cell_type": "code",
   "execution_count": 57,
   "metadata": {
    "scrolled": true
   },
   "outputs": [
    {
     "data": {
      "text/plain": [
       "array(['-', 'H', 'S', 'C', -3], dtype=object)"
      ]
     },
     "execution_count": 57,
     "metadata": {},
     "output_type": "execute_result"
    }
   ],
   "source": [
    "cdf_sf.action.unique()"
   ]
  },
  {
   "cell_type": "code",
   "execution_count": 155,
   "metadata": {
    "scrolled": true
   },
   "outputs": [],
   "source": [
    "triple_id=0\n",
    "game_id=list(jj.keys())[triple_id]\n",
    "triple=jj[game_id][triple_id]\n",
    "seq=cdf_sf[(cdf_sf.game_id==game_id) \n",
    "    & (cdf_sf.coordinator.isin([triple['player_i'],triple['player_j']]))\n",
    "    & (cdf_sf.unique_unit_id.isin(triple['triple'])) \n",
    "    & (cdf_sf.phase_num.isin(np.arange(triple['min_phase_num'],triple['max_phase_num'],0.5)))].loc[:,('coordinator','unique_unit_id','phase_num','action')]"
   ]
  },
  {
   "cell_type": "code",
   "execution_count": null,
   "metadata": {},
   "outputs": [],
   "source": [
    "#if use actions as is then skip this cell, else define the actions:\n",
    "#def dummy(row):\n",
    "#    return row.action if row.action=='H' else row.current_location+' '+row.impact_location\n",
    "#seq.action=seq.apply(dummy,axis=1)"
   ]
  },
  {
   "cell_type": "code",
   "execution_count": 153,
   "metadata": {
    "scrolled": true
   },
   "outputs": [
    {
     "data": {
      "text/html": [
       "<div>\n",
       "<style scoped>\n",
       "    .dataframe tbody tr th:only-of-type {\n",
       "        vertical-align: middle;\n",
       "    }\n",
       "\n",
       "    .dataframe tbody tr th {\n",
       "        vertical-align: top;\n",
       "    }\n",
       "\n",
       "    .dataframe thead th {\n",
       "        text-align: right;\n",
       "    }\n",
       "</style>\n",
       "<table border=\"1\" class=\"dataframe\">\n",
       "  <thead>\n",
       "    <tr style=\"text-align: right;\">\n",
       "      <th>phase_num</th>\n",
       "      <th>1901.0</th>\n",
       "      <th>1901.5</th>\n",
       "    </tr>\n",
       "    <tr>\n",
       "      <th>unique_unit_id</th>\n",
       "      <th></th>\n",
       "      <th></th>\n",
       "    </tr>\n",
       "  </thead>\n",
       "  <tbody>\n",
       "    <tr>\n",
       "      <th>1</th>\n",
       "      <td>H</td>\n",
       "      <td>H</td>\n",
       "    </tr>\n",
       "    <tr>\n",
       "      <th>4</th>\n",
       "      <td>H</td>\n",
       "      <td>-</td>\n",
       "    </tr>\n",
       "    <tr>\n",
       "      <th>5</th>\n",
       "      <td>H</td>\n",
       "      <td>-</td>\n",
       "    </tr>\n",
       "  </tbody>\n",
       "</table>\n",
       "</div>"
      ],
      "text/plain": [
       "phase_num      1901.0 1901.5\n",
       "unique_unit_id              \n",
       "1                   H      H\n",
       "4                   H      -\n",
       "5                   H      -"
      ]
     },
     "execution_count": 153,
     "metadata": {},
     "output_type": "execute_result"
    }
   ],
   "source": [
    "datatmp=seq.groupby(['unique_unit_id','phase_num'])['action'].aggregate('first').unstack()\n",
    "datatmp"
   ]
  },
  {
   "cell_type": "code",
   "execution_count": 152,
   "metadata": {},
   "outputs": [],
   "source": [
    "same_pair_inds=[0,1]\n",
    "diff_pair_inds=[0,2]"
   ]
  },
  {
   "cell_type": "code",
   "execution_count": 164,
   "metadata": {},
   "outputs": [],
   "source": [
    "#do the 5 unique counting operations\n",
    "unit_counts=datatmp.nunique(axis=1)\n",
    "same_pair_inds=[0,1]\n",
    "diff_pair_inds=[0,2]\n",
    "joint_counts=[len(datatmp.loc[np.asarray(triple['triple'])[same_pair_inds]].T.drop_duplicates()),\n",
    "              len(datatmp.loc[np.asarray(triple['triple'])[diff_pair_inds]].T.drop_duplicates())]"
   ]
  },
  {
   "cell_type": "code",
   "execution_count": null,
   "metadata": {},
   "outputs": [],
   "source": [
    "#apply unique in each of 3 rows (n1,n2,n3) and then twice over columns, once over each of the two pairs of rows (n4,n5)\n",
    "same=unit_counts[same_pair_inds]/joint_counts[0]\n",
    "different=unit_counts[diff_pair_inds]/joint_counts[1]"
   ]
  },
  {
   "cell_type": "code",
   "execution_count": 173,
   "metadata": {},
   "outputs": [],
   "source": [
    "#collect into a loop\n",
    "# same_pair_inds=[0,1]\n",
    "# diff_pair_inds=[0,2]\n",
    "# for game_id,di in jj.items():\n",
    "samediff_count_list=[]\n",
    "di=jj[game_id]\n",
    "game_df=cdf_sf[(cdf_sf.game_id==game_id)]\n",
    "for triple_id,triple in enumerate(di):\n",
    "    if triple['max_min_diff']>0:\n",
    "        seq=game_df[(game_df.coordinator.isin([triple['player_i'],triple['player_j']])) \n",
    "            & (game_df.unique_unit_id.isin(triple['triple'])) \n",
    "            & (game_df.phase_num.isin(np.arange(triple['min_phase_num'],triple['max_phase_num'],0.5)))].loc[:,('coordinator','unique_unit_id','phase_num','action')]\n",
    "\n",
    "        datatmp=seq.groupby(['unique_unit_id','phase_num'])['action'].aggregate('first').unstack()\n",
    "        unit_counts=datatmp.nunique(axis=1)\n",
    "        tridat=np.asarray(triple['triple'])\n",
    "        joint_counts=[len(datatmp.loc[np.asarray(triple['triple'])[same_pair_inds]].T.drop_duplicates()), \\\n",
    "                      len(datatmp.loc[np.asarray(triple['triple'])[diff_pair_inds]].T.drop_duplicates())]\n",
    "        factor_same=np.prod(unit_counts[tridat[same_pair_inds]].values)/joint_counts[0]\n",
    "        factor_different=np.prod(unit_counts.loc[tridat[diff_pair_inds]].values)/joint_counts[1]\n",
    "        samediff_count_list.append((factor_same,factor_different))\n",
    "    else:\n",
    "        samediff_count_list.append(None)"
   ]
  },
  {
   "cell_type": "code",
   "execution_count": 188,
   "metadata": {},
   "outputs": [
    {
     "data": {
      "image/png": "[encoded data removed]",
      "text/plain": [
       "<Figure size 432x288 with 1 Axes>"
      ]
     },
     "metadata": {
      "needs_background": "light"
     },
     "output_type": "display_data"
    }
   ],
   "source": [
    "fig,ax=pl.subplots()\n",
    "for data in zip(*filter(None,samediff_count_list)):\n",
    "    counts,bins=np.histogram(data)\n",
    "    ax.plot(bins[:-1],counts)"
   ]
  },
  {
   "cell_type": "markdown",
   "metadata": {},
   "source": [
    "## Debug"
   ]
  },
  {
   "cell_type": "code",
   "execution_count": null,
   "metadata": {},
   "outputs": [],
   "source": [
    "game_df = cdf_sf.loc[cdf_sf['game_id'] == \"NxMelzPAbZMYgrHY\"]"
   ]
  },
  {
   "cell_type": "code",
   "execution_count": null,
   "metadata": {},
   "outputs": [],
   "source": [
    "game_df_2 = cdf.loc[cdf['game_id'] == \"NxMelzPAbZMYgrHY\"]"
   ]
  },
  {
   "cell_type": "code",
   "execution_count": null,
   "metadata": {},
   "outputs": [],
   "source": [
    "game_df.loc[game_df[\"phase_num\"] == 1906.5]"
   ]
  },
  {
   "cell_type": "code",
   "execution_count": null,
   "metadata": {},
   "outputs": [],
   "source": [
    "game_df_2.loc[game_df_2[\"unique_unit_id\"] == 8]"
   ]
  },
  {
   "cell_type": "code",
   "execution_count": null,
   "metadata": {},
   "outputs": [],
   "source": [
    "game_df.loc[game_df[\"phase_id\"] == 23]"
   ]
  },
  {
   "cell_type": "code",
   "execution_count": null,
   "metadata": {},
   "outputs": [],
   "source": [
    "game_df_2.loc[game_df_2[\"phase_id\"] == 23]"
   ]
  },
  {
   "cell_type": "markdown",
   "metadata": {},
   "source": [
    "# Loading Deepmind's Diplomacy trajectory"
   ]
  },
  {
   "cell_type": "code",
   "execution_count": null,
   "metadata": {},
   "outputs": [],
   "source": [
    "action_outputs = np.load(file='../data/actions_outputs.npz', allow_pickle=True)"
   ]
  },
  {
   "cell_type": "code",
   "execution_count": null,
   "metadata": {},
   "outputs": [],
   "source": [
    "action_outputs[1][0]"
   ]
  },
  {
   "cell_type": "code",
   "execution_count": null,
   "metadata": {},
   "outputs": [],
   "source": [
    "pd.DataFrame.from_dict(action_outputs[0][0]).corr(method='pearson')"
   ]
  },
  {
   "cell_type": "code",
   "execution_count": null,
   "metadata": {},
   "outputs": [],
   "source": [
    "legal_actions = np.load(file='../data/legal_actions.npz', allow_pickle=True)"
   ]
  },
  {
   "cell_type": "code",
   "execution_count": null,
   "metadata": {},
   "outputs": [],
   "source": [
    "len(legal_actions)"
   ]
  },
  {
   "cell_type": "code",
   "execution_count": null,
   "metadata": {},
   "outputs": [],
   "source": [
    "legal_actions[0].shape"
   ]
  },
  {
   "cell_type": "code",
   "execution_count": null,
   "metadata": {},
   "outputs": [],
   "source": [
    "observations = np.load(file='../data/observations.npz', allow_pickle=True)"
   ]
  },
  {
   "cell_type": "code",
   "execution_count": null,
   "metadata": {},
   "outputs": [],
   "source": [
    "len(observations)"
   ]
  },
  {
   "cell_type": "code",
   "execution_count": null,
   "metadata": {},
   "outputs": [],
   "source": [
    "observations[1]"
   ]
  },
  {
   "cell_type": "code",
   "execution_count": null,
   "metadata": {},
   "outputs": [],
   "source": [
    "step_outputs = np.load(file='../data/step_outputs.npz', allow_pickle=True)"
   ]
  },
  {
   "cell_type": "code",
   "execution_count": null,
   "metadata": {},
   "outputs": [],
   "source": [
    "len(step_outputs)"
   ]
  },
  {
   "cell_type": "code",
   "execution_count": null,
   "metadata": {},
   "outputs": [],
   "source": [
    "step_outputs[0]"
   ]
  }
 ],
 "metadata": {
  "interpreter": {
   "hash": "519c3646e46e87a9b4521f30b0c71a5bab07601a45b52f63f01adb46cf5a2090"
  },
  "kernelspec": {
   "display_name": "Python 3",
   "language": "python",
   "name": "python3"
  },
  "language_info": {
   "codemirror_mode": {
    "name": "ipython",
    "version": 3
   },
   "file_extension": ".py",
   "mimetype": "text/x-python",
   "name": "python",
   "nbconvert_exporter": "python",
   "pygments_lexer": "ipython3",
   "version": "3.7.3"
  }
 },
 "nbformat": 4,
 "nbformat_minor": 2
}
