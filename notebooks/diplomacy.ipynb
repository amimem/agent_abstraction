{
 "cells": [
  {
   "cell_type": "markdown",
   "metadata": {},
   "source": [
    "# Loading Deepmind's Diplomacy trajectory"
   ]
  },
  {
   "cell_type": "code",
   "execution_count": null,
   "metadata": {},
   "outputs": [],
   "source": [
    "import numpy as np"
   ]
  },
  {
   "cell_type": "code",
   "execution_count": null,
   "metadata": {},
   "outputs": [],
   "source": [
    "action_outputs = np.load(file='../data/actions_outputs.npz', allow_pickle=True)"
   ]
  },
  {
   "cell_type": "code",
   "execution_count": null,
   "metadata": {},
   "outputs": [],
   "source": [
    "action_outputs[1][0]"
   ]
  },
  {
   "cell_type": "code",
   "execution_count": null,
   "metadata": {},
   "outputs": [],
   "source": [
    "import pandas as pd"
   ]
  },
  {
   "cell_type": "code",
   "execution_count": null,
   "metadata": {},
   "outputs": [],
   "source": [
    "pd.DataFrame.from_dict(action_outputs[0][0]).corr(method='pearson')"
   ]
  },
  {
   "cell_type": "code",
   "execution_count": null,
   "metadata": {},
   "outputs": [],
   "source": [
    "legal_actions = np.load(file='../data/legal_actions.npz', allow_pickle=True)"
   ]
  },
  {
   "cell_type": "code",
   "execution_count": null,
   "metadata": {},
   "outputs": [],
   "source": [
    "len(legal_actions)"
   ]
  },
  {
   "cell_type": "code",
   "execution_count": null,
   "metadata": {},
   "outputs": [],
   "source": [
    "legal_actions[0].shape"
   ]
  },
  {
   "cell_type": "code",
   "execution_count": null,
   "metadata": {},
   "outputs": [],
   "source": [
    "observations = np.load(file='../data/observations.npz', allow_pickle=True)"
   ]
  },
  {
   "cell_type": "code",
   "execution_count": null,
   "metadata": {},
   "outputs": [],
   "source": [
    "len(observations)"
   ]
  },
  {
   "cell_type": "code",
   "execution_count": null,
   "metadata": {},
   "outputs": [],
   "source": [
    "observations[1]"
   ]
  },
  {
   "cell_type": "code",
   "execution_count": null,
   "metadata": {},
   "outputs": [],
   "source": [
    "step_outputs = np.load(file='../data/step_outputs.npz', allow_pickle=True)"
   ]
  },
  {
   "cell_type": "code",
   "execution_count": null,
   "metadata": {},
   "outputs": [],
   "source": [
    "len(step_outputs)"
   ]
  },
  {
   "cell_type": "code",
   "execution_count": null,
   "metadata": {},
   "outputs": [],
   "source": [
    "step_outputs[0]"
   ]
  },
  {
   "cell_type": "markdown",
   "metadata": {},
   "source": [
    "# Loading human plays' data"
   ]
  },
  {
   "cell_type": "code",
   "execution_count": null,
   "metadata": {},
   "outputs": [],
   "source": [
    "import json\n",
    "import pandas as pd\n",
    "import mmap"
   ]
  },
  {
   "cell_type": "code",
   "execution_count": null,
   "metadata": {},
   "outputs": [],
   "source": [
    "# games_jsons = []\n",
    "# ix = 0\n",
    "# with open(\"../data/diplomacy-v1-27k-msgs/standard_no_press.jsonl\", \"r\") as json_file:\n",
    "#     for line in json_file:\n",
    "#         games_jsons.append(json.loads(line))"
   ]
  },
  {
   "cell_type": "code",
   "execution_count": null,
   "metadata": {},
   "outputs": [],
   "source": [
    "# Load the json data\n",
    "games_jsons = []\n",
    "with open(\"../data/diplomacy-v1-27k-msgs/standard_no_press.jsonl\", \"r+b\") as json_file:\n",
    "    with mmap.mmap(json_file.fileno(), length=0, access=mmap.ACCESS_READ) as mmap_object:\n",
    "        for i, line in enumerate(iter(mmap_object.readline, b\"\")):\n",
    "            games_jsons.append(json.loads(line.decode(\"utf-8\")))\n",
    "            if i == 20:\n",
    "                break"
   ]
  },
  {
   "cell_type": "markdown",
   "metadata": {},
   "source": [
    "## Uncomment to load RL single game data"
   ]
  },
  {
   "cell_type": "code",
   "execution_count": null,
   "metadata": {},
   "outputs": [],
   "source": [
    "\n",
    "# games_jsons = []\n",
    "# json_file_path = \"../data/game_rl_0.json\"\n",
    "\n",
    "# with open(json_file_path, 'r') as j:\n",
    "#       games_jsons.append(json.loads(j.read()))"
   ]
  },
  {
   "cell_type": "code",
   "execution_count": null,
   "metadata": {},
   "outputs": [],
   "source": [
    "# Convert to a pandas dataframe\n",
    "df = pd.DataFrame(games_jsons)"
   ]
  },
  {
   "cell_type": "code",
   "execution_count": null,
   "metadata": {},
   "outputs": [],
   "source": [
    "df = df[df[\"map\"] == \"standard\"].reset_index(drop=True)"
   ]
  },
  {
   "cell_type": "code",
   "execution_count": null,
   "metadata": {},
   "outputs": [],
   "source": [
    "df"
   ]
  },
  {
   "cell_type": "code",
   "execution_count": null,
   "metadata": {},
   "outputs": [],
   "source": [
    "games = df['phases']"
   ]
  },
  {
   "cell_type": "code",
   "execution_count": null,
   "metadata": {},
   "outputs": [],
   "source": [
    "games.apply(lambda x: x[0])"
   ]
  },
  {
   "cell_type": "code",
   "execution_count": null,
   "metadata": {},
   "outputs": [],
   "source": [
    "type(games)"
   ]
  },
  {
   "cell_type": "code",
   "execution_count": null,
   "metadata": {},
   "outputs": [],
   "source": [
    "for game in games:\n",
    "    for ix, iy in enumerate(game):\n",
    "        game[ix]['phase_id'] = ix"
   ]
  },
  {
   "cell_type": "code",
   "execution_count": null,
   "metadata": {},
   "outputs": [],
   "source": [
    "def flatten_json(input):\n",
    "    out = {}\n",
    "    out['game_id'] = input['state']['game_id']\n",
    "    out['phase_id'] = input['phase_id']\n",
    "    out['phase_name'] = input['name']\n",
    "    results_units_keys = [x for x in input['results']]\n",
    "\n",
    "    assert input['orders'].items() \n",
    "    for player, orders in input['orders'].items():\n",
    "        if orders is not None:\n",
    "            if orders:\n",
    "                for order in orders:\n",
    "                    out['coordinator'] = player\n",
    "                    out['type'] = order.split()[0]\n",
    "                    out['current_location'] = order.split()[1]\n",
    "                    out['action'] = order.split()[2]\n",
    "                    unit = order.split()[0]+ ' ' + order.split()[1]\n",
    "                    # print(\"unit result is: \", unit , unit in results_units, results_units)\n",
    "                    if input['results']:\n",
    "                        out['results'] = input['results'][unit]\n",
    "                    else:\n",
    "                        print(\"empty results\")\n",
    "                        print(order)\n",
    "                    if unit in results_units_keys:\n",
    "                        results_units_keys.remove(unit)\n",
    "                    out['impact_location'] = []\n",
    "                    if out['action'] == '-' or out['action'] == 'R':\n",
    "                        assert len(order.split()) == 4 or len(order.split()) == 5, order\n",
    "                        out['impact_location'] = order.split()[3]\n",
    "                    yield(out)\n",
    "                else:\n",
    "                    out['coordinator'] = player\n",
    "                    out['type'] = -1\n",
    "                    out['current_location'] = -1\n",
    "                    out['action'] = -1\n",
    "                    out['results'] = -1\n",
    "                    out['impact_location'] = -1\n",
    "                    if out['action'] == '-' or out['action'] == 'R':\n",
    "                        assert len(order.split()) == 4 or len(order.split()) == 5, order\n",
    "                        out['impact_location'] = order.split()[3]\n",
    "                    yield(out)\n",
    "            else:\n",
    "                # we have non eorders, is that a problem ?\n",
    "                pass\n",
    "\n",
    "    if len(results_units_keys)>0:\n",
    "        for unit in results_units_keys:\n",
    "            if unit == 'WAIVE': ## FIXME: double check this later\n",
    "                continue\n",
    "            assert len(unit.split()) == 2, unit\n",
    "            out['coordinator'] = 'RA'\n",
    "            for player in input[\"state\"][\"units\"]:\n",
    "                if unit in input[\"state\"][\"units\"][player]:\n",
    "                    out['coordinator'] = player\n",
    "\n",
    "            if len(unit.split()[0]) != 1: # if we have sth like HOL D: \"void\"\n",
    "                assert input['results'][unit][0] == 'void', input['results'][unit]\n",
    "                location = unit.split()[0]\n",
    "                assert unit.split()[1] == 'D', unit.split()[1]\n",
    "                # find the corresponding key in the results\n",
    "                for key in input['results']:\n",
    "                    if key.split()[1] == location:\n",
    "                        assert input['results'][key][0] == \"disband\", input['results'][key]\n",
    "                        input['results'][key].append(input['results'][unit][0])\n",
    "                        break\n",
    "            else:\n",
    "                out['type'] = unit.split()[0]\n",
    "                out['current_location'] = unit.split()[1]\n",
    "                out['results'] = input['results'][unit]\n",
    "                out['action'] = -2\n",
    "                out['impact_location'] = -2\n",
    "                yield(out)"
   ]
  },
  {
   "cell_type": "code",
   "execution_count": null,
   "metadata": {},
   "outputs": [],
   "source": [
    "all_records = []\n",
    "for idx, game in enumerate(games):\n",
    "  for idx, phase in enumerate(game):\n",
    "    row_generator = flatten_json(phase)\n",
    "    assert row_generator is not None, row_generator\n",
    "    for row in row_generator:\n",
    "      all_records.append(row.copy())"
   ]
  },
  {
   "cell_type": "code",
   "execution_count": null,
   "metadata": {},
   "outputs": [],
   "source": [
    "complete_df = pd.DataFrame.from_records(all_records)"
   ]
  },
  {
   "cell_type": "code",
   "execution_count": null,
   "metadata": {},
   "outputs": [],
   "source": [
    "complete_df[complete_df['game_id'] == \"uXFQ2zgI-DUrgwlS\"]"
   ]
  },
  {
   "cell_type": "code",
   "execution_count": null,
   "metadata": {},
   "outputs": [],
   "source": [
    "complete_df[:40]"
   ]
  },
  {
   "cell_type": "code",
   "execution_count": null,
   "metadata": {},
   "outputs": [],
   "source": [
    "complete_df.loc[complete_df['coordinator'] == 'RA']"
   ]
  },
  {
   "cell_type": "code",
   "execution_count": null,
   "metadata": {},
   "outputs": [],
   "source": [
    "complete_df['unique_unit_id'] = -1"
   ]
  },
  {
   "cell_type": "markdown",
   "metadata": {},
   "source": [
    "## Issues:\n",
    "- [x] type is incorrect for added rows in the result dict\n",
    "- [] ids do not start from 1 at the beginning of each game \n",
    "- [] NaN orders ... probably order list for player is empty for some reason"
   ]
  },
  {
   "cell_type": "markdown",
   "metadata": {},
   "source": [
    "# Temporal Binding"
   ]
  },
  {
   "cell_type": "code",
   "execution_count": null,
   "metadata": {
    "id": "glaSz65KoHy4"
   },
   "outputs": [],
   "source": [
    "def assign_unit_id(phase_df, source_unit_id_map, dest_unit_id_map, _id):\n",
    "\n",
    "    # fror each row in the phase df\n",
    "    for idx, row in phase_df.iterrows():\n",
    "\n",
    "        # if current location or type of army in invalid skip the row (we only deal with valid orders)\n",
    "        if row['action'] == -1 or row['type'] == 'N':\n",
    "            continue\n",
    "        \n",
    "        # get the current location of the unit\n",
    "        source_unit = row['type'] + ' ' + row['current_location']\n",
    "\n",
    "        # if the location is not in the map, add it to the map (in other phases the same unit can be used, hence checking the condition _ dictionaries are global, have data across phases)\n",
    "        if source_unit not in source_unit_id_map:\n",
    "            source_unit_id_map[source_unit] = _id\n",
    "            _id += 1\n",
    "\n",
    "        # destination dict is synced with source dict after the loop, so that we can use updated info at the beginning of each assignment\n",
    "        # row['unique_unit_id'] = source_unit_id_map[source_unit]\n",
    "        phase_df.loc[idx,'unique_unit_id'] = source_unit_id_map[source_unit]\n",
    "\n",
    "        if row['action'] == '-':\n",
    "            result = row['results']\n",
    "            if isinstance(result, list):\n",
    "                if len(result) == 0:\n",
    "                    dest_location = row['impact_location']\n",
    "                    try:\n",
    "                        dest_unit = row['type'] + ' ' + dest_location\n",
    "                    except:\n",
    "                        print(\"dest location error\", row)\n",
    "                        return\n",
    "                    if dest_unit not in dest_unit_id_map:\n",
    "                        dest_unit_id_map[dest_unit] = source_unit_id_map.pop(source_unit)\n",
    "                        # source_unit_id_map[source_unit]\n",
    "                        # print(source_unit_id_map.pop(source_unit))\n",
    "                elif 'disband' in result:\n",
    "                    source_unit_id_map.pop(source_unit)\n",
    "                    \n",
    "        elif row['action'] == 'R':\n",
    "            result = row['results']\n",
    "            if isinstance(result, list):\n",
    "                if len(result) == 0:\n",
    "                    dest_location = row['impact_location']\n",
    "                    dest_unit = row['type'] + ' ' + dest_location\n",
    "                    if dest_unit not in dest_unit_id_map:\n",
    "                        dest_unit_id_map[dest_unit] = source_unit_id_map.pop(source_unit)\n",
    "                elif 'disband' in result:\n",
    "                    if len(result) > 1:\n",
    "                        if 'void' in result:\n",
    "                                print(result)\n",
    "                    source_unit_id_map.pop(source_unit)\n",
    "\n",
    "        elif row['action'] == 'D':\n",
    "            result = row['results']\n",
    "            assert source_unit in source_unit_id_map\n",
    "            if isinstance(result, list):\n",
    "                if len(result) == 0:\n",
    "                    source_unit_id_map.pop(source_unit)\n",
    "                elif 'void' in result:\n",
    "                    print(\"void disband\", row)\n",
    "        \n",
    "        elif row['action'] == 'B':\n",
    "            assert source_unit in source_unit_id_map\n",
    "\n",
    "        elif row['action'] == 'H':\n",
    "            assert source_unit in source_unit_id_map\n",
    "\n",
    "        elif row['action'] == 'S':\n",
    "            assert source_unit in source_unit_id_map\n",
    "        \n",
    "        elif row['action'] == 'C':\n",
    "            assert source_unit in source_unit_id_map\n",
    "\n",
    "        # for added result rows\n",
    "        elif row['action'] == -2:\n",
    "            result = row['results']\n",
    "            assert source_unit in source_unit_id_map\n",
    "            if isinstance(result, list):\n",
    "                if len(result) == 0:\n",
    "                    source_unit_id_map.pop(source_unit)\n",
    "                elif 'disband' in result and 'void' not in result:\n",
    "                    source_unit_id_map.pop(source_unit)\n",
    "                    # print(\"disband\")\n",
    "                elif 'disband' in result and 'void' in result:\n",
    "                    # print(\"void disband\")\n",
    "                    pass\n",
    "        else:\n",
    "            print(\"invalid action\", row)\n",
    "\n",
    "    # merge the source and destination dictionaries into one\n",
    "    source_unit_id_map.update(dest_unit_id_map)\n",
    "    # remove the destination dict (values get updated based on old data if we don't do this)\n",
    "    dest_unit_id_map = {}\n",
    "\n",
    "    return source_unit_id_map, dest_unit_id_map, _id"
   ]
  },
  {
   "cell_type": "code",
   "execution_count": null,
   "metadata": {},
   "outputs": [],
   "source": [
    "unique_games = complete_df[\"game_id\"].unique()"
   ]
  },
  {
   "cell_type": "code",
   "execution_count": null,
   "metadata": {},
   "outputs": [],
   "source": [
    "unique_games"
   ]
  },
  {
   "cell_type": "code",
   "execution_count": null,
   "metadata": {},
   "outputs": [],
   "source": [
    "complete_df.loc[complete_df[\"game_id\"] == 'uXFQ2zgI-DUrgwlS']['phase_id'].unique()"
   ]
  },
  {
   "cell_type": "code",
   "execution_count": null,
   "metadata": {},
   "outputs": [],
   "source": [
    "game_phase_df_list = []\n",
    "for idx, game_id in enumerate(unique_games):\n",
    "    print(idx, game_id)\n",
    "    s_dict = {}\n",
    "    d_dict = {}\n",
    "    _id = 1\n",
    "    unique_phases = complete_df.loc[complete_df[\"game_id\"] == game_id]['phase_id'].unique()\n",
    "    for phase in unique_phases:\n",
    "        # print(\"phase number is\", phase)\n",
    "        condition = (complete_df[\"game_id\"].apply(lambda x: x == game_id)) & (complete_df[\"phase_id\"].apply(lambda x: x == phase))\n",
    "        phase_df = complete_df.loc[condition]\n",
    "        s_dict, d_dict, _id = assign_unit_id(phase_df, s_dict, d_dict, _id)\n",
    "        game_phase_df_list.append(phase_df)"
   ]
  },
  {
   "cell_type": "code",
   "execution_count": null,
   "metadata": {},
   "outputs": [],
   "source": [
    "game_phase_df_list[0]"
   ]
  },
  {
   "cell_type": "code",
   "execution_count": null,
   "metadata": {},
   "outputs": [],
   "source": [
    "# cdf = pd.concat(game_phase_df_list, ignore_index=True)\n",
    "cdf = pd.concat(game_phase_df_list)"
   ]
  },
  {
   "cell_type": "code",
   "execution_count": null,
   "metadata": {},
   "outputs": [],
   "source": [
    "cdf"
   ]
  },
  {
   "cell_type": "code",
   "execution_count": null,
   "metadata": {},
   "outputs": [],
   "source": [
    "cdf.loc[cdf['coordinator'] == 'RA']"
   ]
  },
  {
   "cell_type": "code",
   "execution_count": null,
   "metadata": {},
   "outputs": [],
   "source": [
    "cdf.loc[cdf['game_id'] == 'lVp6PZxk3Jpufc9Z'][:40].sort_values(by=['phase_id', 'unique_unit_id'])"
   ]
  },
  {
   "cell_type": "code",
   "execution_count": null,
   "metadata": {},
   "outputs": [],
   "source": [
    "unique_games"
   ]
  },
  {
   "cell_type": "code",
   "execution_count": null,
   "metadata": {},
   "outputs": [],
   "source": [
    "tmp = cdf.loc[cdf['game_id'] == \"7uKSGh-EG86tfpyh\"]\n",
    "condition = (tmp[\"phase_id\"].apply(lambda x: x == 0)) & (tmp[\"unique_unit_id\"].apply(lambda x: x != -1))\n",
    "tmp[condition].head(50)"
   ]
  },
  {
   "cell_type": "code",
   "execution_count": null,
   "metadata": {},
   "outputs": [],
   "source": [
    "spring_fall_phases=(cdf['phase_name'].apply(lambda x:x[0])!='W') & (cdf['phase_name'].apply(lambda x:x[-1])!='R') & (cdf['phase_name'].apply(lambda x:x[-1])!='A')\n",
    "cdf[spring_fall_phases].groupby([\"game_id\",\"coordinator\",\"phase_id\"])[\"unique_unit_id\"].nunique().unstack().T.plot()"
   ]
  },
  {
   "cell_type": "code",
   "execution_count": null,
   "metadata": {},
   "outputs": [],
   "source": [
    "cdf[spring_fall_phases].groupby([\"game_id\",\"coordinator\",\"phase_id\"])[\"unique_unit_id\"].nunique().unstack().head(8)"
   ]
  },
  {
   "cell_type": "code",
   "execution_count": null,
   "metadata": {},
   "outputs": [],
   "source": [
    "cnd=(cdf['phase_name'].apply(lambda x:x[0])!='W') & (cdf['phase_name'].apply(lambda x:x[-1])!='R') & (cdf['game_id'].apply(lambda x: x == '57xpw6Z-8IKo2hDK') )\n",
    "# & (cdf['phase_id'].apply(lambda x : x ==5))"
   ]
  },
  {
   "cell_type": "code",
   "execution_count": null,
   "metadata": {},
   "outputs": [],
   "source": [
    "cdf[cnd]"
   ]
  },
  {
   "cell_type": "code",
   "execution_count": null,
   "metadata": {},
   "outputs": [],
   "source": [
    "cdf.groupby([\"game_id\",\"coordinator\",\"phase_id\"])[\"unique_unit_id\"].nunique().unstack().head(8)"
   ]
  },
  {
   "cell_type": "code",
   "execution_count": null,
   "metadata": {},
   "outputs": [],
   "source": [
    "from pprint import pprint\n",
    "import json"
   ]
  },
  {
   "cell_type": "code",
   "execution_count": null,
   "metadata": {},
   "outputs": [],
   "source": [
    "cdf[spring_fall_phases].loc[cdf[\"game_id\"] == \"57xpw6Z-8IKo2hDK\"]"
   ]
  },
  {
   "cell_type": "code",
   "execution_count": null,
   "metadata": {},
   "outputs": [],
   "source": [
    "for game in games_jsons:\n",
    "    if game['id'] == \"57xpw6Z-8IKo2hDK\":\n",
    "        json.dump(game, open('57xpw6Z-8IKo2hDK.json', 'w'))"
   ]
  }
 ],
 "metadata": {
  "interpreter": {
   "hash": "519c3646e46e87a9b4521f30b0c71a5bab07601a45b52f63f01adb46cf5a2090"
  },
  "kernelspec": {
   "display_name": "Python 3.8.12 ('marl')",
   "language": "python",
   "name": "python3"
  },
  "language_info": {
   "codemirror_mode": {
    "name": "ipython",
    "version": 3
   },
   "file_extension": ".py",
   "mimetype": "text/x-python",
   "name": "python",
   "nbconvert_exporter": "python",
   "pygments_lexer": "ipython3",
   "version": "3.8.12"
  },
  "orig_nbformat": 4
 },
 "nbformat": 4,
 "nbformat_minor": 2
}
