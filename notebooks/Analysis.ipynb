{
 "cells": [
  {
   "cell_type": "markdown",
   "metadata": {},
   "source": [
    "# Analyzing results"
   ]
  },
  {
   "cell_type": "code",
   "execution_count": null,
   "metadata": {},
   "outputs": [],
   "source": [
    "import sys,os\n",
    "root_path = os.path.abspath(os.path.join('..'))\n",
    "if root_path not in sys.path:\n",
    "    sys.path.append(root_path)\n",
    "%load_ext autoreload\n",
    "%autoreload 2\n",
    "%matplotlib inline"
   ]
  },
  {
   "cell_type": "code",
   "execution_count": null,
   "metadata": {},
   "outputs": [],
   "source": [
    "from lib.utils import utils\n",
    "import pandas as pd\n",
    "import json\n",
    "import numpy as np\n",
    "import matplotlib.pyplot as plt"
   ]
  },
  {
   "cell_type": "markdown",
   "metadata": {},
   "source": [
    "## Computing Triples"
   ]
  },
  {
   "cell_type": "markdown",
   "metadata": {},
   "source": [
    "### Get a number of games"
   ]
  },
  {
   "cell_type": "code",
   "execution_count": null,
   "metadata": {},
   "outputs": [],
   "source": [
    "start_index = 0\n",
    "num_games = 100\n",
    "path = \"../data/diplomacy-v1-27k-msgs/standard_no_press.jsonl\"\n",
    "games_jsons = utils.load_jsonl(path, num_games=num_games, mmap=False, completed_only=True)"
   ]
  },
  {
   "cell_type": "code",
   "execution_count": null,
   "metadata": {},
   "outputs": [],
   "source": [
    "# Convert to a pandas dataframe\n",
    "df = pd.DataFrame(games_jsons)"
   ]
  },
  {
   "cell_type": "code",
   "execution_count": null,
   "metadata": {},
   "outputs": [],
   "source": [
    "games = df['phases']\n",
    "games.apply(lambda x: x[0])"
   ]
  },
  {
   "cell_type": "code",
   "execution_count": null,
   "metadata": {},
   "outputs": [],
   "source": [
    "for game in games:\n",
    "    for ix, iy in enumerate(game):\n",
    "        game[ix]['phase_id'] = ix"
   ]
  },
  {
   "cell_type": "markdown",
   "metadata": {},
   "source": [
    "### Flatten json records"
   ]
  },
  {
   "cell_type": "code",
   "execution_count": null,
   "metadata": {},
   "outputs": [],
   "source": [
    "all_records = []\n",
    "for idx, game in enumerate(games):\n",
    "    for idx, phase in enumerate(game):\n",
    "        row_generator = utils.flatten_json(phase)\n",
    "        assert row_generator is not None, row_generator\n",
    "        for row in row_generator:\n",
    "            all_records.append(row.copy())"
   ]
  },
  {
   "cell_type": "markdown",
   "metadata": {},
   "source": [
    "### Get the complete dataframe with an added column"
   ]
  },
  {
   "cell_type": "code",
   "execution_count": null,
   "metadata": {},
   "outputs": [],
   "source": [
    "complete_df = pd.DataFrame.from_records(all_records)\n",
    "complete_df['unique_unit_id'] = -1"
   ]
  },
  {
   "cell_type": "markdown",
   "metadata": {},
   "source": [
    "### Get the unique games in the dataframe"
   ]
  },
  {
   "cell_type": "code",
   "execution_count": null,
   "metadata": {},
   "outputs": [],
   "source": [
    "unique_games = complete_df[\"game_id\"].unique()"
   ]
  },
  {
   "cell_type": "markdown",
   "metadata": {},
   "source": [
    "### Do temporal binding of units"
   ]
  },
  {
   "cell_type": "code",
   "execution_count": null,
   "metadata": {},
   "outputs": [],
   "source": [
    "game_phase_df_list = []\n",
    "for idx, game_id in enumerate(unique_games):\n",
    "    phases_df_list = []\n",
    "    print(idx, game_id, flush=True)\n",
    "    s_dict = {}\n",
    "    d_dict = {}\n",
    "    _id = 1\n",
    "    game_df = complete_df.loc[complete_df[\"game_id\"].apply(lambda x: x == game_id)]\n",
    "    unique_phases = game_df['phase_id'].unique()\n",
    "    for phase in unique_phases:\n",
    "        condition = game_df[\"phase_id\"].apply(lambda x: x == phase)\n",
    "        phase_df = game_df.loc[condition]\n",
    "        s_dict, d_dict, _id = utils.assign_unit_id(phase_df, s_dict, d_dict, _id, discard_disband_creation=False)\n",
    "        phases_df_list.append(phase_df)\n",
    "    phases_cdf = pd.concat(phases_df_list)\n",
    "    dislodged_df = phases_cdf.loc[phases_cdf['action'] == -2].copy()\n",
    "    utils.replace_dislodged_units(phases_cdf, dislodged_df)\n",
    "    game_phase_df_list.append(phases_cdf)\n"
   ]
  },
  {
   "cell_type": "code",
   "execution_count": null,
   "metadata": {},
   "outputs": [],
   "source": [
    "cdf = pd.concat(game_phase_df_list)"
   ]
  },
  {
   "cell_type": "markdown",
   "metadata": {},
   "source": [
    "### Assert no invalid rows are left"
   ]
  },
  {
   "cell_type": "code",
   "execution_count": null,
   "metadata": {},
   "outputs": [],
   "source": [
    "assert cdf.loc[cdf['coordinator'] == 'RA'].empty"
   ]
  },
  {
   "cell_type": "code",
   "execution_count": null,
   "metadata": {},
   "outputs": [],
   "source": [
    "cdf.loc[cdf['unique_unit_id'].apply(lambda x: x == 1)].head()"
   ]
  },
  {
   "cell_type": "markdown",
   "metadata": {},
   "source": [
    "### Filter out adjustment and retreat seasons"
   ]
  },
  {
   "cell_type": "code",
   "execution_count": null,
   "metadata": {},
   "outputs": [],
   "source": [
    "spring_fall_phases=(cdf['phase_name'].apply(lambda x:x[0])!='W') & (cdf['phase_name'].apply(lambda x:x[-1])!='R') & (cdf['phase_name'].apply(lambda x:x[-1]) == 'M')\n",
    "cdf_sf = cdf.loc[spring_fall_phases].copy()\n",
    "cdf_sf['phase_num']=cdf_sf.phase_name.apply(lambda x: float(x[1:-1]+('.0' if x[0]=='S' else '.5')))"
   ]
  },
  {
   "cell_type": "code",
   "execution_count": null,
   "metadata": {},
   "outputs": [],
   "source": [
    "cdf_sf.head()"
   ]
  },
  {
   "cell_type": "markdown",
   "metadata": {},
   "source": [
    "### Get the triples' presence based on the filtered dataframe"
   ]
  },
  {
   "cell_type": "code",
   "execution_count": null,
   "metadata": {},
   "outputs": [],
   "source": [
    "game_triple_presence = {}\n",
    "for idx, game_id in enumerate(unique_games):\n",
    "    assert type(game_id) is str, (game_id, \"is not a string\")\n",
    "    print(idx, game_id)\n",
    "    game_df = cdf_sf.loc[cdf_sf['game_id'] == game_id]\n",
    "    \n",
    "    if game_df.unique_unit_id.nunique() == game_df.unique_unit_id.max():\n",
    "        triples = utils.get_triples(game_df)\n",
    "        try:\n",
    "            emp = utils.get_triples_presence(game_df, triples)\n",
    "            print(emp, len(triples))\n",
    "            game_triple_presence[game_id] = triples\n",
    "        except AssertionError as msg:\n",
    "            print(msg)\n",
    "    if idx == 0:\n",
    "        break"
   ]
  },
  {
   "cell_type": "markdown",
   "metadata": {},
   "source": [
    "### Save json file if necessary"
   ]
  },
  {
   "cell_type": "code",
   "execution_count": null,
   "metadata": {},
   "outputs": [],
   "source": [
    "    name = \"whatever\"\n",
    "    with open(f'{name}.json', 'w') as file:          \n",
    "        json.dump(game_tiple_presence, file, indent=4, sort_keys=True,)"
   ]
  },
  {
   "cell_type": "code",
   "execution_count": null,
   "metadata": {},
   "outputs": [],
   "source": [
    "cdf_sf[cdf_sf[\"unique_unit_id\"].apply(lambda x: x == 1)].head(20)"
   ]
  },
  {
   "cell_type": "markdown",
   "metadata": {},
   "source": [
    "## Analyze the gathered triples"
   ]
  },
  {
   "cell_type": "code",
   "execution_count": null,
   "metadata": {},
   "outputs": [],
   "source": [
    "path = \"\"\n",
    "with open(f'{path}', 'r') as file:\n",
    "    game_triple_presence = json.load(file)"
   ]
  },
  {
   "cell_type": "code",
   "execution_count": null,
   "metadata": {},
   "outputs": [],
   "source": [
    "list(game_triple_presence.values())[0][0]"
   ]
  },
  {
   "cell_type": "code",
   "execution_count": null,
   "metadata": {},
   "outputs": [],
   "source": [
    "game_id = list(game_triple_presence.keys())[0]"
   ]
  },
  {
   "cell_type": "code",
   "execution_count": null,
   "metadata": {},
   "outputs": [],
   "source": [
    "all_records = []\n",
    "for row in utils.gen_triple_rows(game_triple_presence):\n",
    "    all_records.append(row.copy())"
   ]
  },
  {
   "cell_type": "code",
   "execution_count": null,
   "metadata": {},
   "outputs": [],
   "source": [
    "df = pd.DataFrame.from_records(all_records)"
   ]
  },
  {
   "cell_type": "code",
   "execution_count": null,
   "metadata": {},
   "outputs": [],
   "source": [
    "df = df.dropna()"
   ]
  },
  {
   "cell_type": "code",
   "execution_count": null,
   "metadata": {},
   "outputs": [],
   "source": [
    "df.reset_index(inplace=True)"
   ]
  },
  {
   "cell_type": "code",
   "execution_count": 177,
   "metadata": {},
   "outputs": [
    {
     "data": {
      "text/html": [
       "<div>\n",
       "<style scoped>\n",
       "    .dataframe tbody tr th:only-of-type {\n",
       "        vertical-align: middle;\n",
       "    }\n",
       "\n",
       "    .dataframe tbody tr th {\n",
       "        vertical-align: top;\n",
       "    }\n",
       "\n",
       "    .dataframe thead th {\n",
       "        text-align: right;\n",
       "    }\n",
       "</style>\n",
       "<table border=\"1\" class=\"dataframe\">\n",
       "  <thead>\n",
       "    <tr style=\"text-align: right;\">\n",
       "      <th></th>\n",
       "      <th>index</th>\n",
       "      <th>game_id</th>\n",
       "      <th>player_i</th>\n",
       "      <th>player_j</th>\n",
       "      <th>min_phase_num</th>\n",
       "      <th>max_phase_num</th>\n",
       "      <th>triple_0</th>\n",
       "      <th>triple_1</th>\n",
       "      <th>triple_2</th>\n",
       "      <th>factor_same</th>\n",
       "      <th>factor_diff</th>\n",
       "    </tr>\n",
       "  </thead>\n",
       "  <tbody>\n",
       "    <tr>\n",
       "      <th>0</th>\n",
       "      <td>0</td>\n",
       "      <td>rW_Q9TpidGLGD2EL</td>\n",
       "      <td>ENGLAND</td>\n",
       "      <td>RUSSIA</td>\n",
       "      <td>1901.0</td>\n",
       "      <td>1902.5</td>\n",
       "      <td>4</td>\n",
       "      <td>5</td>\n",
       "      <td>16</td>\n",
       "      <td>1.5</td>\n",
       "      <td>1.5</td>\n",
       "    </tr>\n",
       "    <tr>\n",
       "      <th>1</th>\n",
       "      <td>1</td>\n",
       "      <td>rW_Q9TpidGLGD2EL</td>\n",
       "      <td>ENGLAND</td>\n",
       "      <td>RUSSIA</td>\n",
       "      <td>1901.0</td>\n",
       "      <td>1902.5</td>\n",
       "      <td>4</td>\n",
       "      <td>5</td>\n",
       "      <td>17</td>\n",
       "      <td>1.5</td>\n",
       "      <td>1.5</td>\n",
       "    </tr>\n",
       "    <tr>\n",
       "      <th>2</th>\n",
       "      <td>2</td>\n",
       "      <td>rW_Q9TpidGLGD2EL</td>\n",
       "      <td>ENGLAND</td>\n",
       "      <td>RUSSIA</td>\n",
       "      <td>1901.0</td>\n",
       "      <td>1902.5</td>\n",
       "      <td>4</td>\n",
       "      <td>5</td>\n",
       "      <td>18</td>\n",
       "      <td>1.5</td>\n",
       "      <td>1.0</td>\n",
       "    </tr>\n",
       "    <tr>\n",
       "      <th>3</th>\n",
       "      <td>3</td>\n",
       "      <td>rW_Q9TpidGLGD2EL</td>\n",
       "      <td>ENGLAND</td>\n",
       "      <td>RUSSIA</td>\n",
       "      <td>1901.0</td>\n",
       "      <td>1902.5</td>\n",
       "      <td>4</td>\n",
       "      <td>5</td>\n",
       "      <td>19</td>\n",
       "      <td>1.5</td>\n",
       "      <td>1.0</td>\n",
       "    </tr>\n",
       "    <tr>\n",
       "      <th>4</th>\n",
       "      <td>4</td>\n",
       "      <td>rW_Q9TpidGLGD2EL</td>\n",
       "      <td>ENGLAND</td>\n",
       "      <td>RUSSIA</td>\n",
       "      <td>1902.0</td>\n",
       "      <td>1902.5</td>\n",
       "      <td>4</td>\n",
       "      <td>5</td>\n",
       "      <td>31</td>\n",
       "      <td>2.0</td>\n",
       "      <td>2.0</td>\n",
       "    </tr>\n",
       "  </tbody>\n",
       "</table>\n",
       "</div>"
      ],
      "text/plain": [
       "   index           game_id player_i player_j  min_phase_num  max_phase_num  \\\n",
       "0      0  rW_Q9TpidGLGD2EL  ENGLAND   RUSSIA         1901.0         1902.5   \n",
       "1      1  rW_Q9TpidGLGD2EL  ENGLAND   RUSSIA         1901.0         1902.5   \n",
       "2      2  rW_Q9TpidGLGD2EL  ENGLAND   RUSSIA         1901.0         1902.5   \n",
       "3      3  rW_Q9TpidGLGD2EL  ENGLAND   RUSSIA         1901.0         1902.5   \n",
       "4      4  rW_Q9TpidGLGD2EL  ENGLAND   RUSSIA         1902.0         1902.5   \n",
       "\n",
       "   triple_0  triple_1  triple_2  factor_same  factor_diff  \n",
       "0         4         5        16          1.5          1.5  \n",
       "1         4         5        17          1.5          1.5  \n",
       "2         4         5        18          1.5          1.0  \n",
       "3         4         5        19          1.5          1.0  \n",
       "4         4         5        31          2.0          2.0  "
      ]
     },
     "execution_count": 177,
     "metadata": {},
     "output_type": "execute_result"
    }
   ],
   "source": [
    "df.head()"
   ]
  },
  {
   "cell_type": "markdown",
   "metadata": {},
   "source": [
    "### Your Method"
   ]
  },
  {
   "cell_type": "code",
   "execution_count": 178,
   "metadata": {},
   "outputs": [],
   "source": [
    "#collect into a loop\n",
    "same_pair_inds=[0,1]\n",
    "diff_pair_inds=[0,2]\n",
    "# for game_id,di in jj.items():\n",
    "jj = game_triple_presence\n",
    "samediff_count_list=[]\n",
    "di=jj[game_id]\n",
    "game_df=cdf_sf[(cdf_sf.game_id==game_id)]\n",
    "for triple_id,triple in enumerate(di):\n",
    "    if triple['max_min_diff']>0:\n",
    "        seq=game_df[(game_df.coordinator.isin([triple['player_i'],triple['player_j']])) \n",
    "            & (game_df.unique_unit_id.isin(triple['triple'])) \n",
    "            & (game_df.phase_num.isin(np.arange(triple['min_phase_num'],triple['max_phase_num'],0.5)))].loc[:,('coordinator','unique_unit_id','phase_num','action')]\n",
    "\n",
    "        datatmp=seq.groupby(['unique_unit_id','phase_num'])['action'].aggregate('first').unstack()\n",
    "        unit_counts=datatmp.nunique(axis=1)\n",
    "        tridat=np.asarray(triple['triple'])\n",
    "        joint_counts=[len(datatmp.loc[np.asarray(triple['triple'])[same_pair_inds]].T.drop_duplicates()), \\\n",
    "                      len(datatmp.loc[np.asarray(triple['triple'])[diff_pair_inds]].T.drop_duplicates())]\n",
    "        factor_same=np.prod(unit_counts[tridat[same_pair_inds]].values)/joint_counts[0]\n",
    "        factor_different=np.prod(unit_counts.loc[tridat[diff_pair_inds]].values)/joint_counts[1]\n",
    "        samediff_count_list.append((factor_same,factor_different))\n",
    "    else:\n",
    "        samediff_count_list.append(None)"
   ]
  },
  {
   "cell_type": "code",
   "execution_count": 179,
   "metadata": {},
   "outputs": [
    {
     "data": {
      "image/png": "[encoded data removed]",
      "text/plain": [
       "<Figure size 432x288 with 1 Axes>"
      ]
     },
     "metadata": {
      "needs_background": "light"
     },
     "output_type": "display_data"
    }
   ],
   "source": [
    "fig,ax=plt.subplots()\n",
    "for data in zip(*filter(None,samediff_count_list)):\n",
    "    counts,bins=np.histogram(data)\n",
    "    ax.plot(bins[:-1],counts)"
   ]
  },
  {
   "cell_type": "markdown",
   "metadata": {},
   "source": [
    "### VS Mine"
   ]
  },
  {
   "cell_type": "code",
   "execution_count": 180,
   "metadata": {},
   "outputs": [],
   "source": [
    "samediff_count_list_2 = (df.factor_same.values, df.factor_diff.values)"
   ]
  },
  {
   "cell_type": "code",
   "execution_count": 181,
   "metadata": {},
   "outputs": [],
   "source": [
    "a = zip(samediff_count_list_2[0],samediff_count_list_2[1])"
   ]
  },
  {
   "cell_type": "code",
   "execution_count": 182,
   "metadata": {},
   "outputs": [
    {
     "data": {
      "image/png": "[encoded data removed]",
      "text/plain": [
       "<Figure size 432x288 with 1 Axes>"
      ]
     },
     "metadata": {
      "needs_background": "light"
     },
     "output_type": "display_data"
    }
   ],
   "source": [
    "fig,ax=plt.subplots()\n",
    "for data in zip(*filter(None,a)):\n",
    "    counts,bins=np.histogram(data)\n",
    "    ax.plot(bins[:-1],counts)"
   ]
  },
  {
   "cell_type": "code",
   "execution_count": null,
   "metadata": {},
   "outputs": [],
   "source": []
  }
 ],
 "metadata": {
  "interpreter": {
   "hash": "519c3646e46e87a9b4521f30b0c71a5bab07601a45b52f63f01adb46cf5a2090"
  },
  "kernelspec": {
   "display_name": "Python 3.8.12 ('marl')",
   "language": "python",
   "name": "python3"
  },
  "language_info": {
   "codemirror_mode": {
    "name": "ipython",
    "version": 3
   },
   "file_extension": ".py",
   "mimetype": "text/x-python",
   "name": "python",
   "nbconvert_exporter": "python",
   "pygments_lexer": "ipython3",
   "version": "3.8.12"
  },
  "orig_nbformat": 4
 },
 "nbformat": 4,
 "nbformat_minor": 2
}
