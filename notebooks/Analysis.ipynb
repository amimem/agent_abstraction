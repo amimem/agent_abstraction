{
 "cells": [
  {
   "cell_type": "markdown",
   "metadata": {},
   "source": [
    "# Analyzing results"
   ]
  },
  {
   "cell_type": "code",
   "execution_count": null,
   "metadata": {},
   "outputs": [],
   "source": [
    "import sys,os\n",
    "root_path = os.path.abspath(os.path.join('..'))\n",
    "if root_path not in sys.path:\n",
    "    sys.path.append(root_path)\n",
    "%load_ext autoreload\n",
    "%autoreload 2\n",
    "%matplotlib inline"
   ]
  },
  {
   "cell_type": "code",
   "execution_count": null,
   "metadata": {},
   "outputs": [],
   "source": [
    "from lib.utils import utils\n",
    "import pandas as pd\n",
    "import json\n",
    "import numpy as np\n",
    "import matplotlib.pyplot as plt"
   ]
  },
  {
   "cell_type": "markdown",
   "metadata": {},
   "source": [
    "## Computing Triples"
   ]
  },
  {
   "cell_type": "markdown",
   "metadata": {},
   "source": [
    "### Get a number of games"
   ]
  },
  {
   "cell_type": "code",
   "execution_count": null,
   "metadata": {},
   "outputs": [],
   "source": [
    "start_index = 0\n",
    "num_games = 100\n",
    "path = \"../data/diplomacy-v1-27k-msgs/standard_no_press.jsonl\"\n",
    "games_jsons = utils.load_jsonl(path, num_games=num_games, mmap=False, completed_only=True)"
   ]
  },
  {
   "cell_type": "code",
   "execution_count": null,
   "metadata": {},
   "outputs": [],
   "source": [
    "# Convert to a pandas dataframe\n",
    "df = pd.DataFrame(games_jsons)"
   ]
  },
  {
   "cell_type": "code",
   "execution_count": null,
   "metadata": {},
   "outputs": [],
   "source": [
    "games = df['phases']\n",
    "games.apply(lambda x: x[0])"
   ]
  },
  {
   "cell_type": "code",
   "execution_count": null,
   "metadata": {},
   "outputs": [],
   "source": [
    "for game in games:\n",
    "    for ix, iy in enumerate(game):\n",
    "        game[ix]['phase_id'] = ix"
   ]
  },
  {
   "cell_type": "markdown",
   "metadata": {},
   "source": [
    "### Flatten json records"
   ]
  },
  {
   "cell_type": "code",
   "execution_count": null,
   "metadata": {},
   "outputs": [],
   "source": [
    "all_records = []\n",
    "for idx, game in enumerate(games):\n",
    "    for idx, phase in enumerate(game):\n",
    "        row_generator = utils.flatten_json(phase)\n",
    "        assert row_generator is not None, row_generator\n",
    "        for row in row_generator:\n",
    "            all_records.append(row.copy())"
   ]
  },
  {
   "cell_type": "markdown",
   "metadata": {},
   "source": [
    "### Get the complete dataframe with an added column"
   ]
  },
  {
   "cell_type": "code",
   "execution_count": null,
   "metadata": {},
   "outputs": [],
   "source": [
    "complete_df = pd.DataFrame.from_records(all_records)\n",
    "complete_df['unique_unit_id'] = -1"
   ]
  },
  {
   "cell_type": "markdown",
   "metadata": {},
   "source": [
    "### Get the unique games in the dataframe"
   ]
  },
  {
   "cell_type": "code",
   "execution_count": null,
   "metadata": {},
   "outputs": [],
   "source": [
    "unique_games = complete_df[\"game_id\"].unique()"
   ]
  },
  {
   "cell_type": "markdown",
   "metadata": {},
   "source": [
    "### Do temporal binding of units"
   ]
  },
  {
   "cell_type": "code",
   "execution_count": null,
   "metadata": {},
   "outputs": [],
   "source": [
    "game_phase_df_list = []\n",
    "for idx, game_id in enumerate(unique_games):\n",
    "    phases_df_list = []\n",
    "    print(idx, game_id, flush=True)\n",
    "    s_dict = {}\n",
    "    d_dict = {}\n",
    "    _id = 1\n",
    "    game_df = complete_df.loc[complete_df[\"game_id\"].apply(lambda x: x == game_id)]\n",
    "    unique_phases = game_df['phase_id'].unique()\n",
    "    for phase in unique_phases:\n",
    "        condition = game_df[\"phase_id\"].apply(lambda x: x == phase)\n",
    "        phase_df = game_df.loc[condition]\n",
    "        s_dict, d_dict, _id = utils.assign_unit_id(phase_df, s_dict, d_dict, _id)\n",
    "        phases_df_list.append(phase_df)\n",
    "    phases_cdf = pd.concat(phases_df_list)\n",
    "    dislodged_df = phases_cdf.loc[phases_cdf['action'] == -2].copy()\n",
    "    utils.replace_dislodged_units(phases_cdf, dislodged_df)\n",
    "    game_phase_df_list.append(phases_cdf)"
   ]
  },
  {
   "cell_type": "code",
   "execution_count": null,
   "metadata": {},
   "outputs": [],
   "source": [
    "cdf = pd.concat(game_phase_df_list)"
   ]
  },
  {
   "cell_type": "markdown",
   "metadata": {},
   "source": [
    "### Assert no invalid rows are left"
   ]
  },
  {
   "cell_type": "code",
   "execution_count": null,
   "metadata": {},
   "outputs": [],
   "source": [
    "assert cdf.loc[cdf['coordinator'] == 'RA'].empty"
   ]
  },
  {
   "cell_type": "code",
   "execution_count": null,
   "metadata": {},
   "outputs": [],
   "source": [
    "cdf.loc[cdf['unique_unit_id'].apply(lambda x: x == 1)].head()"
   ]
  },
  {
   "cell_type": "markdown",
   "metadata": {},
   "source": [
    "### Filter out adjustment and retreat seasons"
   ]
  },
  {
   "cell_type": "code",
   "execution_count": null,
   "metadata": {},
   "outputs": [],
   "source": [
    "spring_fall_phases=(cdf['phase_name'].apply(lambda x:x[0])!='W') & (cdf['phase_name'].apply(lambda x:x[-1])!='R') & (cdf['phase_name'].apply(lambda x:x[-1]) == 'M')\n",
    "cdf_sf = cdf.loc[spring_fall_phases].copy()\n",
    "cdf_sf['phase_num']=cdf_sf.phase_name.apply(lambda x: float(x[1:-1]+('.0' if x[0]=='S' else '.5')))"
   ]
  },
  {
   "cell_type": "code",
   "execution_count": null,
   "metadata": {},
   "outputs": [],
   "source": [
    "cdf_sf.head()"
   ]
  },
  {
   "cell_type": "markdown",
   "metadata": {},
   "source": [
    "### Get the triples' presence based on the filtered dataframe"
   ]
  },
  {
   "cell_type": "code",
   "execution_count": null,
   "metadata": {},
   "outputs": [],
   "source": [
    "game_triple_presence = {}\n",
    "# lens = []\n",
    "for idx, game_id in enumerate(unique_games):\n",
    "    assert type(game_id) is str, (game_id, \"is not a string\")\n",
    "    print(idx, game_id)\n",
    "    game_df = cdf_sf.loc[cdf_sf['game_id'] == game_id]\n",
    "    \n",
    "    if game_df.unique_unit_id.nunique() == game_df.unique_unit_id.max():\n",
    "        triples = utils.get_triples(game_df)\n",
    "        # lens.append(len(triples))\n",
    "        try:\n",
    "            emp = utils.get_triples_presence(game_df, triples)\n",
    "            print(emp, len(triples))\n",
    "            game_triple_presence[game_id] = triples\n",
    "        except AssertionError as msg:\n",
    "            print(msg)\n",
    "    # if idx == 0:\n",
    "    #     break"
   ]
  },
  {
   "cell_type": "markdown",
   "metadata": {},
   "source": [
    "## Get n-tuples"
   ]
  },
  {
   "cell_type": "code",
   "execution_count": null,
   "metadata": {},
   "outputs": [],
   "source": [
    "game_tuple_presence = {}\n",
    "lens = []\n",
    "for idx, game_id in enumerate(unique_games):\n",
    "    assert type(game_id) is str, (game_id, \"is not a string\")\n",
    "    print(idx, game_id)\n",
    "    game_df = cdf_sf.loc[cdf_sf['game_id'] == game_id]\n",
    "\n",
    "    if game_df.unique_unit_id.nunique() == game_df.unique_unit_id.max():\n",
    "        tuples = utils.get_n_tuples(game_df)\n",
    "        random_tuples = utils.get_random_samples(tuples, 5)\n",
    "        tuple_lens = [len(tuples[n]) for n in tuples]\n",
    "        lens.append(tuple_lens)\n",
    "        try:\n",
    "            ret_dict = utils.get_tuples_presence(game_df, random_tuples)\n",
    "            print(emp)\n",
    "            game_tuple_presence[game_id] = ret_dict\n",
    "        except Exception as msg:\n",
    "            print(msg)\n",
    "    if idx == 0:\n",
    "        break"
   ]
  },
  {
   "cell_type": "code",
   "execution_count": null,
   "metadata": {},
   "outputs": [],
   "source": [
    "game_tuple_presence"
   ]
  },
  {
   "cell_type": "code",
   "execution_count": null,
   "metadata": {},
   "outputs": [],
   "source": [
    "tuples[0].keys()"
   ]
  },
  {
   "cell_type": "code",
   "execution_count": null,
   "metadata": {},
   "outputs": [],
   "source": [
    "sum(lens[0])\n"
   ]
  },
  {
   "cell_type": "code",
   "execution_count": null,
   "metadata": {},
   "outputs": [],
   "source": [
    "all_records = []\n",
    "for row in utils.gen_tuple_rows(game_tuple_presence):\n",
    "    all_records.append(row.copy())"
   ]
  },
  {
   "cell_type": "code",
   "execution_count": null,
   "metadata": {},
   "outputs": [],
   "source": [
    "df = df.from_records(all_records)"
   ]
  },
  {
   "cell_type": "code",
   "execution_count": null,
   "metadata": {},
   "outputs": [],
   "source": [
    "df = df.dropna()"
   ]
  },
  {
   "cell_type": "code",
   "execution_count": null,
   "metadata": {},
   "outputs": [],
   "source": [
    "df[\"mult\"] = df.unit_counts.apply(lambda x: np.prod(x))"
   ]
  },
  {
   "cell_type": "code",
   "execution_count": null,
   "metadata": {},
   "outputs": [],
   "source": [
    "df"
   ]
  },
  {
   "cell_type": "code",
   "execution_count": null,
   "metadata": {},
   "outputs": [],
   "source": [
    "df.max_min_diff.value_counts().sort_index()"
   ]
  },
  {
   "cell_type": "code",
   "execution_count": null,
   "metadata": {},
   "outputs": [],
   "source": [
    "df.to_hdf('../data/neww.h5', key='df', mode='w')"
   ]
  },
  {
   "cell_type": "code",
   "execution_count": null,
   "metadata": {},
   "outputs": [],
   "source": [
    "pd.read_hdf('../data/neww.h5', key='df')"
   ]
  },
  {
   "cell_type": "code",
   "execution_count": null,
   "metadata": {},
   "outputs": [],
   "source": [
    "df.loc[df.k == 5]"
   ]
  },
  {
   "cell_type": "code",
   "execution_count": null,
   "metadata": {},
   "outputs": [],
   "source": [
    "np_lens = np.array(lens)"
   ]
  },
  {
   "cell_type": "code",
   "execution_count": null,
   "metadata": {},
   "outputs": [],
   "source": [
    "df = pd.DataFrame(np_lens)"
   ]
  },
  {
   "cell_type": "code",
   "execution_count": null,
   "metadata": {},
   "outputs": [],
   "source": [
    "np_sum = np_lens.sum(axis=0)"
   ]
  },
  {
   "cell_type": "code",
   "execution_count": null,
   "metadata": {},
   "outputs": [],
   "source": [
    "import seaborn as sns\n",
    "sns.pointplot(x = np.arange(len(np_sum)), y = np_sum).set_title('total numebr of 5-tuples for 100 games, k = 0,1,2,3,4')"
   ]
  },
  {
   "cell_type": "code",
   "execution_count": null,
   "metadata": {},
   "outputs": [],
   "source": [
    "lens\n",
    "sns.lineplot(x = np.arange(len(lens)), y = lens).set_title(f'triples lens ove 100 games with sum = {sum(lens)}')"
   ]
  },
  {
   "cell_type": "markdown",
   "metadata": {},
   "source": [
    "### Save json file if necessary"
   ]
  },
  {
   "cell_type": "code",
   "execution_count": null,
   "metadata": {},
   "outputs": [],
   "source": [
    "name = \"whatever\"\n",
    "with open(f'{name}.json', 'w') as file:          \n",
    "    json.dump(game_triple_presence, file, indent=4, sort_keys=True,)"
   ]
  },
  {
   "cell_type": "code",
   "execution_count": null,
   "metadata": {},
   "outputs": [],
   "source": [
    "cdf_sf[cdf_sf[\"unique_unit_id\"].apply(lambda x: x == 1)].head(20)"
   ]
  },
  {
   "cell_type": "markdown",
   "metadata": {},
   "source": [
    "## Analyze the gathered triples"
   ]
  },
  {
   "cell_type": "code",
   "execution_count": null,
   "metadata": {},
   "outputs": [],
   "source": [
    "path = \"\"\n",
    "with open(f'{path}', 'r') as file:\n",
    "    game_triple_presence = json.load(file)"
   ]
  },
  {
   "cell_type": "code",
   "execution_count": null,
   "metadata": {},
   "outputs": [],
   "source": [
    "list(game_triple_presence.values())[0][0]"
   ]
  },
  {
   "cell_type": "code",
   "execution_count": null,
   "metadata": {},
   "outputs": [],
   "source": [
    "game_id = list(game_triple_presence.keys())[0]"
   ]
  },
  {
   "cell_type": "code",
   "execution_count": null,
   "metadata": {},
   "outputs": [],
   "source": [
    "all_records = []\n",
    "for row in utils.gen_triple_rows(game_triple_presence):\n",
    "    all_records.append(row.copy())"
   ]
  },
  {
   "cell_type": "code",
   "execution_count": null,
   "metadata": {},
   "outputs": [],
   "source": [
    "df = pd.DataFrame.from_records(all_records)"
   ]
  },
  {
   "cell_type": "code",
   "execution_count": null,
   "metadata": {},
   "outputs": [],
   "source": [
    "df = df.dropna()"
   ]
  },
  {
   "cell_type": "code",
   "execution_count": null,
   "metadata": {},
   "outputs": [],
   "source": [
    "df.reset_index(inplace=True)"
   ]
  },
  {
   "cell_type": "code",
   "execution_count": null,
   "metadata": {},
   "outputs": [],
   "source": [
    "df.head()"
   ]
  },
  {
   "cell_type": "markdown",
   "metadata": {},
   "source": [
    "### Plotting"
   ]
  },
  {
   "cell_type": "code",
   "execution_count": null,
   "metadata": {},
   "outputs": [],
   "source": [
    "samediff_count_list = (df.factor_same.values, df.factor_diff.values)"
   ]
  },
  {
   "cell_type": "code",
   "execution_count": null,
   "metadata": {},
   "outputs": [],
   "source": [
    "a = zip(samediff_count_list[0],samediff_count_list[1])"
   ]
  },
  {
   "cell_type": "code",
   "execution_count": null,
   "metadata": {},
   "outputs": [],
   "source": [
    "fig,ax=plt.subplots()\n",
    "for data in zip(*filter(None,a)):\n",
    "    counts,bins=np.histogram(data)\n",
    "    ax.plot(bins[:-1],counts)"
   ]
  },
  {
   "cell_type": "code",
   "execution_count": null,
   "metadata": {},
   "outputs": [],
   "source": [
    "import seaborn as sns"
   ]
  },
  {
   "cell_type": "code",
   "execution_count": null,
   "metadata": {},
   "outputs": [],
   "source": [
    "h5_array = []\n",
    "for i in range(11):\n",
    "    if i == 9:\n",
    "        continue\n",
    "    path = f\"path_{i*100}_{(i+1)*100 - 10}_{10}.h5\"\n",
    "    \n",
    "    try:\n",
    "        # with open(f'{path}', 'r') as file:\n",
    "        #     game_triple_presence = json.load(file)\n",
    "        df = pd.read_hdf(path, key='df')\n",
    "        h5_array.append(df)\n",
    "        print(\"appended\", path)\n",
    "\n",
    "    except Exception as e:\n",
    "        print(\"path does not exist\", path, e)\n",
    "\n",
    "cdf = pd.concat(h5_array)\n",
    "del h5_array"
   ]
  },
  {
   "cell_type": "code",
   "execution_count": null,
   "metadata": {},
   "outputs": [],
   "source": [
    "sliced_df = cdf[[\"min_phase_num\" , \"max_min_diff\", \"unit_counts\", \"joint\", \"k\"]]"
   ]
  },
  {
   "cell_type": "code",
   "execution_count": null,
   "metadata": {},
   "outputs": [],
   "source": [
    "del cdf"
   ]
  },
  {
   "cell_type": "code",
   "execution_count": null,
   "metadata": {},
   "outputs": [],
   "source": [
    "sliced_df.count()"
   ]
  },
  {
   "cell_type": "code",
   "execution_count": null,
   "metadata": {},
   "outputs": [],
   "source": [
    "sliced_df['prod'] = sliced_df.unit_counts.apply(lambda x: np.prod(x))"
   ]
  },
  {
   "cell_type": "code",
   "execution_count": null,
   "metadata": {},
   "outputs": [],
   "source": [
    "sliced_df['factor'] = sliced_df['prod'] / sliced_df['joint']"
   ]
  },
  {
   "cell_type": "code",
   "execution_count": null,
   "metadata": {},
   "outputs": [],
   "source": [
    "sliced_df.head()"
   ]
  },
  {
   "cell_type": "code",
   "execution_count": null,
   "metadata": {},
   "outputs": [],
   "source": [
    "def dummy_func(x):\n",
    "    counts_df = x.diff_sign.value_counts()\n",
    "    return counts_df[1]/(counts_df[1] + counts_df[-1])"
   ]
  },
  {
   "cell_type": "code",
   "execution_count": null,
   "metadata": {},
   "outputs": [],
   "source": [
    "gp_df = sliced_df.groupby(['min_phase_num', 'max_min_diff']).apply(lambda x: x.factor.mean())"
   ]
  },
  {
   "cell_type": "code",
   "execution_count": null,
   "metadata": {},
   "outputs": [],
   "source": [
    "gp_df_k = sliced_df.groupby(['k', 'min_phase_num']).apply(lambda x: x.factor.mean())"
   ]
  },
  {
   "cell_type": "code",
   "execution_count": null,
   "metadata": {},
   "outputs": [],
   "source": [
    "gp_df_k_diff = sliced_df.groupby(['k', 'max_min_diff']).apply(lambda x: x.factor.mean())"
   ]
  },
  {
   "cell_type": "code",
   "execution_count": null,
   "metadata": {},
   "outputs": [],
   "source": [
    "gp_df_kw = sliced_df.groupby(['k', 'min_phase_num', 'max_min_diff']).apply(lambda x: x.factor.mean())"
   ]
  },
  {
   "cell_type": "code",
   "execution_count": null,
   "metadata": {},
   "outputs": [],
   "source": [
    "sliced_df"
   ]
  },
  {
   "cell_type": "code",
   "execution_count": null,
   "metadata": {},
   "outputs": [],
   "source": [
    "import seaborn as sns"
   ]
  },
  {
   "cell_type": "code",
   "execution_count": null,
   "metadata": {},
   "outputs": [],
   "source": [
    "def dummy_func(x):\n",
    "    counts_df = x.diff_sign.value_counts()\n",
    "    if 1 in counts_df.index:\n",
    "        one_counts = counts_df.loc[1]\n",
    "    else:\n",
    "        one_counts = 0\n",
    "    if -1 in counts_df.index:\n",
    "        minus_one_counts = counts_df.loc[-1]\n",
    "    else:\n",
    "        minus_one_counts = 0\n",
    "    \n",
    "    if (one_counts + minus_one_counts) == 0:\n",
    "        print(x.max_min_diff)\n",
    "        return np.NaN\n",
    "    else:\n",
    "        return one_counts/(one_counts + minus_one_counts)"
   ]
  },
  {
   "cell_type": "code",
   "execution_count": null,
   "metadata": {},
   "outputs": [],
   "source": [
    "cdf = pd.read_hdf('path', key='df')"
   ]
  },
  {
   "cell_type": "code",
   "execution_count": null,
   "metadata": {},
   "outputs": [],
   "source": [
    "cdf['diff'] = cdf['factor_same'] - cdf['factor_diff']\n",
    "cdf['diff_sign'] = np.sign(cdf['diff'])\n",
    "gp_df = cdf.groupby(['min_phase_num', 'max_min_diff']).apply(dummy_func)\n",
    "gp_df = gp_df.dropna()"
   ]
  },
  {
   "cell_type": "code",
   "execution_count": null,
   "metadata": {},
   "outputs": [],
   "source": [
    "fig = plt.figure(figsize=(6,6))\n",
    "ax = fig.add_subplot(111)\n",
    "sns.heatmap(gp_df.unstack().T, xticklabels= 6, yticklabels= 6, ax=ax, vmin=0.4, vmax=0.65)\n",
    "ax.set_xlabel(\"Year\")\n",
    "ax.set_ylabel(\"Window Size, w\")\n",
    "ax.set_title(\"Mean factor\")\n",
    "x_labels = [str(x.get_text()[:-2]) for x in ax.get_xticklabels()]\n",
    "ax.set_xticklabels(x_labels)\n",
    "ax.set_yticklabels(ax.get_yticklabels(), rotation=0)\n",
    "ax.invert_yaxis()\n",
    "fig.tight_layout()\n",
    "fig.savefig('factor_heatmap.pdf', dpi=300, bbox_inches='tight')"
   ]
  },
  {
   "cell_type": "code",
   "execution_count": null,
   "metadata": {},
   "outputs": [],
   "source": [
    "fig = plt.figure(figsize=(6,6))\n",
    "ax = fig.add_subplot(111)\n",
    "sns.heatmap(gp_df_k.unstack().T, xticklabels= 2, yticklabels= 6, ax=ax)\n",
    "sns.lineplot()\n",
    "ax.set_xlabel(\"k\")\n",
    "ax.set_ylabel(\"Year\")\n",
    "ax.set_title(\"Mean factor\")\n",
    "# x_labels = [str(x.get_text()[:-2]) for x in ax.get_xticklabels()]\n",
    "# ax.set_xticklabels(x_labels)\n",
    "# ax.set_yticklabels(ax.get_yticklabels(), rotation=0)\n",
    "ax.invert_yaxis()\n",
    "fig.tight_layout()\n",
    "fig.savefig('factor_heatmap_k.pdf', dpi=300, bbox_inches='tight')"
   ]
  },
  {
   "cell_type": "code",
   "execution_count": null,
   "metadata": {},
   "outputs": [],
   "source": [
    "fig = plt.figure(figsize=(3.5, 2.5))\n",
    "ax = fig.add_subplot(111)\n",
    "gp_df_k.unstack().T.plot(ax=ax,cmap=\"viridis_r\")\n",
    "# x_labels = [str(x.get_text()[:-2]) for x in ax.get_xticklabels()]\n",
    "ax.set_xticks([x for idx, x in enumerate(gp_df_k.unstack().T.index.tolist()) if idx % 3 == 0])\n",
    "# ax.set_xticklabels(labels=ax.get_xticklabels(), rotation=45)\n",
    "for label in ax.get_xticklabels():\n",
    "    label.set_rotation(90)\n",
    "ax.set_xlabel(r\"Year\")\n",
    "ax.set_ylabel(r\"Compression Factor, $Q$\")\n",
    "# ax.set_label(\"k\")\n",
    "ax.legend([x for x in ax.get_legend_handles_labels()[1]], prop={'size': 9}, frameon=False, bbox_to_anchor=(1.05, 1))\n",
    "\n",
    "fig.tight_layout()\n",
    "fig.savefig('factor_heatmap_k_year.pdf', dpi=300, bbox_inches='tight')"
   ]
  },
  {
   "cell_type": "code",
   "execution_count": null,
   "metadata": {},
   "outputs": [],
   "source": [
    "fig = plt.figure(figsize=(2,2))\n",
    "ax = fig.add_subplot(111)\n",
    "gp_df_k_diff.unstack().T.mean(axis=1).plot(ax=ax, legend=False)\n",
    "# ax.set_xticks([x for idx, x in enumerate(gp_df_k_diff.unstack().T.index.tolist()) if idx % 10 == 0])\n",
    "ax.set_xticks(np.arange(0, 21, 5))\n",
    "ax.set_xlim(0, 20)\n",
    "ax.set_ylim(0, 15)\n",
    "ax.set_xlabel(\"Window Size, w\")\n",
    "ax.set_ylabel(\"Mean Factor\")\n",
    "ax.grid(True)\n",
    "# ax.legend(['k = ' + x for x in ax.get_legend_handles_labels()[1]], prop={'size': 9}, frameon=False)\n",
    "\n",
    "fig.tight_layout()\n",
    "fig.savefig('factor_heatmap_k_window.pdf', dpi=300, bbox_inches='tight')"
   ]
  },
  {
   "cell_type": "code",
   "execution_count": null,
   "metadata": {},
   "outputs": [],
   "source": [
    "gp_df_k.unstack().T.index"
   ]
  },
  {
   "cell_type": "code",
   "execution_count": null,
   "metadata": {},
   "outputs": [],
   "source": [
    "fig = plt.figure(figsize=(6,6))\n",
    "ax = fig.add_subplot(111)\n",
    "sns.heatmap(gp_df_k.unstack().T, xticklabels= 2, yticklabels= 6, ax=ax)\n",
    "plt.cm.inferno_r(0.5)\n",
    "ax.set_xlabel(\"k\")\n",
    "ax.set_ylabel(\"Window Size, w\")\n",
    "ax.set_title(\"Mean factor\")\n",
    "# x_labels = [str(x.get_text()[:-2]) for x in ax.get_xticklabels()]\n",
    "# ax.set_xticklabels(x_labels)\n",
    "# ax.set_yticklabels(ax.get_yticklabels(), rotation=0)\n",
    "ax.invert_yaxis()\n",
    "fig.tight_layout()\n",
    "fig.savefig('factor_heatmap_k.pdf', dpi=300, bbox_inches='tight')"
   ]
  }
 ],
 "metadata": {
  "interpreter": {
   "hash": "519c3646e46e87a9b4521f30b0c71a5bab07601a45b52f63f01adb46cf5a2090"
  },
  "kernelspec": {
   "display_name": "Python 3.8.12 ('marl')",
   "language": "python",
   "name": "python3"
  },
  "language_info": {
   "codemirror_mode": {
    "name": "ipython",
    "version": 3
   },
   "file_extension": ".py",
   "mimetype": "text/x-python",
   "name": "python",
   "nbconvert_exporter": "python",
   "pygments_lexer": "ipython3",
   "version": "3.8.12"
  },
  "orig_nbformat": 4
 },
 "nbformat": 4,
 "nbformat_minor": 2
}
