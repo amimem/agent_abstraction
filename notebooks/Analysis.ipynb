{
 "cells": [
  {
   "cell_type": "markdown",
   "metadata": {},
   "source": [
    "# Analyzing results"
   ]
  },
  {
   "cell_type": "code",
   "execution_count": 1,
   "metadata": {},
   "outputs": [
    {
     "name": "stdout",
     "output_type": "stream",
     "text": [
      "/Users/ens/repos/marl\n"
     ]
    }
   ],
   "source": [
    "import sys,os\n",
    "root_path = os.path.abspath(os.path.join('..'))\n",
    "print(root_path)\n",
    "if root_path not in sys.path:\n",
    "    sys.path.append(root_path)\n",
    "%run -i \"../lib/utils/utils.py\"\n",
    "%load_ext autoreload\n",
    "%autoreload 2\n",
    "%matplotlib inline"
   ]
  },
  {
   "cell_type": "markdown",
   "metadata": {},
   "source": [
    "## Computing Triples"
   ]
  },
  {
   "cell_type": "markdown",
   "metadata": {},
   "source": [
    "### Get a number of games"
   ]
  },
  {
   "cell_type": "code",
   "execution_count": null,
   "metadata": {},
   "outputs": [],
   "source": [
    "start_index = 0\n",
    "num_games = 100\n",
    "path = \"../data/diplomacy-v1-27k-msgs/standard_no_press.jsonl\"\n",
    "games_jsons = load_jsonl(path, num_games=num_games, mmap=False, completed_only=True)"
   ]
  },
  {
   "cell_type": "code",
   "execution_count": null,
   "metadata": {},
   "outputs": [],
   "source": [
    "# Convert to a pandas dataframe\n",
    "df = pd.DataFrame(games_jsons)"
   ]
  },
  {
   "cell_type": "code",
   "execution_count": null,
   "metadata": {},
   "outputs": [],
   "source": [
    "games = df['phases']\n",
    "games.apply(lambda x: x[0])"
   ]
  },
  {
   "cell_type": "code",
   "execution_count": null,
   "metadata": {},
   "outputs": [],
   "source": [
    "for game in games:\n",
    "    for ix, iy in enumerate(game):\n",
    "        game[ix]['phase_id'] = ix"
   ]
  },
  {
   "cell_type": "markdown",
   "metadata": {},
   "source": [
    "### Flatten json records"
   ]
  },
  {
   "cell_type": "code",
   "execution_count": null,
   "metadata": {},
   "outputs": [],
   "source": [
    "all_records = []\n",
    "for idx, game in enumerate(games):\n",
    "    for idx, phase in enumerate(game):\n",
    "        row_generator = flatten_json(phase)\n",
    "        assert row_generator is not None, row_generator\n",
    "        for row in row_generator:\n",
    "            all_records.append(row.copy())"
   ]
  },
  {
   "cell_type": "markdown",
   "metadata": {},
   "source": [
    "### Get the complete dataframe with an added column"
   ]
  },
  {
   "cell_type": "code",
   "execution_count": null,
   "metadata": {},
   "outputs": [],
   "source": [
    "complete_df = pd.DataFrame.from_records(all_records)\n",
    "complete_df['unique_unit_id'] = -1"
   ]
  },
  {
   "cell_type": "markdown",
   "metadata": {},
   "source": [
    "### Get the unique games in the dataframe"
   ]
  },
  {
   "cell_type": "code",
   "execution_count": null,
   "metadata": {},
   "outputs": [],
   "source": [
    "unique_games = complete_df[\"game_id\"].unique()"
   ]
  },
  {
   "cell_type": "markdown",
   "metadata": {},
   "source": [
    "### Do temporal binding of units"
   ]
  },
  {
   "cell_type": "code",
   "execution_count": null,
   "metadata": {},
   "outputs": [],
   "source": [
    "game_phase_df_list = []\n",
    "for idx, game_id in enumerate(unique_games):\n",
    "    phases_df_list = []\n",
    "    print(idx, game_id, flush=True)\n",
    "    s_dict = {}\n",
    "    d_dict = {}\n",
    "    _id = 1\n",
    "    game_df = complete_df.loc[complete_df[\"game_id\"].apply(lambda x: x == game_id)]\n",
    "    unique_phases = game_df['phase_id'].unique()\n",
    "    for phase in unique_phases:\n",
    "        condition = game_df[\"phase_id\"].apply(lambda x: x == phase)\n",
    "        phase_df = game_df.loc[condition]\n",
    "        s_dict, d_dict, _id = assign_unit_id(phase_df, s_dict, d_dict, _id, discard_disband_creation=False)\n",
    "        phases_df_list.append(phase_df)\n",
    "    phases_cdf = pd.concat(phases_df_list)\n",
    "    dislodged_df = phases_cdf.loc[phases_cdf['action'] == -2].copy()\n",
    "    replace_dislodged_units(phases_cdf, dislodged_df)\n",
    "    game_phase_df_list.append(phases_cdf)\n"
   ]
  },
  {
   "cell_type": "code",
   "execution_count": null,
   "metadata": {},
   "outputs": [],
   "source": [
    "cdf = pd.concat(game_phase_df_list)"
   ]
  },
  {
   "cell_type": "markdown",
   "metadata": {},
   "source": [
    "### Assert no invalid rows are left"
   ]
  },
  {
   "cell_type": "code",
   "execution_count": null,
   "metadata": {},
   "outputs": [],
   "source": [
    "assert cdf.loc[cdf['coordinator'] == 'RA'].empty"
   ]
  },
  {
   "cell_type": "markdown",
   "metadata": {},
   "source": [
    "### Filter out adjustment and retreat seasons"
   ]
  },
  {
   "cell_type": "code",
   "execution_count": null,
   "metadata": {},
   "outputs": [],
   "source": [
    "spring_fall_phases=(cdf['phase_name'].apply(lambda x:x[0])!='W') & (cdf['phase_name'].apply(lambda x:x[-1])!='R') & (cdf['phase_name'].apply(lambda x:x[-1]) == 'M')\n",
    "cdf_sf = cdf.loc[spring_fall_phases].copy()\n",
    "cdf_sf['phase_num']=cdf_sf.phase_name.apply(lambda x: float(x[1:-1]+('.0' if x[0]=='S' else '.5')))"
   ]
  },
  {
   "cell_type": "markdown",
   "metadata": {},
   "source": [
    "### Get the triples' presence based on the filtered dataframe"
   ]
  },
  {
   "cell_type": "code",
   "execution_count": null,
   "metadata": {},
   "outputs": [],
   "source": [
    "game_tiple_presence = {}\n",
    "for idx, game_id in enumerate(unique_games):\n",
    "    assert type(game_id) is str, (game_id, \"is not a string\")\n",
    "    print(idx, game_id, flush=True)\n",
    "    game_df = cdf_sf.loc[cdf_sf['game_id'] == game_id]\n",
    "    \n",
    "    if game_df.unique_unit_id.nunique() == game_df.unique_unit_id.max():\n",
    "        triples = get_triples(game_df)\n",
    "        try:\n",
    "            emp = get_triples_presence(game_df, triples)\n",
    "            print(emp, len(triples), flush=True)\n",
    "            game_tiple_presence[game_id] = triples\n",
    "        except AssertionError as msg:\n",
    "            print(msg, flush=True)"
   ]
  },
  {
   "cell_type": "markdown",
   "metadata": {},
   "source": [
    "### Save json file if necessary"
   ]
  },
  {
   "cell_type": "code",
   "execution_count": null,
   "metadata": {},
   "outputs": [],
   "source": [
    "    name = \"whatever\"\n",
    "    with open(f'{name}.json', 'w') as file:          \n",
    "        json.dump(game_tiple_presence, file, indent=4, sort_keys=True,)"
   ]
  },
  {
   "cell_type": "markdown",
   "metadata": {},
   "source": [
    "## Analyze the gathered triples"
   ]
  },
  {
   "cell_type": "code",
   "execution_count": 2,
   "metadata": {},
   "outputs": [],
   "source": [
    "path = \"\"\n",
    "with open(f'{path}', 'r') as file:          \n",
    "    game_tiple_presence = json.load(file)"
   ]
  },
  {
   "cell_type": "code",
   "execution_count": 3,
   "metadata": {},
   "outputs": [
    {
     "data": {
      "text/plain": [
       "dict_keys(['rW_Q9TpidGLGD2EL'])"
      ]
     },
     "execution_count": 3,
     "metadata": {},
     "output_type": "execute_result"
    }
   ],
   "source": [
    "game_tiple_presence.keys()"
   ]
  },
  {
   "cell_type": "code",
   "execution_count": 4,
   "metadata": {},
   "outputs": [
    {
     "data": {
      "text/plain": [
       "{'max_min_diff': 1.5,\n",
       " 'max_phase_num': 1902.5,\n",
       " 'min_phase_num': 1901.0,\n",
       " 'player_i': 'AUSTRIA',\n",
       " 'player_j': 'ITALY',\n",
       " 'triple': [1, 2, 13]}"
      ]
     },
     "execution_count": 4,
     "metadata": {},
     "output_type": "execute_result"
    }
   ],
   "source": [
    "list(game_tiple_presence.values())[0][0]"
   ]
  },
  {
   "cell_type": "code",
   "execution_count": 7,
   "metadata": {},
   "outputs": [
    {
     "data": {
      "text/plain": [
       "1"
      ]
     },
     "execution_count": 7,
     "metadata": {},
     "output_type": "execute_result"
    }
   ],
   "source": [
    "len(game_tiple_presence)"
   ]
  },
  {
   "cell_type": "code",
   "execution_count": 12,
   "metadata": {},
   "outputs": [],
   "source": [
    "all_records = []\n",
    "for row in gen_triple_rows(game_tiple_presence):\n",
    "    all_records.append(row.copy())"
   ]
  },
  {
   "cell_type": "code",
   "execution_count": 15,
   "metadata": {},
   "outputs": [],
   "source": [
    "df = pd.DataFrame.from_records(all_records)"
   ]
  },
  {
   "cell_type": "code",
   "execution_count": 17,
   "metadata": {},
   "outputs": [
    {
     "data": {
      "text/html": [
       "<div>\n",
       "<style scoped>\n",
       "    .dataframe tbody tr th:only-of-type {\n",
       "        vertical-align: middle;\n",
       "    }\n",
       "\n",
       "    .dataframe tbody tr th {\n",
       "        vertical-align: top;\n",
       "    }\n",
       "\n",
       "    .dataframe thead th {\n",
       "        text-align: right;\n",
       "    }\n",
       "</style>\n",
       "<table border=\"1\" class=\"dataframe\">\n",
       "  <thead>\n",
       "    <tr style=\"text-align: right;\">\n",
       "      <th></th>\n",
       "      <th>game_id</th>\n",
       "      <th>player_i</th>\n",
       "      <th>player_j</th>\n",
       "      <th>min_phase_num</th>\n",
       "      <th>max_phase_num</th>\n",
       "      <th>triple</th>\n",
       "    </tr>\n",
       "  </thead>\n",
       "  <tbody>\n",
       "    <tr>\n",
       "      <th>0</th>\n",
       "      <td>rW_Q9TpidGLGD2EL</td>\n",
       "      <td>AUSTRIA</td>\n",
       "      <td>ITALY</td>\n",
       "      <td>1901.0</td>\n",
       "      <td>1902.5</td>\n",
       "      <td>[1, 2, 13]</td>\n",
       "    </tr>\n",
       "    <tr>\n",
       "      <th>1</th>\n",
       "      <td>rW_Q9TpidGLGD2EL</td>\n",
       "      <td>AUSTRIA</td>\n",
       "      <td>ITALY</td>\n",
       "      <td>1901.0</td>\n",
       "      <td>1902.5</td>\n",
       "      <td>[1, 2, 14]</td>\n",
       "    </tr>\n",
       "    <tr>\n",
       "      <th>2</th>\n",
       "      <td>rW_Q9TpidGLGD2EL</td>\n",
       "      <td>AUSTRIA</td>\n",
       "      <td>ITALY</td>\n",
       "      <td>1901.0</td>\n",
       "      <td>1902.5</td>\n",
       "      <td>[1, 2, 15]</td>\n",
       "    </tr>\n",
       "    <tr>\n",
       "      <th>3</th>\n",
       "      <td>rW_Q9TpidGLGD2EL</td>\n",
       "      <td>AUSTRIA</td>\n",
       "      <td>ITALY</td>\n",
       "      <td>1902.0</td>\n",
       "      <td>1902.5</td>\n",
       "      <td>[1, 2, 29]</td>\n",
       "    </tr>\n",
       "    <tr>\n",
       "      <th>4</th>\n",
       "      <td>rW_Q9TpidGLGD2EL</td>\n",
       "      <td>AUSTRIA</td>\n",
       "      <td>ITALY</td>\n",
       "      <td>NaN</td>\n",
       "      <td>NaN</td>\n",
       "      <td>[1, 2, 41]</td>\n",
       "    </tr>\n",
       "  </tbody>\n",
       "</table>\n",
       "</div>"
      ],
      "text/plain": [
       "            game_id player_i player_j  min_phase_num  max_phase_num  \\\n",
       "0  rW_Q9TpidGLGD2EL  AUSTRIA    ITALY         1901.0         1902.5   \n",
       "1  rW_Q9TpidGLGD2EL  AUSTRIA    ITALY         1901.0         1902.5   \n",
       "2  rW_Q9TpidGLGD2EL  AUSTRIA    ITALY         1901.0         1902.5   \n",
       "3  rW_Q9TpidGLGD2EL  AUSTRIA    ITALY         1902.0         1902.5   \n",
       "4  rW_Q9TpidGLGD2EL  AUSTRIA    ITALY            NaN            NaN   \n",
       "\n",
       "       triple  \n",
       "0  [1, 2, 13]  \n",
       "1  [1, 2, 14]  \n",
       "2  [1, 2, 15]  \n",
       "3  [1, 2, 29]  \n",
       "4  [1, 2, 41]  "
      ]
     },
     "execution_count": 17,
     "metadata": {},
     "output_type": "execute_result"
    }
   ],
   "source": [
    "df.head()"
   ]
  },
  {
   "cell_type": "code",
   "execution_count": null,
   "metadata": {},
   "outputs": [],
   "source": []
  }
 ],
 "metadata": {
  "interpreter": {
   "hash": "519c3646e46e87a9b4521f30b0c71a5bab07601a45b52f63f01adb46cf5a2090"
  },
  "kernelspec": {
   "display_name": "Python 3.8.12 ('marl')",
   "language": "python",
   "name": "python3"
  },
  "language_info": {
   "codemirror_mode": {
    "name": "ipython",
    "version": 3
   },
   "file_extension": ".py",
   "mimetype": "text/x-python",
   "name": "python",
   "nbconvert_exporter": "python",
   "pygments_lexer": "ipython3",
   "version": "3.8.12"
  },
  "orig_nbformat": 4
 },
 "nbformat": 4,
 "nbformat_minor": 2
}
